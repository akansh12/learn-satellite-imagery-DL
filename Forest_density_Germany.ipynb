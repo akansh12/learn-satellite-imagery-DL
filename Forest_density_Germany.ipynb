{
  "cells": [
    {
      "cell_type": "markdown",
      "metadata": {
        "id": "view-in-github",
        "colab_type": "text"
      },
      "source": [
        "<a href=\"https://colab.research.google.com/github/akansh12/learn-satellite-imagery-DL/blob/main/Forest_density_Germany.ipynb\" target=\"_parent\"><img src=\"https://colab.research.google.com/assets/colab-badge.svg\" alt=\"Open In Colab\"/></a>"
      ]
    },
    {
      "cell_type": "markdown",
      "metadata": {
        "id": "JV6DWH9UVZzr"
      },
      "source": [
        "#  Introduction to google Earth Engine/Satellite Images/Google Colab\n",
        "\n"
      ]
    },
    {
      "cell_type": "markdown",
      "source": [
        "# Some of the useful Links\n"
      ],
      "metadata": {
        "id": "5oQpi_j_BUVr"
      }
    },
    {
      "cell_type": "markdown",
      "metadata": {
        "tags": [],
        "id": "UPK4UM1sNi4R"
      },
      "source": [
        "\n",
        "\n",
        "\n",
        "### Useful links\n",
        "- [Google Earth Engine](https://earthengine.google.com)\n",
        "- [geemap.org](https://geemap.org)\n",
        "- [Google Earth Engine and geemap Python Tutorials](https://www.youtube.com/playlist?list=PLAxJ4-o7ZoPccOFv1dCwvGI6TYnirRTg3)"
      ]
    },
    {
      "cell_type": "markdown",
      "metadata": {
        "id": "TDelh4H7VZzt"
      },
      "source": [
        "## Introduction\n",
        "\n",
        "Google Earth Engine (GEE) is a cloud computing platform with a multi-petabyte catalog of satellite imagery and geospatial datasets. It enables scientists, researchers, and developers to analyze and visualize changes on the Earth’s surface. The geemap Python package provides GEE users with an intuitive interface to manipulate, analyze, and visualize geospatial big data interactively in a Jupyter-based environment\n",
        "\n",
        "What is the use of Satellite Images?\n",
        "\n",
        "1. Satellite imagery plays a typical role in understanding and addressing deforestation and reforestation. High-resolution satellite images provide a comprehensive and detailed view of forest cover and land use changes over time.\n",
        "\n",
        "2. By analyzing these images, scientists, conservationists, and policymakers can monitor deforestation rates, identify areas at risk, and assess the effectiveness of reforestation efforts. Satellite data enables the measurement of forest carbon stocks, the mapping of biodiversity hotspots, and the identification of illegal logging activities.\n",
        "\n",
        "3. It also facilitates the planning and implementation of reforestation projects by identifying suitable locations and monitoring their progress. Satellite imagery, therefore, serves as a valuable tool in the global efforts to combat deforestation, promote reforestation, and ensure the sustainable management of forests.\n",
        "\n",
        "\n",
        "## Our Task\n",
        "In this tutorial we will be to understand the basic idea on Earth engine,Geemap python package,  and calculate basic Indexes used to monitor forest/vegetation like: Normalized Difference Vegetation Index(NDVI), Enhanced Vegetation Index (EVI) and the Soil Adjusted Vegetation Index (SAVI).\n"
      ]
    },
    {
      "cell_type": "markdown",
      "source": [
        "\n",
        "## Requirements/  Prerequisite\n",
        "\n",
        "To follow this tutorial, you must first [sign up](https://earthengine.google.com/signup) for a [Google Earth Engine](https://earthengine.google.com/) account. Earth Engine is a cloud computing platform with a [multi-petabyte catalog](https://developers.google.com/earth-engine/datasets/) of satellite imagery and geospatial datasets. It is free for noncommercial use. To authenticate the Earth Engine Python API, see instructions [here](https://book.geemap.org/chapters/01_introduction.html#earth-engine-authentication).\n",
        "\n",
        "In this tutorial, we will use the [geemap](https://geemap.org) Python package to visualize and analyze the German vegetation. Geemap enables users to analyze and visualize Earth Engine datasets interactively within a Jupyter-based environment with minimal coding. To learn more about geemap, check out https://geemap.org.\n"
      ],
      "metadata": {
        "id": "vi2b3yibCZIe"
      }
    },
    {
      "cell_type": "markdown",
      "metadata": {
        "id": "O8X78SqCVZzu"
      },
      "source": [
        "## Installation of geemap package\n",
        "\n",
        "Uncomment the following line to install geemap if needed."
      ]
    },
    {
      "cell_type": "code",
      "execution_count": null,
      "metadata": {
        "id": "apYNNK4dVZzv"
      },
      "outputs": [],
      "source": [
        "!pip install geemap -q"
      ]
    },
    {
      "cell_type": "markdown",
      "metadata": {
        "id": "hx4g5VNHVZzy"
      },
      "source": [
        "## Import libraries\n",
        "\n",
        "Import the earthengine-api and geemap."
      ]
    },
    {
      "cell_type": "code",
      "execution_count": null,
      "metadata": {
        "id": "1hdVyWwxVZzz"
      },
      "outputs": [],
      "source": [
        "import ee\n",
        "import geemap"
      ]
    },
    {
      "cell_type": "markdown",
      "metadata": {
        "id": "As-ctOT0VZz0"
      },
      "source": [
        "## Creating an interactive map\n",
        "\n",
        "Specify the center point `[lat, lon]` and zoom level of the map."
      ]
    },
    {
      "cell_type": "code",
      "execution_count": null,
      "metadata": {
        "id": "J3uYEga6VZz2"
      },
      "outputs": [],
      "source": [
        "Map = geemap.Map(center=[51.1657, 10.4515], zoom=6)\n",
        "Map"
      ]
    },
    {
      "cell_type": "markdown",
      "source": [
        "## Exercise 1: Finding the Geograpical Coordinates of different places in Saarbrucken.\n",
        "\n",
        "    1. Discover the geographic coordinates of Saarbrücken as well as various locations such as restaurants, universities, and houses. Proceed to plot these coordinates on a map.\n",
        "    2. Adjust the zoom factor to 15 for a closer view on the map.\n",
        "\n",
        "- Hint use: Google Maps"
      ],
      "metadata": {
        "id": "G3lOlUrhiAoj"
      }
    },
    {
      "cell_type": "code",
      "source": [
        "#Exercise 1: Fill the Coordinates and zoom\n",
        "Map = geemap.Map(center=[], zoom =)\n",
        "Map"
      ],
      "metadata": {
        "id": "aLg5WmrmrnH-"
      },
      "execution_count": null,
      "outputs": []
    },
    {
      "cell_type": "markdown",
      "source": [
        "#### Example Solution"
      ],
      "metadata": {
        "id": "aNXxe2PCisCS"
      }
    },
    {
      "cell_type": "code",
      "source": [
        "Map = geemap.Map(center=[49.245543206654474, 7.004532770284405], zoom=15)\n",
        "Map"
      ],
      "metadata": {
        "id": "33WMCaOaipfA"
      },
      "execution_count": null,
      "outputs": []
    },
    {
      "cell_type": "markdown",
      "metadata": {
        "id": "TswpDlhJVZz5"
      },
      "source": [
        "## Search datasets\n",
        "\n",
        "Click on the globe icon in the top left corner of the map to open the search panel. Select the `data` tab and enter a keyword to search for datasets, e.g., `countries`. Press `Enter` to search. The search results will populate the dropdown list. Select the dataset you want to add to the map from the dropdown list, such as the [`LSIB 2017: Large Scale International Boundary Polygons, Simplified`](https://developers.google.com/earth-engine/datasets/catalog/USDOS_LSIB_SIMPLE_2017). Click on the `import` button to add a new code cell in Jupyter Notebook. Note that Google Colab and JupyterLab do not support creating new code cells programmatically. You will need to manually add a new code cell and copy the data sample code to the new cell.\n",
        "# For datasets not found in the data icon in our map you can find them in the link\n",
        "https://developers.google.com/earth-engine/datasets/catalog"
      ]
    },
    {
      "cell_type": "markdown",
      "metadata": {
        "id": "xbanDgTeVZz6"
      },
      "source": [
        "![](https://i.imgur.com/1ef0sDz.gif)"
      ]
    },
    {
      "cell_type": "code",
      "source": [],
      "metadata": {
        "id": "o0WiUt0AWoZq"
      },
      "execution_count": null,
      "outputs": []
    },
    {
      "cell_type": "markdown",
      "source": [
        "# EARTH ENGINE DATA TYPES\n",
        "\n",
        "---\n",
        "\n",
        "\n",
        "The basic Earth Engine data types are:\n",
        "\n",
        "\n",
        "\n",
        "\n",
        "1.   Image\n",
        "2.   ImageCollection\n",
        "1.   Geometry\n",
        "2.   Feature\n",
        "and FeatureCollection\n",
        "\n",
        "\n",
        "\n",
        "\n",
        "\n",
        "\n",
        "\n",
        "\n",
        "\n",
        "\n",
        "\n",
        "\n",
        "\n",
        "\n",
        "\n",
        "\n",
        "\n",
        "\n",
        "\n",
        "\n"
      ],
      "metadata": {
        "id": "o1igTeP1WqQg"
      }
    },
    {
      "cell_type": "code",
      "source": [
        "image = ee.Image('USGS/SRTMGL1_003')"
      ],
      "metadata": {
        "id": "AWuCtI5oSXvd"
      },
      "execution_count": null,
      "outputs": []
    },
    {
      "cell_type": "markdown",
      "source": [
        "#Visualizing Earth Engine Image"
      ],
      "metadata": {
        "id": "Mi1rMSxIX2Dk"
      }
    },
    {
      "cell_type": "code",
      "source": [
        "#Load an image.\n",
        "image = ee.Image('LANDSAT/LC08/C01/T1_TOA/LC08_044034_20140318')"
      ],
      "metadata": {
        "id": "Ffvs8srXXt6n"
      },
      "execution_count": null,
      "outputs": []
    },
    {
      "cell_type": "code",
      "source": [
        "Map = geemap.Map(center=[51.1657, 10.4515], zoom=7)\n",
        "image = ee.Image('USGS/SRTMGL1_003')\n",
        "vis_params = {\n",
        "    'min': 0,\n",
        "    'max': 6000,\n",
        "    'palette': ['006633', 'E5FFCC', '662A00', 'D8D8D8', 'F5F5F5'],\n",
        "}\n",
        "Map.addLayer(image, vis_params, 'SRTM')\n",
        "Map"
      ],
      "metadata": {
        "id": "LoNcFnXpYLrr"
      },
      "execution_count": null,
      "outputs": []
    },
    {
      "cell_type": "markdown",
      "source": [
        "You can also get Image statistics"
      ],
      "metadata": {
        "id": "P7jel9llhaef"
      }
    },
    {
      "cell_type": "code",
      "source": [
        "image = ee.Image('LANDSAT/LC09/C02/T1_L2/LC09_044034_20220503')\n",
        "geemap.image_min_value(image)"
      ],
      "metadata": {
        "id": "-OTlymX3hfQu"
      },
      "execution_count": null,
      "outputs": []
    },
    {
      "cell_type": "code",
      "source": [
        "geemap.image_stats(image)"
      ],
      "metadata": {
        "id": "BJCAolC7hhny"
      },
      "execution_count": null,
      "outputs": []
    },
    {
      "cell_type": "markdown",
      "source": [
        "#Loading and visualizing Image collection"
      ],
      "metadata": {
        "id": "potsqZFKb-zv"
      }
    },
    {
      "cell_type": "code",
      "source": [
        "Image_collection = ee.ImageCollection('COPERNICUS/S2_SR')"
      ],
      "metadata": {
        "id": "ymm1g6Bzb9Y3"
      },
      "execution_count": null,
      "outputs": []
    },
    {
      "cell_type": "code",
      "source": [
        "Map = geemap.Map()\n",
        "collection = ee.ImageCollection('COPERNICUS/S2_SR')\n",
        "image = collection.median()\n",
        "\n",
        "vis = {\n",
        "    'min': 0.0,\n",
        "    'max': 3000,\n",
        "    'bands': ['B4', 'B3', 'B2'],\n",
        "}\n",
        "\n",
        "Map.setCenter(7.0000,49.2333,10)\n",
        "Map.addLayer(image, vis, 'Sentinel-2')\n",
        "Map"
      ],
      "metadata": {
        "id": "Siql_-Itb7NA"
      },
      "execution_count": null,
      "outputs": []
    },
    {
      "cell_type": "code",
      "source": [],
      "metadata": {
        "id": "OochVz4qdiP3"
      },
      "execution_count": null,
      "outputs": []
    },
    {
      "cell_type": "markdown",
      "source": [
        "#Loading and visualizing Earth Engine Geometry data"
      ],
      "metadata": {
        "id": "SEOk83xQdMEo"
      }
    },
    {
      "cell_type": "code",
      "source": [
        "Map = geemap.Map()\n",
        "\n",
        "point = ee.Geometry.Point([1.5, 1.5])\n",
        "\n",
        "lineString = ee.Geometry.LineString(\n",
        "    [[-35, -10], [35, -10], [35, 10], [-35, 10]], None, False\n",
        ")\n",
        "\n",
        "linearRing = ee.Geometry.LinearRing(\n",
        "    [[-35, -10], [35, -10], [35, 10], [-35, 10], [-35, -10]], None, False\n",
        ")\n",
        "\n",
        "rectangle = ee.Geometry.Rectangle([-40, -20, 40, 20], None, False)\n",
        "\n",
        "polygon = ee.Geometry.Polygon(\n",
        "    [[[-5, 40], [65, 40], [65, 60], [-5, 60], [-5, 60]]], None, False\n",
        ")\n",
        "\n",
        "Map.addLayer(point, {}, 'Point')\n",
        "Map.addLayer(lineString, {}, 'LineString')\n",
        "Map.addLayer(linearRing, {}, 'LinearRing')\n",
        "Map.addLayer(rectangle, {}, 'Rectangle')\n",
        "Map.addLayer(polygon, {}, 'Polygon')\n",
        "Map"
      ],
      "metadata": {
        "id": "2EfRwl1JeAMp"
      },
      "execution_count": null,
      "outputs": []
    },
    {
      "cell_type": "code",
      "source": [
        "Map = geemap.Map(center=[51.1657, 10.4515], zoom=6)\n",
        "Map"
      ],
      "metadata": {
        "id": "C485Z1aYdpQl"
      },
      "execution_count": null,
      "outputs": []
    },
    {
      "cell_type": "code",
      "source": [
        "if Map.user_roi is not None:\n",
        "    print(Map.user_roi.getInfo())"
      ],
      "metadata": {
        "id": "oJPN6JUydK6G"
      },
      "execution_count": null,
      "outputs": []
    },
    {
      "cell_type": "markdown",
      "source": [
        "# Visualizing Feature Earth Engine Dataset"
      ],
      "metadata": {
        "id": "QPTtuMNceJri"
      }
    },
    {
      "cell_type": "code",
      "source": [
        "feature = (\n",
        "    ee.Feature(ee.Geometry.Point([7.000, 49.2333]))\n",
        "    .set('genus', 'Sequoia')\n",
        "    .set('species', 'sempervirens')\n",
        ")\n",
        "newDict = {'genus': 'Brachyramphus', 'presence': 1, 'species': 'marmoratus'}\n",
        "feature = feature.set(newDict)\n",
        "feature"
      ],
      "metadata": {
        "id": "NH7urrHqeHYr"
      },
      "execution_count": null,
      "outputs": []
    },
    {
      "cell_type": "code",
      "source": [
        "Map = geemap.Map()\n",
        "Map.addLayer(feature, {}, 'feature')\n",
        "Map"
      ],
      "metadata": {
        "id": "ys2mrRSEeraj"
      },
      "execution_count": null,
      "outputs": []
    },
    {
      "cell_type": "markdown",
      "source": [
        "#Loading and visualizing FeatureCollection"
      ],
      "metadata": {
        "id": "8S19Nk6DflSF"
      }
    },
    {
      "cell_type": "code",
      "source": [
        "Map = geemap.Map()\n",
        "fc = ee.FeatureCollection('TIGER/2016/Roads')\n",
        "Map.setCenter(-73.9596, 40.7688, 12)\n",
        "Map.addLayer(fc, {}, 'Census roads')\n",
        "Map"
      ],
      "metadata": {
        "id": "ww8fK2vXfhrz"
      },
      "execution_count": null,
      "outputs": []
    },
    {
      "cell_type": "code",
      "source": [
        "Map = geemap.Map()\n",
        "states = ee.FeatureCollection('TIGER/2018/States')\n",
        "fc = states.filter(ee.Filter.inList('NAME', ['California', 'Oregon', 'Washington']))\n",
        "Map.addLayer(fc, {}, 'West Coast')\n",
        "Map.centerObject(fc)\n",
        "Map"
      ],
      "metadata": {
        "id": "TFusL1TrdJrK"
      },
      "execution_count": null,
      "outputs": []
    },
    {
      "cell_type": "markdown",
      "source": [
        "Viewing random Satellite datasets in Python"
      ],
      "metadata": {
        "id": "tlWpYcr7xHgC"
      }
    },
    {
      "cell_type": "code",
      "source": [
        "#From themap show the finland image"
      ],
      "metadata": {
        "id": "Oo3PmF1txQb8"
      },
      "execution_count": null,
      "outputs": []
    },
    {
      "cell_type": "code",
      "source": [],
      "metadata": {
        "id": "rUE4_vA4iiLR"
      },
      "execution_count": null,
      "outputs": []
    },
    {
      "cell_type": "code",
      "source": [],
      "metadata": {
        "id": "MIlXBG9GtQLR"
      },
      "execution_count": null,
      "outputs": []
    },
    {
      "cell_type": "markdown",
      "source": [
        "## General Display of forest cover in Germany from 2021 global forest report"
      ],
      "metadata": {
        "id": "34dEPc4iRaXJ"
      }
    },
    {
      "cell_type": "markdown",
      "metadata": {
        "id": "txkEN2f3VZz6"
      },
      "source": [
        "In the tutorial, we will focus on Germany, but the code can be easily modified to visualize and analyze Vegetation and different aspects like floods  in other countries. Modify the `country_name` variable to specify the country of interest and set the date range for the  event to be monitored. In order to monitor change over period, we also need to specify the date range."
      ]
    },
    {
      "cell_type": "code",
      "source": [
        "Map = geemap.Map()\n",
        "\n",
        "# Load the forest cover dataset.\n",
        "dataset = ee.Image('UMD/hansen/global_forest_change_2021_v1_9')\n",
        "# Load country boundaries from LSIB.\n",
        "countries = ee.FeatureCollection('USDOS/LSIB_SIMPLE/2017')\n",
        "# Get a feature collection with just the Germany feature.\n",
        "germany = countries.filter(ee.Filter.eq('country_na', 'Germany'))\n",
        "\n",
        "# Define the visualization parameters for tree cover.\n",
        "treeCoverVisParam = {\n",
        "  'bands': ['treecover2000'],\n",
        "  'min': 0,\n",
        "  'max': 100,\n",
        "  'palette': ['black', 'green']\n",
        "}\n",
        "\n",
        "# Filter the forest cover image to the study area and select the tree cover band.\n",
        "treeCover = dataset.select('treecover2000') .clip(germany)\n",
        "\n",
        "# Visualize the tree cover.\n",
        "Map.addLayer(treeCover, treeCoverVisParam, 'Tree Cover')\n",
        "Map"
      ],
      "metadata": {
        "id": "cLK5U17VRXqT"
      },
      "execution_count": null,
      "outputs": []
    },
    {
      "cell_type": "code",
      "source": [
        "dataset"
      ],
      "metadata": {
        "id": "zE-yerTlZP9I"
      },
      "execution_count": null,
      "outputs": []
    },
    {
      "cell_type": "markdown",
      "source": [
        "## Exercise 2: Try to find and visualize data for your following countries/location.\n",
        "\n",
        "Some Example:\n",
        "- Brandenburg, Germany Aerial photography data.\n",
        "- ERA5-Land Monthly Aggregated - ECMWF Climate Reanalysis"
      ],
      "metadata": {
        "id": "1uks1EeAIW_3"
      }
    },
    {
      "cell_type": "code",
      "source": [
        "#Code1"
      ],
      "metadata": {
        "id": "HhQiS0jYt3tt"
      },
      "execution_count": null,
      "outputs": []
    },
    {
      "cell_type": "code",
      "source": [
        "#Code2"
      ],
      "metadata": {
        "id": "560QxxX7t3-C"
      },
      "execution_count": null,
      "outputs": []
    },
    {
      "cell_type": "markdown",
      "source": [
        "#### Example  Solution"
      ],
      "metadata": {
        "id": "HHmNYAGTJeM8"
      }
    },
    {
      "cell_type": "code",
      "source": [
        "# The code has been copied to the clipboard.\n",
        "# Press Ctrl+V in a new cell to paste it.\n",
        "\n",
        "dataset = ee.Image('Germany/Brandenburg/orthos/20cm')\n",
        "Map.setCenter(13.386091, 52.507899, 18)\n",
        "Map.addLayer(dataset, None, 'Brandenburg 20cm')"
      ],
      "metadata": {
        "id": "MlH36TFOU691"
      },
      "execution_count": null,
      "outputs": []
    },
    {
      "cell_type": "markdown",
      "source": [
        "In this block you can change the variables like `country_name` or 'pre_monitoring_start_date' to your choice. Feel free to experiment with all the values."
      ],
      "metadata": {
        "id": "N566hUsqlH87"
      }
    },
    {
      "cell_type": "markdown",
      "metadata": {
        "id": "k39XpOhzVZz7"
      },
      "source": [
        "## Visualize datasets\n",
        "\n",
        "Specify the country of interest and filter the dataset by the country name."
      ]
    },
    {
      "cell_type": "code",
      "execution_count": null,
      "metadata": {
        "id": "SQzmi_ipVZz6"
      },
      "outputs": [],
      "source": [
        "country_name = 'Germany'\n",
        "pre_monitoring_start_date = '2021-01-01'\n",
        "pre_monitoring_end_date = '2021-01-30'\n",
        "monitoring_start_date = '2022-08-01'\n",
        "monitoring_end_date = '2022-08-30'"
      ]
    },
    {
      "cell_type": "code",
      "execution_count": null,
      "metadata": {
        "id": "hQ9G2cXyVZz7"
      },
      "outputs": [],
      "source": [
        "Map = geemap.Map()\n",
        "\n",
        "country = ee.FeatureCollection('USDOS/LSIB_SIMPLE/2017').filter(\n",
        "    ee.Filter.eq('country_na', country_name)\n",
        ")\n",
        "\n",
        "style = {'color': 'red', 'fillColor': '00000000'}\n",
        "Map.addLayer(country.style(**style), {}, country_name)\n",
        "Map.centerObject(country)\n",
        "Map"
      ]
    },
    {
      "cell_type": "markdown",
      "source": [
        "## Exercise 3: Let us visualize the map of France with Blue boundaries.\n",
        "- Feel free to experiment with differnet countries and colors."
      ],
      "metadata": {
        "id": "_R5Kl-v2lnKw"
      }
    },
    {
      "cell_type": "code",
      "source": [
        "Map = geemap.Map()\n",
        "\n",
        "country_name = ' '\n",
        "color = ' '\n",
        "\n",
        "country = ee.FeatureCollection('USDOS/LSIB_SIMPLE/2017').filter(\n",
        "    ee.Filter.eq('country_na', country_name)\n",
        ")\n",
        "\n",
        "style = {'color': color, 'fillColor': '00000000'}\n",
        "Map.addLayer(country.style(**style), {}, country_name)\n",
        "Map.centerObject(country)\n",
        "Map"
      ],
      "metadata": {
        "id": "1Aiey-T0lltK"
      },
      "execution_count": null,
      "outputs": []
    },
    {
      "cell_type": "code",
      "source": [],
      "metadata": {
        "id": "aOT7bVfwR7Di"
      },
      "execution_count": null,
      "outputs": []
    },
    {
      "cell_type": "markdown",
      "source": [
        "Loading Image dataset"
      ],
      "metadata": {
        "id": "SvQTPfXjSZWR"
      }
    },
    {
      "cell_type": "markdown",
      "source": [
        "Visualizing Earth Engine Image"
      ],
      "metadata": {
        "id": "CJXGBmgpUpG7"
      }
    },
    {
      "cell_type": "code",
      "source": [
        "Map = geemap.Map(center=[21.79, 70.87], zoom=3)\n",
        "image = ee.Image('USGS/SRTMGL1_003')\n",
        "vis_params = {\n",
        "    'min': 0,\n",
        "    'max': 6000,\n",
        "    'palette': ['006633', 'E5FFCC', '662A00', 'D8D8D8', 'F5F5F5'],\n",
        "}\n",
        "Map.addLayer(image, vis_params, 'SRTM')\n",
        "Map"
      ],
      "metadata": {
        "id": "a7zw5s6pUn_y"
      },
      "execution_count": null,
      "outputs": []
    },
    {
      "cell_type": "markdown",
      "metadata": {
        "id": "wZD2EzFbVZz8"
      },
      "source": [
        "## Create Landsat composites\n",
        "\n",
        "Create a Landsat composite for the   period (Janury 1 to january 30, 2021) using the [USGS Landsat 8 Collection 2 Tier 1 Raw Scenes](https://developers.google.com/earth-engine/datasets/catalog/LANDSAT_LC08_C02_T1).\n",
        "\n"
      ]
    },
    {
      "cell_type": "markdown",
      "source": [
        "### Winter Period"
      ],
      "metadata": {
        "id": "eRmObNvAV0Q_"
      }
    },
    {
      "cell_type": "code",
      "execution_count": null,
      "metadata": {
        "id": "gj6OvWAwVZz8"
      },
      "outputs": [],
      "source": [
        "country_name = 'Germany'\n",
        "color = 'red'\n",
        "\n",
        "country = ee.FeatureCollection('USDOS/LSIB_SIMPLE/2017').filter(\n",
        "    ee.Filter.eq('country_na', country_name)\n",
        ")\n",
        "\n",
        "Map = geemap.Map()\n",
        "\n",
        "landsat_col_2021 = (\n",
        "    ee.ImageCollection('LANDSAT/LC08/C02/T1')\n",
        "    .filterDate(pre_monitoring_start_date, pre_monitoring_end_date)\n",
        "    .filterBounds(country)\n",
        ")\n",
        "landsat_2021 = ee.Algorithms.Landsat.simpleComposite(landsat_col_2021).clipToCollection(\n",
        "    country\n",
        ")\n",
        "\n",
        "vis_params = {'bands': ['B4', 'B6', 'B7'], 'max': 128}\n",
        "Map.addLayer(landsat_2021, vis_params, 'Landsat 2021')\n",
        "Map.centerObject(country)\n",
        "Map\n"
      ]
    },
    {
      "cell_type": "markdown",
      "source": [
        "### Summer Period"
      ],
      "metadata": {
        "id": "sMgKmSw8WGZ6"
      }
    },
    {
      "cell_type": "code",
      "execution_count": null,
      "metadata": {
        "id": "kAj5p6egEgv_"
      },
      "outputs": [],
      "source": [
        "landsat_col_2022 = (\n",
        "    ee.ImageCollection('LANDSAT/LC08/C02/T1')\n",
        "    .filterDate(monitoring_start_date, monitoring_end_date)\n",
        "    .filterBounds(country)\n",
        ")\n",
        "landsat_2022 = ee.Algorithms.Landsat.simpleComposite(landsat_col_2022).clipToCollection(\n",
        "    country\n",
        ")\n",
        "vis_params = {'bands': ['B4', 'B6', 'B7' ], 'max':  128}\n",
        "Map.addLayer(landsat_2022, vis_params, 'Landsat 2022')\n",
        "Map.centerObject(country)\n",
        "Map"
      ]
    },
    {
      "cell_type": "markdown",
      "source": [
        "## Exercise 4:\n",
        "Using country selected ealier and image collection display \"USGS Landsat 8 Collection 2 Tier 1 and Real-Time data Raw Scenes\" collection w\n",
        " for the year 2022 and 2023\n"
      ],
      "metadata": {
        "id": "xZUR3JFMoJfG"
      }
    },
    {
      "cell_type": "code",
      "source": [
        "country_name = ' ' #To fill\n",
        "color = ' ' # To fill\n",
        "\n",
        "country = ee.FeatureCollection('USDOS/LSIB_SIMPLE/2017').filter(\n",
        "    ee.Filter.eq('country_na', country_name)\n",
        ")\n",
        "\n",
        "Map = geemap.Map()\n",
        "\n",
        "landsat_col_2021 = (\n",
        "    ee.ImageCollection(' ') #To fill\n",
        "    .filterDate(pre_monitoring_start_date, pre_monitoring_end_date)\n",
        "    .filterBounds(country)\n",
        ")\n",
        "landsat_2021 = ee.Algorithms.Landsat.simpleComposite(landsat_col_2021).clipToCollection(\n",
        "    country\n",
        ")\n",
        "\n",
        "vis_params = {'bands': ['B4', 'B3', 'B2' ], 'max': 128}\n",
        "Map.addLayer(landsat_2021, vis_params, 'Landsat 2021')\n",
        "Map"
      ],
      "metadata": {
        "id": "O84ZBrcO2uJu"
      },
      "execution_count": null,
      "outputs": []
    },
    {
      "cell_type": "markdown",
      "metadata": {
        "id": "qzlswEK1VZz9"
      },
      "source": [
        "Create a Landsat 8 composite for the flood period January 1st to December 30, 2022)."
      ]
    },
    {
      "cell_type": "markdown",
      "metadata": {
        "id": "yThPjXUvVZz-"
      },
      "source": [
        "## Compare Landsat composites side by side\n",
        "\n",
        "Combine the summer and winter composites side by side."
      ]
    },
    {
      "cell_type": "code",
      "execution_count": null,
      "metadata": {
        "id": "3gu7AIDtVZz-"
      },
      "outputs": [],
      "source": [
        "country_name = 'Germany'\n",
        "color = 'red'\n",
        "\n",
        "Map = geemap.Map()\n",
        "Map.setCenter(  10.4515,51.1657,7  )\n",
        "\n",
        "left_layer = geemap.ee_tile_layer(landsat_2021, vis_params, 'winter 2021')\n",
        "right_layer = geemap.ee_tile_layer(landsat_2022, vis_params, 'summer 2022')\n",
        "\n",
        "Map.split_map(\n",
        "    left_layer, right_layer, left_label='Landsat 2021', right_label='Landsat 2022'\n",
        ")\n",
        "Map.addLayer(country.style(**style), {}, country_name)\n",
        "Map"
      ]
    },
    {
      "cell_type": "code",
      "source": [
        "# Create a default map\n",
        "Map = geemap.Map()\n",
        "Map = geemap.Map()\n",
        "\n",
        "#Load an image.\n",
        "image = ee.Image('LANDSAT/LC08/C01/T1_TOA/LC08_044034_20140318')\n",
        "\n",
        "#Create an NDvI image, define visualization parameters and display.\n",
        "ndvi = image.normalizedDifference([ \"B5\", 'B4'])\n",
        "ndviViz = {'min': 0.5, 'max': 1, 'palette': ['00c800','006400']}\n",
        "#Map.setCenter(51.1657, 10.4515)\n",
        "Map.addLayer(ndvi, ndviViz, 'NDVI', False)\n",
        "\n",
        "# Mask the NON-FOREST AREAS\n",
        "ndviMasked = ndvi.updateMask(ndvi.gte(0.5));\n",
        "Map.addLayer(ndviMasked, ndviViz, 'NDVI masked', False)\n",
        "\n",
        "# Create visualization layers.\n",
        "imageRGB = image.visualize(**{'bands': ['B5', 'B4', 'B3'], 'max': 0.5})\n",
        "ndviRGB = ndviMasked.visualize(**{\n",
        "  'min': 0.5,\n",
        "  'max': 1,\n",
        "  'palette': ['00c800','006400']\n",
        "})\n",
        "\n",
        "Map.addLayer(imageRGB, {}, 'imageRGB', False)\n",
        "Map.addLayer(ndviRGB, {}, 'ndviRGB', False)\n",
        "\n",
        "# Mosaic the visualization layers and display (or export).\n",
        "mosaic = ee.ImageCollection([imageRGB, ndviRGB]).mosaic()\n",
        "Map.addLayer(mosaic, {}, 'mosaic');\n",
        "\n",
        "# Display the map\n",
        "Map"
      ],
      "metadata": {
        "id": "PYPEEcb2Gih8"
      },
      "execution_count": null,
      "outputs": []
    },
    {
      "cell_type": "markdown",
      "metadata": {
        "id": "q4ZQrMI1Ni4f"
      },
      "source": [
        "### Create linked maps\n",
        "Displaying different visualization Bands"
      ]
    },
    {
      "cell_type": "markdown",
      "source": [
        "![](https://d9-wret.s3.us-west-2.amazonaws.com/assets/palladium/production/s3fs-public/styles/full_width/public/thumbnails/image/dmidS2LS7Comparison.png)"
      ],
      "metadata": {
        "id": "sLUwVdGt5Y_l"
      }
    },
    {
      "cell_type": "code",
      "source": [],
      "metadata": {
        "id": "YldbqtUj7-Dx"
      },
      "execution_count": null,
      "outputs": []
    },
    {
      "cell_type": "markdown",
      "metadata": {
        "id": "gN5it5ueVZz_"
      },
      "source": [
        "\n",
        "![](https://i.imgur.com/yuZthc6.png)\n",
        "\n",
        "\n",
        "\n"
      ]
    },
    {
      "cell_type": "markdown",
      "source": [
        "## Compute Normalized Difference Veggetation Index (NDVI)\n",
        "\n",
        "The [Normalized Difference Vegetation Index](https://en.wikipedia.org/wiki/Normalized_difference_vegetation_index) (NDVI) is a commonly used index quantifying vegetation by measuring the difference between near-infrared (which vegetation strongly reflects) and red light (which vegetation absorbs). It is calculated as follows:\n",
        "\n",
        "$$NDVI = \\frac{NIR-Red}{ NIR+Red}$$\n",
        "$$ EVI = 2.5 * \\frac  {   (NIR - Red)} {(NIR + 6 * Red - 7.5 * Blue + 1)} $$\n",
        "$$NDWI = (Green - NIR) / (Green + NIR)$$\n",
        "where Red is the red band and NIR is the near-infrared band. The NDVI values range from -1 to 1. The NDVI values are usually thresholded to a positive number (e.g., 0.1-0.3)\n",
        "\n",
        "Landsat 8 imagery has [11 spectral bands](https://developers.google.com/earth-engine/datasets/catalog/LANDSAT_LC08_C02_T1#bands). The Landsat 8 NDVI is calculated using the green (`B4`) and NIR (`B5`) bands."
      ],
      "metadata": {
        "id": "nTS62sw85xs7"
      }
    },
    {
      "cell_type": "code",
      "execution_count": null,
      "metadata": {
        "id": "LDS1nW1jVZz_"
      },
      "outputs": [],
      "source": [
        "ndvi_2021 = landsat_2021.normalizedDifference([ \"B5\", 'B4']).rename('NDVI')\n",
        "ndvi_2022 = landsat_2022.normalizedDifference([\"B5\", 'B4']).rename('NDVI')"
      ]
    },
    {
      "cell_type": "markdown",
      "metadata": {
        "id": "D56M19HGVZ0A"
      },
      "source": [
        "Compute the NDVI layers for the pre-monitoring and Monitoring periods side by side."
      ]
    },
    {
      "cell_type": "code",
      "execution_count": null,
      "metadata": {
        "id": "1OhguBKfVZ0A"
      },
      "outputs": [],
      "source": [
        "Map = geemap.Map()\n",
        "Map.setCenter(  10.4515,51.1657,7 )\n",
        "\n",
        "ndvi_vis = {'min': -1, 'max': 1, 'palette': 'ndvi'}\n",
        "\n",
        "left_layer = geemap.ee_tile_layer(ndvi_2021, ndvi_vis, 'NDVI winter')\n",
        "right_layer = geemap.ee_tile_layer(ndvi_2022, ndvi_vis, 'NDVI summer')\n",
        "\n",
        "Map.split_map(left_layer, right_layer, left_label='NDVI winter', right_label='NDVI summer')\n",
        "Map.addLayer(country.style(**style), {}, country_name)\n",
        "Map"
      ]
    },
    {
      "cell_type": "markdown",
      "metadata": {
        "id": "i0p3Rx2bVZ0A"
      },
      "source": [
        "## Extract LandsatVegetation change\n",
        "\n",
        "To monitor change in vegetation cover(Using NDVI,in normal case NDVI ranges between -1 to 1), we need to convert the NDVI images to binary images using a threshold value for forest which is assumed to be 0.4 and above."
      ]
    },
    {
      "cell_type": "code",
      "execution_count": null,
      "metadata": {
        "id": "Lhu7d5whVZ0B"
      },
      "outputs": [],
      "source": [
        "threshold = 0.5\n",
        "forest_2021 = ndvi_2021.gt(threshold)\n",
        "forest_2022 = ndvi_2022.gt(threshold)"
      ]
    },
    {
      "cell_type": "code",
      "execution_count": null,
      "metadata": {
        "id": "yUMcIb5cVZ0B"
      },
      "outputs": [],
      "source": [
        "Map = geemap.Map()\n",
        "Map.setCenter( 10.4515,51.1657,7 )\n",
        "\n",
        "Map.addLayer(landsat_2021, vis_params, 'Landsat 2021', False)\n",
        "Map.addLayer(landsat_2022, vis_params, 'Landsat 2022', False)\n",
        "\n",
        "left_layer = geemap.ee_tile_layer(\n",
        "    forest_2021.selfMask(), {'palette': 'blue'}, 'forest cover winter 2021'\n",
        ")\n",
        "right_layer = geemap.ee_tile_layer(\n",
        "    forest_2022.selfMask(), {'palette': 'purple'}, 'forest cover summer 2022'\n",
        ")\n",
        "\n",
        "Map.split_map(\n",
        "    left_layer, right_layer, left_label='vegetation 2021', right_label='vegetation 2022'\n",
        ")\n",
        "Map.addLayer(country.style(**style), {}, country_name)\n",
        "Map"
      ]
    },
    {
      "cell_type": "markdown",
      "source": [
        "# Data Analyysis"
      ],
      "metadata": {
        "id": "-zaPsAOdk6BC"
      }
    },
    {
      "cell_type": "code",
      "source": [
        "import geemap.chart as chart"
      ],
      "metadata": {
        "id": "1wbek5PPlQmq"
      },
      "execution_count": null,
      "outputs": []
    },
    {
      "cell_type": "code",
      "source": [
        "source = ee.ImageCollection('OREGONSTATE/PRISM/Norm81m').toBands()\n",
        "region = ee.Geometry.Rectangle(-123.41, 40.43, -116.38, 45.14)\n",
        "samples = source.sample(region, 5000)\n",
        "prop = '07_ppt'"
      ],
      "metadata": {
        "id": "AR9OSbSZPXJh"
      },
      "execution_count": null,
      "outputs": []
    },
    {
      "cell_type": "code",
      "source": [
        "options = {\n",
        "    \"title\": 'July Precipitation Distribution for NW USA',\n",
        "    \"xlabel\": 'Precipitation (mm)',\n",
        "    \"ylabel\": 'Pixel count',\n",
        "    \"colors\": ['#1d6b99'],\n",
        "}\n"
      ],
      "metadata": {
        "id": "mC4zZomjPXNf"
      },
      "execution_count": null,
      "outputs": []
    },
    {
      "cell_type": "code",
      "source": [
        "chart.feature_histogram(samples, prop, maxBuckets=30, **options)"
      ],
      "metadata": {
        "id": "6RtuWfbJPXTG"
      },
      "execution_count": null,
      "outputs": []
    },
    {
      "cell_type": "code",
      "source": [
        "def create_reduce_region_function(geometry,\n",
        "                                  reducer=ee.Reducer.mean(),\n",
        "                                  scale=1000,\n",
        "                                  crs='EPSG:4326',\n",
        "                                  bestEffort=True,\n",
        "                                  maxPixels=1e13,\n",
        "                                  tileScale=4):\n",
        "  \"\"\"Creates a region reduction function.\n",
        "\n",
        "  Creates a region reduction function intended to be used as the input function\n",
        "  to ee.ImageCollection.map() for reducing pixels intersecting a provided region\n",
        "  to a statistic for each image in a collection. See ee.Image.reduceRegion()\n",
        "  documentation for more details.\n",
        "\n",
        "  Args:\n",
        "    geometry:\n",
        "      An ee.Geometry that defines the region over which to reduce data.\n",
        "    reducer:\n",
        "      Optional; An ee.Reducer that defines the reduction method.\n",
        "    scale:\n",
        "      Optional; A number that defines the nominal scale in meters of the\n",
        "      projection to work in.\n",
        "    crs:\n",
        "      Optional; An ee.Projection or EPSG string ('EPSG:5070') that defines\n",
        "      the projection to work in.\n",
        "    bestEffort:\n",
        "      Optional; A Boolean indicator for whether to use a larger scale if the\n",
        "      geometry contains too many pixels at the given scale for the operation\n",
        "      to succeed.\n",
        "    maxPixels:\n",
        "      Optional; A number specifying the maximum number of pixels to reduce.\n",
        "    tileScale:\n",
        "      Optional; A number representing the scaling factor used to reduce\n",
        "      aggregation tile size; using a larger tileScale (e.g. 2 or 4) may enable\n",
        "      computations that run out of memory with the default.\n",
        "\n",
        "  Returns:\n",
        "    A function that accepts an ee.Image and reduces it by region, according to\n",
        "    the provided arguments.\n",
        "  \"\"\"\n",
        "\n",
        "  def reduce_region_function(img):\n",
        "    \"\"\"Applies the ee.Image.reduceRegion() method.\n",
        "\n",
        "    Args:\n",
        "      img:\n",
        "        An ee.Image to reduce to a statistic by region.\n",
        "\n",
        "    Returns:\n",
        "      An ee.Feature that contains properties representing the image region\n",
        "      reduction results per band and the image timestamp formatted as\n",
        "      milliseconds from Unix epoch (included to enable time series plotting).\n",
        "    \"\"\"\n",
        "\n",
        "    stat = img.reduceRegion(\n",
        "        reducer=reducer,\n",
        "        geometry=geometry,\n",
        "        scale=scale,\n",
        "        crs=crs,\n",
        "        bestEffort=bestEffort,\n",
        "        maxPixels=maxPixels,\n",
        "        tileScale=tileScale)\n",
        "\n",
        "    return ee.Feature(geometry, stat).set({'millis': img.date().millis()})\n",
        "  return reduce_region_function"
      ],
      "metadata": {
        "id": "8WFN-_-LbvuU"
      },
      "execution_count": null,
      "outputs": []
    },
    {
      "cell_type": "code",
      "source": [
        "!pip install geopandas -q"
      ],
      "metadata": {
        "id": "AB1Qn8oSiNpQ"
      },
      "execution_count": null,
      "outputs": []
    },
    {
      "cell_type": "code",
      "source": [
        "data = geemap.examples.get_path('countries.geojson')\n",
        "df = geemap.geojson_to_df(data)\n",
        "df.head()"
      ],
      "metadata": {
        "id": "8NSUH7zdPXce"
      },
      "execution_count": null,
      "outputs": []
    },
    {
      "cell_type": "code",
      "source": [
        "geemap.bar_chart(\n",
        "    data=df,\n",
        "    x='NAME',\n",
        "    y='POP_EST',\n",
        "    x_label='Country',\n",
        "    y_label='Population',\n",
        "    descending=True,\n",
        "    max_rows=10,\n",
        "    title='World Population',\n",
        "    height=500,\n",
        "    layout_args={'title_x': 0.5, 'title_y': 0.85},\n",
        ")"
      ],
      "metadata": {
        "id": "dfqv-17VPXgZ"
      },
      "execution_count": null,
      "outputs": []
    },
    {
      "cell_type": "code",
      "source": [
        "data = geemap.examples.get_path('life_exp.csv')\n",
        "df = geemap.csv_to_df(data)\n",
        "df = df[df['continent'] == 'Oceania']\n",
        "df.tail()"
      ],
      "metadata": {
        "id": "PxGwtpKoPXkS"
      },
      "execution_count": null,
      "outputs": []
    },
    {
      "cell_type": "code",
      "source": [
        "geemap.line_chart(\n",
        "    df,\n",
        "    x='year',\n",
        "    y='lifeExp',\n",
        "    color='country',\n",
        "    x_label='Year',\n",
        "    y_label='Life expectancy',\n",
        "    legend_title='Country',\n",
        "    height=400,\n",
        "    markers=True,\n",
        ")"
      ],
      "metadata": {
        "id": "xGaP6bVhPXn-"
      },
      "execution_count": null,
      "outputs": []
    },
    {
      "cell_type": "markdown",
      "source": [
        "# Exporting Satellite Images"
      ],
      "metadata": {
        "id": "TdHEcPtvnkAi"
      }
    },
    {
      "cell_type": "markdown",
      "source": [
        "To drive"
      ],
      "metadata": {
        "id": "p65WARvvnqFn"
      }
    },
    {
      "cell_type": "code",
      "source": [
        "Map = geemap.Map()\n",
        "\n",
        "image = ee.Image('LANDSAT/LC08/C02/T1_TOA/LC08_044034_20140318').select(\n",
        "    ['B5', 'B4', 'B3']\n",
        ")\n",
        "\n",
        "vis_params = {'min': 0, 'max': 0.5, 'gamma': [0.95, 1.1, 1]}\n",
        "\n",
        "Map.centerObject(image)\n",
        "Map.addLayer(image, vis_params, 'Landsat')\n",
        "Map"
      ],
      "metadata": {
        "id": "r75JXEbEnpGV"
      },
      "execution_count": null,
      "outputs": []
    },
    {
      "cell_type": "code",
      "source": [
        "geemap.ee_export_image_to_drive(\n",
        "    image, description='landsat', folder='export', region=region, scale=30\n",
        ")"
      ],
      "metadata": {
        "id": "ETXIidpGnjUR"
      },
      "execution_count": null,
      "outputs": []
    },
    {
      "cell_type": "markdown",
      "source": [
        "To cloud"
      ],
      "metadata": {
        "id": "bN1MDDJboBBs"
      }
    },
    {
      "cell_type": "code",
      "source": [
        "#bucket = 'your-bucket'\n",
        "#geemap.ee_export_image_to_cloud_storage(\n",
        " #   image, description='landsat', bucket=None, region=region, scale=30\n",
        "#)"
      ],
      "metadata": {
        "id": "kUdIe5Okn7zz"
      },
      "execution_count": null,
      "outputs": []
    },
    {
      "cell_type": "code",
      "source": [
        "point = ee.Geometry.Point(-99.2222, 46.7816)\n",
        "collection = (\n",
        "    ee.ImageCollection('USDA/NAIP/DOQQ')\n",
        "    .filterBounds(point)\n",
        "    .filterDate('2008-01-01', '2018-01-01')\n",
        "    .filter(ee.Filter.listContains(\"system:band_names\", \"N\"))\n",
        ")"
      ],
      "metadata": {
        "id": "MwGTKOQ0oUz8"
      },
      "execution_count": null,
      "outputs": []
    },
    {
      "cell_type": "code",
      "source": [
        "geemap.ee_export_image_collection_to_drive(collection, folder='export', scale=10)"
      ],
      "metadata": {
        "id": "Ec2w4XY9oW-5"
      },
      "execution_count": null,
      "outputs": []
    },
    {
      "cell_type": "markdown",
      "metadata": {
        "id": "ROTRS4GPVZ0C"
      },
      "source": [
        "## To check vegetation change\n",
        "\n",
        "To check te change in vegetation, we need to subtract the pre-monitoring NDVI from the Monitoring period NDVI. The change is the difference between the monitoring period NDVI and the pre-Monitoring period NDVI."
      ]
    },
    {
      "cell_type": "code",
      "execution_count": null,
      "metadata": {
        "id": "t-hhUxmyVZ0C"
      },
      "outputs": [],
      "source": [
        "#change_extent = forest_2022.subtract(forest_2021).gt(0).selfMask()"
      ]
    },
    {
      "cell_type": "code",
      "execution_count": null,
      "metadata": {
        "id": "BuZ7Jt8aVZ0D"
      },
      "outputs": [],
      "source": [
        "Map = geemap.Map()\n",
        "Map.setCenter(51.1657, 10.4515)\n",
        "\n",
        "Map.addLayer(landsat_2021, vis_params, 'Landsat 2021', False)\n",
        "Map.addLayer(landsat_2022, vis_params, 'Landsat 2022', False)\n",
        "\n",
        "left_layer = geemap.ee_tile_layer(\n",
        "    forest_2021.selfMask(), {'palette': 'blue'}, 'forest cover_2021'\n",
        ")\n",
        "right_layer = geemap.ee_tile_layer(\n",
        "   forest_2022.selfMask(), {'palette': 'purple'}, 'forest cover_2022'\n",
        ")\n",
        "\n",
        "Map.split_map(\n",
        "    left_layer, right_layer, left_label='forest cover_2021', right_label='forest cover_2022'\n",
        ")\n",
        "\n",
        "Map.addLayer(change_extent , {'palette': 'red'}, 'Forest cover change')\n",
        "Map.addLayer(country.style(**style), {}, country_name)\n",
        "Map"
      ]
    },
    {
      "cell_type": "code",
      "source": [],
      "metadata": {
        "id": "_SbvNd0m122o"
      },
      "execution_count": null,
      "outputs": []
    },
    {
      "cell_type": "code",
      "source": [
        "# Load the Hansen Global Forest Change dataset\n",
        "gfc2014 = ee.Image('UMD/hansen/global_forest_change_2015')\n",
        "\n",
        "# Load country features from Large Scale International Boundary (LSIB) dataset\n",
        "countries = ee.FeatureCollection('USDOS/LSIB_SIMPLE/2017')\n",
        "\n",
        "# Filter Germany\n",
        "germany = countries.filter(ee.Filter.eq('country_na', 'Germany'))\n",
        "\n",
        "# Subset the forest loss, gain, and tree cover layers\n",
        "lossImage = gfc2014.select(['loss'])\n",
        "gainImage = gfc2014.select(['gain'])\n",
        "treeCover = gfc2014.select(['treecover2000'])\n",
        "\n",
        "# Use the And() method to create the lossAndGain image\n",
        "gainAndLoss = gainImage.And(lossImage)\n",
        "\n",
        "# Create an interactive map\n",
        "Map = geemap.Map()\n",
        "Map.centerObject(germany, 6)\n",
        "\n",
        "# Add the tree cover layer in green\n",
        "Map.addLayer(treeCover.updateMask(treeCover),\n",
        "             {'palette': ['000000', '00FF00'], 'max': 100},\n",
        "             'Forest Cover')\n",
        "\n",
        "# Add the loss layer in red\n",
        "Map.addLayer(lossImage.updateMask(lossImage),\n",
        "             {'palette': ['FF0000']},\n",
        "             'Loss')\n",
        "\n",
        "# Add the gain layer in blue\n",
        "Map.addLayer(gainImage.updateMask(gainImage),\n",
        "             {'palette': ['0000FF']},\n",
        "             'Gain')\n",
        "\n",
        "# Show the loss and gain image\n",
        "Map.addLayer(gainAndLoss.updateMask(gainAndLoss),\n",
        "             {'palette': 'FF00FF'},\n",
        "             'Gain and Loss')\n",
        "\n",
        "# Display the map\n",
        "Map\n"
      ],
      "metadata": {
        "id": "WAE6rTuc0H4b"
      },
      "execution_count": null,
      "outputs": []
    },
    {
      "cell_type": "markdown",
      "metadata": {
        "id": "QnN_l9GjVZ0F"
      },
      "source": [
        "## Create Sentinel-2 SAR composites\n",
        "\n",
        "Besides Landsat, we can also use Sentinel-2 [Synthetic Aperture Radar (SAR)](https://www.earthdata.nasa.gov/learn/backgrounders/what-is-sar) data to monitor vegetation.\n",
        "\n",
        "Sentinel-2 operates in four exclusive [acquisition modes](https://sentinels.copernicus.eu/web/sentinel/missions/sentinel-1/instrument-payload):\n",
        "\n",
        "\n",
        "\n",
        "The [Sentinel-1 SAR data](https://developers.google.com/earth-engine/datasets/catalog/COPERNICUS_S2_SR) are available from 2014 to present. Let's filter the `COPERNICUS/SS2_SR` dataset by the date range and location."
      ]
    },
    {
      "cell_type": "code",
      "source": [],
      "metadata": {
        "id": "mcoF_E7GQvi0"
      },
      "execution_count": null,
      "outputs": []
    },
    {
      "cell_type": "code",
      "execution_count": null,
      "metadata": {
        "id": "SxccQyOONi4f"
      },
      "outputs": [],
      "source": [
        "image = (\n",
        "    ee.ImageCollection('COPERNICUS/S2')\n",
        "    .filterDate('2021-09-01', '2021-09-30')\n",
        "    .map(lambda img: img.divide(10000))\n",
        "    .median()\n",
        ")\n",
        "\n",
        "vis_params = [\n",
        "    {'bands': ['B4', 'B3', 'B2'], 'min': 0, 'max': 1, 'gamma': 1.3},\n",
        "    {'bands': ['B8', 'B11', 'B4'], 'min': 0, 'max': 1, 'gamma': 1.3},\n",
        "    {'bands': ['B8', 'B4', 'B3'], 'min': 0, 'max': 1, 'gamma': 1.3},\n",
        "    {'bands': ['B2', 'B8', 'B4'], 'min': 0, 'max': 1, 'gamma': 1.3},\n",
        "]\n",
        "\n",
        "labels = [\n",
        "    'Natural Color (B4/B3/B2)',\n",
        "    'Land/Water (B8/B11/B4)',\n",
        "    'Color Infrared (B8/B4/B3)',\n",
        "    'Vegetation (B4/B2/B8',\n",
        "]\n",
        "\n",
        "geemap.linked_maps(\n",
        "    rows=2,\n",
        "    cols=2,\n",
        "    height=\"400px\",\n",
        "    center=[51.1657, 10.4515],\n",
        "    zoom=12,\n",
        "    ee_objects=[image],\n",
        "    vis_params=vis_params,\n",
        "    labels=labels,\n",
        "    label_position=\"topright\",\n",
        ")"
      ]
    },
    {
      "cell_type": "markdown",
      "source": [
        "### Define collection filter and cloud mask parameters\n",
        "\n",
        "We'll redefine the parameters to be a little more aggressive, i.e. decrease the cloud probability threshold, increase the cloud projection distance, and increase the buffer. These changes will increase cloud commission error (mask out some clear pixels), but since we will be compositing images from three months, there should be plenty of observations to complete the mosaic."
      ],
      "metadata": {
        "id": "LgBKb6NDZsVj"
      }
    },
    {
      "cell_type": "code",
      "source": [
        "AOI = ee.Geometry.Point(6.9960, 49.2354)\n",
        "START_DATE = '2021-01-01'\n",
        "END_DATE = '2021-12-30'\n",
        "CLOUD_FILTER = 60\n",
        "CLD_PRB_THRESH = 40\n",
        "NIR_DRK_THRESH = 0.15\n",
        "CLD_PRJ_DIST = 2\n",
        "BUFFER = 100"
      ],
      "metadata": {
        "id": "uuQ5p4UdWCkG"
      },
      "execution_count": null,
      "outputs": []
    },
    {
      "cell_type": "markdown",
      "source": [
        "### Build a Sentinel-2 collection\n",
        "\n",
        "Reassemble the S2-cloudless collection since the collection filter parameters have changed."
      ],
      "metadata": {
        "id": "W4qoexvRZvKZ"
      }
    },
    {
      "cell_type": "code",
      "source": [
        "def get_s2_sr_cld_col(aoi, start_date, end_date):\n",
        "    # Import and filter S2 SR.\n",
        "    s2_sr_col = (ee.ImageCollection('COPERNICUS/S2_SR')\n",
        "        .filterBounds(aoi)\n",
        "        .filterDate(start_date, end_date)\n",
        "        .filter(ee.Filter.lte('CLOUDY_PIXEL_PERCENTAGE', CLOUD_FILTER)))\n",
        "\n",
        "    # Import and filter s2cloudless.\n",
        "    s2_cloudless_col = (ee.ImageCollection('COPERNICUS/S2_CLOUD_PROBABILITY')\n",
        "        .filterBounds(aoi)\n",
        "        .filterDate(start_date, end_date))\n",
        "\n",
        "    # Join the filtered s2cloudless collection to the SR collection by the 'system:index' property.\n",
        "    return ee.ImageCollection(ee.Join.saveFirst('s2cloudless').apply(**{\n",
        "        'primary': s2_sr_col,\n",
        "        'secondary': s2_cloudless_col,\n",
        "        'condition': ee.Filter.equals(**{\n",
        "            'leftField': 'system:index',\n",
        "            'rightField': 'system:index'\n",
        "        })\n",
        "    }))"
      ],
      "metadata": {
        "id": "MlldwbYzWsWO"
      },
      "execution_count": null,
      "outputs": []
    },
    {
      "cell_type": "code",
      "source": [
        "def add_cld_shdw_mask(img):\n",
        "    # Add cloud component bands.\n",
        "    img_cloud = add_cloud_bands(img)\n",
        "\n",
        "    # Add cloud shadow component bands.\n",
        "    img_cloud_shadow = add_shadow_bands(img_cloud)\n",
        "\n",
        "    # Combine cloud and shadow mask, set cloud and shadow as value 1, else 0.\n",
        "    is_cld_shdw = img_cloud_shadow.select('clouds').add(img_cloud_shadow.select('shadows')).gt(0)\n",
        "\n",
        "    # Remove small cloud-shadow patches and dilate remaining pixels by BUFFER input.\n",
        "    # 20 m scale is for speed, and assumes clouds don't require 10 m precision.\n",
        "    is_cld_shdw = (is_cld_shdw.focalMin(2).focalMax(BUFFER*2/20)\n",
        "        .reproject(**{'crs': img.select([0]).projection(), 'scale': 20})\n",
        "        .rename('cloudmask'))\n",
        "\n",
        "    # Add the final cloud-shadow mask to the image.\n",
        "    return img_cloud_shadow.addBands(is_cld_shdw)"
      ],
      "metadata": {
        "id": "4wcZTPDxXLfy"
      },
      "execution_count": null,
      "outputs": []
    },
    {
      "cell_type": "code",
      "source": [],
      "metadata": {
        "id": "2Y0-uj56Z8wJ"
      },
      "execution_count": null,
      "outputs": []
    },
    {
      "cell_type": "code",
      "source": [],
      "metadata": {
        "id": "-dP6ReJixjhI"
      },
      "execution_count": null,
      "outputs": []
    },
    {
      "cell_type": "code",
      "source": [],
      "metadata": {
        "id": "VfDd_r2uxjkL"
      },
      "execution_count": null,
      "outputs": []
    },
    {
      "cell_type": "code",
      "source": [],
      "metadata": {
        "id": "tPyPSONqxjnA"
      },
      "execution_count": null,
      "outputs": []
    },
    {
      "cell_type": "code",
      "source": [],
      "metadata": {
        "id": "Yjfc_ZGlxjuJ"
      },
      "execution_count": null,
      "outputs": []
    },
    {
      "cell_type": "code",
      "source": [],
      "metadata": {
        "id": "fSFPs0Bwxjxk"
      },
      "execution_count": null,
      "outputs": []
    },
    {
      "cell_type": "code",
      "source": [],
      "metadata": {
        "id": "hBIlSjo4xj0L"
      },
      "execution_count": null,
      "outputs": []
    },
    {
      "cell_type": "code",
      "source": [],
      "metadata": {
        "id": "S1Lt36bfxj3q"
      },
      "execution_count": null,
      "outputs": []
    },
    {
      "cell_type": "markdown",
      "source": [
        "### Define cloud mask application function\n",
        "\n",
        "Define a function to apply the cloud mask to each image in the collection."
      ],
      "metadata": {
        "id": "uMhI-gs4Z9rp"
      }
    },
    {
      "cell_type": "code",
      "source": [
        "s2_sr_cld_col = get_s2_sr_cld_col(AOI, START_DATE, END_DATE)"
      ],
      "metadata": {
        "id": "xN7s0fijWRhy"
      },
      "execution_count": null,
      "outputs": []
    },
    {
      "cell_type": "code",
      "source": [
        "def apply_cld_shdw_mask(img):\n",
        "    # Subset the cloudmask band and invert it so clouds/shadow are 0, else 1.\n",
        "    not_cld_shdw = img.select('cloudmask').Not()\n",
        "\n",
        "    # Subset reflectance bands and update their masks, return the result.\n",
        "    return img.select('B.*').updateMask(not_cld_shdw)"
      ],
      "metadata": {
        "id": "cKYUjBUUWyOh"
      },
      "execution_count": null,
      "outputs": []
    },
    {
      "cell_type": "code",
      "source": [
        "def add_cloud_bands(img):\n",
        "    # Get s2cloudless image, subset the probability band.\n",
        "    cld_prb = ee.Image(img.get('s2cloudless')).select('probability')\n",
        "\n",
        "    # Condition s2cloudless by the probability threshold value.\n",
        "    is_cloud = cld_prb.gt(CLD_PRB_THRESH).rename('clouds')\n",
        "\n",
        "    # Add the cloud probability layer and cloud mask as image bands.\n",
        "    return img.addBands(ee.Image([cld_prb, is_cloud]))"
      ],
      "metadata": {
        "id": "-MmjzAltXeoy"
      },
      "execution_count": null,
      "outputs": []
    },
    {
      "cell_type": "code",
      "source": [
        "s2_sr_median = (s2_sr_cld_col.map(add_cld_shdw_mask)\n",
        "                             .map(apply_cld_shdw_mask)\n",
        "                             .median())"
      ],
      "metadata": {
        "id": "OwkSxJIbW6gz"
      },
      "execution_count": null,
      "outputs": []
    },
    {
      "cell_type": "code",
      "source": [
        "# Import the folium library.\n",
        "import folium"
      ],
      "metadata": {
        "id": "xd6akBbkYH3s"
      },
      "execution_count": null,
      "outputs": []
    },
    {
      "cell_type": "code",
      "source": [
        "# Import the folium library.\n",
        "import folium\n",
        "\n",
        "# Define a method for displaying Earth Engine image tiles to a folium map.\n",
        "def add_ee_layer(self, ee_image_object, vis_params, name, show=True, opacity=1, min_zoom=0):\n",
        "    map_id_dict = ee.Image(ee_image_object).getMapId(vis_params)\n",
        "    folium.raster_layers.TileLayer(\n",
        "        tiles=map_id_dict['tile_fetcher'].url_format,\n",
        "        attr='Map Data &copy; <a href=\"https://earthengine.google.com/\">Google Earth Engine</a>',\n",
        "        name=name,\n",
        "        show=show,\n",
        "        opacity=opacity,\n",
        "        min_zoom=min_zoom,\n",
        "        overlay=True,\n",
        "        control=True\n",
        "        ).add_to(self)\n",
        "\n",
        "# Add the Earth Engine layer method to folium.\n",
        "folium.Map.add_ee_layer = add_ee_layer"
      ],
      "metadata": {
        "id": "R7X2Ag-BYQVr"
      },
      "execution_count": null,
      "outputs": []
    },
    {
      "cell_type": "code",
      "source": [],
      "metadata": {
        "id": "QSvQf7_haGg-"
      },
      "execution_count": null,
      "outputs": []
    },
    {
      "cell_type": "markdown",
      "source": [
        "\n",
        "### Display the cloud-free composite\n",
        "\n",
        "Display the results. Be patient while the map renders, it may take a minute; [`ee.Image.reproject`](https://developers.google.com/earth-engine/guides/projections#reprojecting) is forcing computations to happen at 100 and 20 m scales (i.e. it is not relying on appropriate pyramid level [scales for analysis](https://developers.google.com/earth-engine/guides/scale#scale-of-analysis)). The issues with `ee.Image.reproject` being resource-intensive in this case are mostly confined to interactive map viewing. Batch image [exports](https://developers.google.com/earth-engine/guides/exporting) and table reduction exports where the `scale` parameter is set to typical Sentinel-2 scales (10-60 m) are less affected."
      ],
      "metadata": {
        "id": "6sNwIz4oaIRr"
      }
    },
    {
      "cell_type": "code",
      "source": [
        "# Create a folium map object.\n",
        "center = AOI.centroid(10).coordinates().reverse().getInfo()\n",
        "m = folium.Map(location=center, zoom_start=12)\n",
        "\n",
        "# Add layers to the folium map.\n",
        "m.add_ee_layer(s2_sr_median,\n",
        "                {'bands': ['B4', 'B3', 'B2'], 'min': 0, 'max': 2500, 'gamma': 1.1},\n",
        "                'S2 cloud-free mosaic', True, 1, 9)\n",
        "\n",
        "# Add a layer control panel to the map.\n",
        "m.add_child(folium.LayerControl())\n",
        "\n",
        "# Display the map.\n",
        "display(m)"
      ],
      "metadata": {
        "id": "OCxRZ9dzXyhX"
      },
      "execution_count": null,
      "outputs": []
    }
  ],
  "metadata": {
    "kernelspec": {
      "display_name": "geo",
      "language": "python",
      "name": "python3"
    },
    "language_info": {
      "codemirror_mode": {
        "name": "ipython",
        "version": 3
      },
      "file_extension": ".py",
      "mimetype": "text/x-python",
      "name": "python",
      "nbconvert_exporter": "python",
      "pygments_lexer": "ipython3",
      "version": "3.10.8"
    },
    "orig_nbformat": 4,
    "vscode": {
      "interpreter": {
        "hash": "31f05ea183a4718249d13ada7f166c6bdba1d00716247af5c11c23af8d5923f1"
      }
    },
    "colab": {
      "provenance": [],
      "collapsed_sections": [
        "xZUR3JFMoJfG",
        "ROTRS4GPVZ0C"
      ],
      "include_colab_link": true
    }
  },
  "nbformat": 4,
  "nbformat_minor": 0
}