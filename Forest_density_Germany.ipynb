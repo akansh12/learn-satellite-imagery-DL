{
  "cells": [
    {
      "cell_type": "markdown",
      "metadata": {
        "id": "view-in-github",
        "colab_type": "text"
      },
      "source": [
        "<a href=\"https://colab.research.google.com/github/akansh12/learn-satellite-imagery-DL/blob/main/Forest_density_Germany.ipynb\" target=\"_parent\"><img src=\"https://colab.research.google.com/assets/colab-badge.svg\" alt=\"Open In Colab\"/></a>"
      ]
    },
    {
      "cell_type": "markdown",
      "metadata": {
        "id": "JV6DWH9UVZzr"
      },
      "source": [
        "#  Introduction to google Earth Engine/Satellite Images/Google Colab\n",
        "\n"
      ]
    },
    {
      "cell_type": "markdown",
      "source": [
        "# Some of the useful Links\n"
      ],
      "metadata": {
        "id": "5oQpi_j_BUVr"
      }
    },
    {
      "cell_type": "markdown",
      "metadata": {
        "tags": [],
        "id": "UPK4UM1sNi4R"
      },
      "source": [
        "\n",
        "\n",
        "\n",
        "### Useful links\n",
        "- [Google Earth Engine](https://earthengine.google.com)\n",
        "- [geemap.org](https://geemap.org)\n",
        "- [Google Earth Engine and geemap Python Tutorials](https://www.youtube.com/playlist?list=PLAxJ4-o7ZoPccOFv1dCwvGI6TYnirRTg3)"
      ]
    },
    {
      "cell_type": "markdown",
      "metadata": {
        "id": "TDelh4H7VZzt"
      },
      "source": [
        "## Introduction\n",
        "\n",
        "Google Earth Engine (GEE) is a cloud computing platform with a multi-petabyte catalog of satellite imagery and geospatial datasets. It enables scientists, researchers, and developers to analyze and visualize changes on the Earth’s surface. The geemap Python package provides GEE users with an intuitive interface to manipulate, analyze, and visualize geospatial big data interactively in a Jupyter-based environment\n",
        "\n",
        "What is the use of Satellite Images?\n",
        "\n",
        "1. Satellite imagery plays a typical role in understanding and addressing deforestation and reforestation. High-resolution satellite images provide a comprehensive and detailed view of forest cover and land use changes over time.\n",
        "\n",
        "2. By analyzing these images, scientists, conservationists, and policymakers can monitor deforestation rates, identify areas at risk, and assess the effectiveness of reforestation efforts. Satellite data enables the measurement of forest carbon stocks, the mapping of biodiversity hotspots, and the identification of illegal logging activities.\n",
        "\n",
        "3. It also facilitates the planning and implementation of reforestation projects by identifying suitable locations and monitoring their progress. Satellite imagery, therefore, serves as a valuable tool in the global efforts to combat deforestation, promote reforestation, and ensure the sustainable management of forests.\n",
        "\n",
        "\n",
        "## Our Task\n",
        "In this tutorial we will be to understand the basic idea on Earth engine,Geemap python package,  and calculate basic Indexes used to monitor forest/vegetation like: Normalized Difference Vegetation Index(NDVI), Enhanced Vegetation Index (EVI) and the Soil Adjusted Vegetation Index (SAVI).\n"
      ]
    },
    {
      "cell_type": "markdown",
      "source": [
        "\n",
        "## Requirements/  Prerequisite\n",
        "\n",
        "To follow this tutorial, you must first [sign up](https://earthengine.google.com/signup) for a [Google Earth Engine](https://earthengine.google.com/) account. Earth Engine is a cloud computing platform with a [multi-petabyte catalog](https://developers.google.com/earth-engine/datasets/) of satellite imagery and geospatial datasets. It is free for noncommercial use. To authenticate the Earth Engine Python API, see instructions [here](https://book.geemap.org/chapters/01_introduction.html#earth-engine-authentication).\n",
        "\n",
        "In this tutorial, we will use the [geemap](https://geemap.org) Python package to visualize and analyze the German vegetation. Geemap enables users to analyze and visualize Earth Engine datasets interactively within a Jupyter-based environment with minimal coding. To learn more about geemap, check out https://geemap.org.\n"
      ],
      "metadata": {
        "id": "vi2b3yibCZIe"
      }
    },
    {
      "cell_type": "markdown",
      "metadata": {
        "id": "O8X78SqCVZzu"
      },
      "source": [
        "## Installation of geemap package\n",
        "\n",
        "Uncomment the following line to install geemap if needed."
      ]
    },
    {
      "cell_type": "code",
      "execution_count": null,
      "metadata": {
        "id": "apYNNK4dVZzv"
      },
      "outputs": [],
      "source": [
        "!pip install geemap -q"
      ]
    },
    {
      "cell_type": "markdown",
      "metadata": {
        "id": "hx4g5VNHVZzy"
      },
      "source": [
        "## Import libraries\n",
        "\n",
        "Import the earthengine-api and geemap."
      ]
    },
    {
      "cell_type": "code",
      "execution_count": null,
      "metadata": {
        "id": "1hdVyWwxVZzz"
      },
      "outputs": [],
      "source": [
        "import ee\n",
        "import geemap"
      ]
    },
    {
      "cell_type": "markdown",
      "metadata": {
        "id": "As-ctOT0VZz0"
      },
      "source": [
        "## Creating an interactive map\n",
        "\n",
        "Specify the center point `[lat, lon]` and zoom level of the map."
      ]
    },
    {
      "cell_type": "code",
      "execution_count": null,
      "metadata": {
        "id": "J3uYEga6VZz2",
        "colab": {
          "base_uri": "https://localhost:8080/",
          "height": 621,
          "referenced_widgets": [
            "f8219dddec9b495abda703375942fde2",
            "55d31341e78449339d79686628145ce8",
            "13072ed71f944117ab2f52c88773f710",
            "00129631a109447ea385280ac327c01e",
            "86bdf8c3354e4644bde1b887e33a5e80",
            "49d7a4f7a77d4a3397cd7cf673e6fe03",
            "f972abcf2e6e4e3cbe557e688bd4eea6",
            "f39264f400644c27a1044c30bee44190",
            "ace0a5fbf7034c7fa7c5a5495de2e175",
            "b05541d34668461f9fd9fa26f3c46cbb",
            "f6cac463841641bfb4fb93c4aedb65ef",
            "df371d2e38044673a42517ccd6031f12",
            "3a3883349e2a433498b7efa295b25bb6",
            "32f20e9d00c9483bb1f186791b525ecf",
            "bbd05875e7e74dcfb2ba5579bc88ac1f",
            "54cc276784314ec4afc3bb3443f9807f",
            "8168e54eb91149a0bf8920bd7f1b8ecf",
            "c1d7f07cae0c4e41839913191985ef14",
            "59910cd2420d496287987acd3db4cddd",
            "eb572304195849b29fa8b2196971ce30",
            "2d43bad1a2df4b7f8804f5b55f1ba2b5",
            "135c7f86086e4c47a80192f09382613e",
            "2001698cabf54681a6c8858828e70df4",
            "0ffbff9c3a6c4d93afcd9c7b865c67d1",
            "3f0572332b754edf81943e1e9696aa11"
          ]
        },
        "outputId": "380c8a64-2bc1-46fe-a2c5-20a7cd5c2ce4"
      },
      "outputs": [
        {
          "output_type": "display_data",
          "data": {
            "text/plain": [
              "Map(center=[51.1657, 10.4515], controls=(WidgetControl(options=['position', 'transparent_bg'], widget=HBox(chi…"
            ],
            "application/vnd.jupyter.widget-view+json": {
              "version_major": 2,
              "version_minor": 0,
              "model_id": "f8219dddec9b495abda703375942fde2"
            }
          },
          "metadata": {
            "application/vnd.jupyter.widget-view+json": {
              "colab": {
                "custom_widget_manager": {
                  "url": "https://ssl.gstatic.com/colaboratory-static/widgets/colab-cdn-widget-manager/b3e629b1971e1542/manager.min.js"
                }
              }
            }
          }
        }
      ],
      "source": [
        "Map = geemap.Map(center=[51.1657, 10.4515], zoom=6)\n",
        "Map"
      ]
    },
    {
      "cell_type": "markdown",
      "source": [
        "## Exercise 1: Finding the Geograpical Coordinates of different places in Saarbrucken.\n",
        "\n",
        "    1. Discover the geographic coordinates of Saarbrücken as well as various locations such as restaurants, universities, and houses. Proceed to plot these coordinates on a map.\n",
        "    2. Adjust the zoom factor to 15 for a closer view on the map.\n",
        "\n",
        "- Hint use: Google Maps"
      ],
      "metadata": {
        "id": "G3lOlUrhiAoj"
      }
    },
    {
      "cell_type": "code",
      "source": [
        "#Exercise 1: Fill the Coordinates and zoom\n",
        "Map = geemap.Map(center=[], zoom =)\n",
        "Map"
      ],
      "metadata": {
        "id": "aLg5WmrmrnH-",
        "colab": {
          "base_uri": "https://localhost:8080/",
          "height": 133
        },
        "outputId": "465cbf28-239c-44ea-9ca1-3a4f2d2890ee"
      },
      "execution_count": null,
      "outputs": [
        {
          "output_type": "error",
          "ename": "SyntaxError",
          "evalue": "ignored",
          "traceback": [
            "\u001b[0;36m  File \u001b[0;32m\"<ipython-input-116-da1f329c5d6b>\"\u001b[0;36m, line \u001b[0;32m2\u001b[0m\n\u001b[0;31m    Map = geemap.Map(center=[], zoom =)\u001b[0m\n\u001b[0m                                      ^\u001b[0m\n\u001b[0;31mSyntaxError\u001b[0m\u001b[0;31m:\u001b[0m invalid syntax\n"
          ]
        }
      ]
    },
    {
      "cell_type": "markdown",
      "source": [
        "#### Example Solution"
      ],
      "metadata": {
        "id": "aNXxe2PCisCS"
      }
    },
    {
      "cell_type": "code",
      "source": [
        "Map = geemap.Map(center=[49.245543206654474, 7.004532770284405], zoom=15)\n",
        "Map"
      ],
      "metadata": {
        "id": "33WMCaOaipfA"
      },
      "execution_count": null,
      "outputs": []
    },
    {
      "cell_type": "markdown",
      "metadata": {
        "id": "TswpDlhJVZz5"
      },
      "source": [
        "## Search datasets\n",
        "\n",
        "Click on the globe icon in the top left corner of the map to open the search panel. Select the `data` tab and enter a keyword to search for datasets, e.g., `countries`. Press `Enter` to search. The search results will populate the dropdown list. Select the dataset you want to add to the map from the dropdown list, such as the [`LSIB 2017: Large Scale International Boundary Polygons, Simplified`](https://developers.google.com/earth-engine/datasets/catalog/USDOS_LSIB_SIMPLE_2017). Click on the `import` button to add a new code cell in Jupyter Notebook. Note that Google Colab and JupyterLab do not support creating new code cells programmatically. You will need to manually add a new code cell and copy the data sample code to the new cell.\n",
        "# For datasets not found in the data icon in our map you can find them in the link\n",
        "https://developers.google.com/earth-engine/datasets/catalog"
      ]
    },
    {
      "cell_type": "markdown",
      "metadata": {
        "id": "xbanDgTeVZz6"
      },
      "source": [
        "![](https://i.imgur.com/1ef0sDz.gif)"
      ]
    },
    {
      "cell_type": "code",
      "source": [],
      "metadata": {
        "id": "o0WiUt0AWoZq"
      },
      "execution_count": null,
      "outputs": []
    },
    {
      "cell_type": "markdown",
      "source": [
        "# EARTH ENGINE DATA TYPES\n",
        "\n",
        "---\n",
        "\n",
        "\n",
        "The basic Earth Engine data types are:\n",
        "\n",
        "\n",
        "\n",
        "\n",
        "1.   Image\n",
        "2.   ImageCollection\n",
        "1.   Geometry\n",
        "2.   Feature\n",
        "and FeatureCollection\n",
        "\n",
        "\n",
        "\n",
        "\n",
        "\n",
        "\n",
        "\n",
        "\n",
        "\n",
        "\n",
        "\n",
        "\n",
        "\n",
        "\n",
        "\n",
        "\n",
        "\n",
        "\n",
        "\n",
        "\n"
      ],
      "metadata": {
        "id": "o1igTeP1WqQg"
      }
    },
    {
      "cell_type": "code",
      "source": [
        "image = ee.Image('USGS/SRTMGL1_003')"
      ],
      "metadata": {
        "id": "AWuCtI5oSXvd"
      },
      "execution_count": null,
      "outputs": []
    },
    {
      "cell_type": "markdown",
      "source": [
        "#Visualizing Earth Engine Image"
      ],
      "metadata": {
        "id": "Mi1rMSxIX2Dk"
      }
    },
    {
      "cell_type": "code",
      "source": [
        "#Load an image.\n",
        "image = ee.Image('LANDSAT/LC08/C01/T1_TOA/LC08_044034_20140318')"
      ],
      "metadata": {
        "id": "Ffvs8srXXt6n"
      },
      "execution_count": null,
      "outputs": []
    },
    {
      "cell_type": "code",
      "source": [
        "Map = geemap.Map(center=[51.1657, 10.4515], zoom=7)\n",
        "image = ee.Image('USGS/SRTMGL1_003')\n",
        "vis_params = {\n",
        "    'min': 0,\n",
        "    'max': 6000,\n",
        "    'palette': ['006633', 'E5FFCC', '662A00', 'D8D8D8', 'F5F5F5'],\n",
        "}\n",
        "Map.addLayer(image, vis_params, 'SRTM')\n",
        "Map"
      ],
      "metadata": {
        "id": "LoNcFnXpYLrr",
        "colab": {
          "base_uri": "https://localhost:8080/",
          "height": 621,
          "referenced_widgets": [
            "cb7d69028f7945fdaeb12f74a6acfa5a",
            "a0559ab9480148dcbf7fe71c0687e4dd",
            "b180e62fe55f401686aca253fb79bf21",
            "228e951e5ea0443495beaddd80e91b13",
            "4f0c1b1625bb4d3e845e44f716ce4afa",
            "e8051745a46c46d48561a305c97467c4",
            "a0ad10025fea4864b59d9bb48d0b34f7",
            "fc9502dfc5ce48bf849f7fceb0b8c799",
            "3863742f3b95488db76d0af1db2d7f63",
            "b5057683e52b4be88caabb5b6a6fb67a",
            "b411d7c695c94b66b1de028b3c2abfeb",
            "830515e2155d4559a750f3aaf0718fd0",
            "5f60985e86cb476fbd69b96b072ff3af",
            "ce8f5389ab154e7aaa99e10e76133493",
            "e8121e6e9dbf4e6885b6bbfe762a5d62",
            "90930cce2cfe4c3a8434dc1916de2720",
            "45efe1cf87b344f08b42952ac790b36b",
            "4677446b01014164af8f5e7704a5a9f7",
            "c89a773202db4732b7a748a03b2d18a3",
            "8a2e8df1fbd84b88b46b38e2b0183373",
            "b6f56fbd6247410b9a50b75c7cc28ce8",
            "84d8104e5bb04930b1d4d25edf80cb1f",
            "9a9a306aec8c48ab942e333e9edde7b8",
            "2ff48df1515a401b98abcb2cbd2d4735",
            "407ff7144e85452e8520562b0e699a25",
            "087374bd867747af85caa07385db2c6c"
          ]
        },
        "outputId": "7938cd50-e40b-40d2-c141-c77f370a3b9c"
      },
      "execution_count": null,
      "outputs": [
        {
          "output_type": "display_data",
          "data": {
            "text/plain": [
              "Map(center=[51.1657, 10.4515], controls=(WidgetControl(options=['position', 'transparent_bg'], widget=HBox(chi…"
            ],
            "application/vnd.jupyter.widget-view+json": {
              "version_major": 2,
              "version_minor": 0,
              "model_id": "cb7d69028f7945fdaeb12f74a6acfa5a"
            }
          },
          "metadata": {
            "application/vnd.jupyter.widget-view+json": {
              "colab": {
                "custom_widget_manager": {
                  "url": "https://ssl.gstatic.com/colaboratory-static/widgets/colab-cdn-widget-manager/b3e629b1971e1542/manager.min.js"
                }
              }
            }
          }
        }
      ]
    },
    {
      "cell_type": "markdown",
      "source": [
        "You can also get Image statistics"
      ],
      "metadata": {
        "id": "P7jel9llhaef"
      }
    },
    {
      "cell_type": "code",
      "source": [
        "image = ee.Image('LANDSAT/LC09/C02/T1_L2/LC09_044034_20220503')\n",
        "geemap.image_min_value(image)"
      ],
      "metadata": {
        "id": "-OTlymX3hfQu",
        "colab": {
          "base_uri": "https://localhost:8080/",
          "height": 466
        },
        "outputId": "0cd058b4-a944-4482-f3d4-c88b08517259"
      },
      "execution_count": null,
      "outputs": [
        {
          "output_type": "execute_result",
          "data": {
            "text/plain": [
              "<ee.dictionary.Dictionary at 0x7f7e457cb0d0>"
            ],
            "text/html": [
              "<div><style>:root {\n",
              "  --font-color-primary: var(--jp-content-font-color0, rgba(0, 0, 0, 1));\n",
              "  --font-color-secondary: var(--jp-content-font-color2, rgba(0, 0, 0, 0.6));\n",
              "  --font-color-accent: rgba(123, 31, 162, 1);\n",
              "  --border-color: var(--jp-border-color2, #e0e0e0);\n",
              "  --background-color: var(--jp-layout-color0, white);\n",
              "  --background-color-row-even: var(--jp-layout-color1, white);\n",
              "  --background-color-row-odd: var(--jp-layout-color2, #eeeeee);\n",
              "}\n",
              "\n",
              "html[theme=\"dark\"],\n",
              "body[data-theme=\"dark\"],\n",
              "body.vscode-dark {\n",
              "  --font-color-primary: rgba(255, 255, 255, 1);\n",
              "  --font-color-secondary: rgba(255, 255, 255, 0.6);\n",
              "  --font-color-accent: rgb(173, 132, 190);\n",
              "  --border-color: #2e2e2e;\n",
              "  --background-color: #111111;\n",
              "  --background-color-row-even: #111111;\n",
              "  --background-color-row-odd: #313131;\n",
              "}\n",
              "\n",
              ".ee {\n",
              "  padding: 1em;\n",
              "  line-height: 1.5em;\n",
              "  min-width: 300px;\n",
              "  max-width: 1200px;\n",
              "  overflow-y: scroll;\n",
              "  max-height: 600px;\n",
              "  border: 1px solid var(--border-color);\n",
              "  font-family: monospace;\n",
              "}\n",
              "\n",
              ".ee li {\n",
              "  list-style-type: none;\n",
              "}\n",
              "\n",
              ".ee ul {\n",
              "  padding-left: 1.5em !important;\n",
              "  margin: 0;\n",
              "}\n",
              "\n",
              ".ee > ul {\n",
              "  padding-left: 0 !important;\n",
              "}\n",
              "\n",
              ".ee-open,\n",
              ".ee-shut {\n",
              "  color: var(--font-color-secondary);\n",
              "  cursor: pointer;\n",
              "  margin: 0;\n",
              "}\n",
              "\n",
              ".ee-open:hover,\n",
              ".ee-shut:hover {\n",
              "  color: var(--font-color-primary);\n",
              "}\n",
              "\n",
              ".ee-k {\n",
              "  color: var(--font-color-accent);\n",
              "  margin-right: 6px;\n",
              "}\n",
              "\n",
              ".ee-v {\n",
              "  color: var(--font-color-primary);\n",
              "}\n",
              "\n",
              ".ee-toggle {\n",
              "  display: none;\n",
              "}\n",
              "\n",
              ".ee-shut + ul {\n",
              "  display: none;\n",
              "}\n",
              "\n",
              ".ee-open + ul {\n",
              "  display: block;\n",
              "}\n",
              "\n",
              ".ee-shut::before {\n",
              "  display: inline-block;\n",
              "  content: \"▼\";\n",
              "  margin-right: 6px;\n",
              "  transform: rotate(-90deg);\n",
              "  transition: transform 0.2s;\n",
              "}\n",
              "\n",
              ".ee-open::before {\n",
              "  transform: rotate(0deg);\n",
              "  display: inline-block;\n",
              "  content: \"▼\";\n",
              "  margin-right: 6px;\n",
              "  transition: transform 0.2s;\n",
              "}\n",
              "</style><div class='ee'><ul><li><label class='ee-shut'>Object (19 properties)<input type='checkbox' class='ee-toggle'></label><ul><li><span class='ee-k'>QA_PIXEL:</span><span class='ee-v'>21762</span></li><li><span class='ee-k'>QA_RADSAT:</span><span class='ee-v'>0</span></li><li><span class='ee-k'>SR_B1:</span><span class='ee-v'>1</span></li><li><span class='ee-k'>SR_B2:</span><span class='ee-v'>8</span></li><li><span class='ee-k'>SR_B3:</span><span class='ee-v'>288</span></li><li><span class='ee-k'>SR_B4:</span><span class='ee-v'>481</span></li><li><span class='ee-k'>SR_B5:</span><span class='ee-v'>3410</span></li><li><span class='ee-k'>SR_B6:</span><span class='ee-v'>6302</span></li><li><span class='ee-k'>SR_B7:</span><span class='ee-v'>7095</span></li><li><span class='ee-k'>SR_QA_AEROSOL:</span><span class='ee-v'>1</span></li><li><span class='ee-k'>ST_ATRAN:</span><span class='ee-v'>8821</span></li><li><span class='ee-k'>ST_B10:</span><span class='ee-v'>36413</span></li><li><span class='ee-k'>ST_CDIST:</span><span class='ee-v'>0</span></li><li><span class='ee-k'>ST_DRAD:</span><span class='ee-v'>170</span></li><li><span class='ee-k'>ST_EMIS:</span><span class='ee-v'>8373</span></li><li><span class='ee-k'>ST_EMSD:</span><span class='ee-v'>0</span></li><li><span class='ee-k'>ST_QA:</span><span class='ee-v'>134</span></li><li><span class='ee-k'>ST_TRAD:</span><span class='ee-v'>5991</span></li><li><span class='ee-k'>ST_URAD:</span><span class='ee-v'>294</span></li></ul></li></ul></div><script>function toggleHeader() {\n",
              "    const parent = this.parentElement;\n",
              "    parent.className = parent.className === \"ee-open\" ? \"ee-shut\" : \"ee-open\";\n",
              "}\n",
              "\n",
              "for (let c of document.getElementsByClassName(\"ee-toggle\")) {\n",
              "    c.onclick = toggleHeader;\n",
              "}</script></div>"
            ]
          },
          "metadata": {},
          "execution_count": 120
        }
      ]
    },
    {
      "cell_type": "code",
      "source": [
        "geemap.image_stats(image)"
      ],
      "metadata": {
        "id": "BJCAolC7hhny"
      },
      "execution_count": null,
      "outputs": []
    },
    {
      "cell_type": "markdown",
      "source": [
        "#Loading and visualizing Image collection"
      ],
      "metadata": {
        "id": "potsqZFKb-zv"
      }
    },
    {
      "cell_type": "code",
      "source": [
        "Image_collection = ee.ImageCollection('COPERNICUS/S2_SR')"
      ],
      "metadata": {
        "id": "ymm1g6Bzb9Y3"
      },
      "execution_count": null,
      "outputs": []
    },
    {
      "cell_type": "code",
      "source": [
        "Map = geemap.Map()\n",
        "collection = ee.ImageCollection('COPERNICUS/S2_SR')\n",
        "image = collection.median()\n",
        "\n",
        "vis = {\n",
        "    'min': 0.0,\n",
        "    'max': 128,\n",
        "    'bands': ['B4', 'B3', 'B2'],\n",
        "}\n",
        "\n",
        "Map.setCenter(7.0000,49.2333,10)\n",
        "Map.addLayer(image, vis, 'Sentinel-2')\n",
        "Map"
      ],
      "metadata": {
        "id": "Siql_-Itb7NA"
      },
      "execution_count": null,
      "outputs": []
    },
    {
      "cell_type": "code",
      "source": [],
      "metadata": {
        "id": "OochVz4qdiP3"
      },
      "execution_count": null,
      "outputs": []
    },
    {
      "cell_type": "markdown",
      "source": [
        "#Loading and visualizing Earth Engine Geometry data"
      ],
      "metadata": {
        "id": "SEOk83xQdMEo"
      }
    },
    {
      "cell_type": "code",
      "source": [
        "Map = geemap.Map()\n",
        "\n",
        "point = ee.Geometry.Point([1.5, 1.5])\n",
        "\n",
        "lineString = ee.Geometry.LineString(\n",
        "    [[-35, -10], [35, -10], [35, 10], [-35, 10]], None, False\n",
        ")\n",
        "\n",
        "linearRing = ee.Geometry.LinearRing(\n",
        "    [[-35, -10], [35, -10], [35, 10], [-35, 10], [-35, -10]], None, False\n",
        ")\n",
        "\n",
        "rectangle = ee.Geometry.Rectangle([-40, -20, 40, 20], None, False)\n",
        "\n",
        "polygon = ee.Geometry.Polygon(\n",
        "    [[[-5, 40], [65, 40], [65, 60], [-5, 60], [-5, 60]]], None, False\n",
        ")\n",
        "\n",
        "Map.addLayer(point, {}, 'Point')\n",
        "Map.addLayer(lineString, {}, 'LineString')\n",
        "Map.addLayer(linearRing, {}, 'LinearRing')\n",
        "Map.addLayer(rectangle, {}, 'Rectangle')\n",
        "Map.addLayer(polygon, {}, 'Polygon')\n",
        "Map"
      ],
      "metadata": {
        "id": "2EfRwl1JeAMp"
      },
      "execution_count": null,
      "outputs": []
    },
    {
      "cell_type": "code",
      "source": [
        "Map = geemap.Map(center=[51.1657, 10.4515], zoom=6)\n",
        "Map"
      ],
      "metadata": {
        "id": "C485Z1aYdpQl"
      },
      "execution_count": null,
      "outputs": []
    },
    {
      "cell_type": "code",
      "source": [
        "if Map.user_roi is not None:\n",
        "    print(Map.user_roi.getInfo())"
      ],
      "metadata": {
        "id": "oJPN6JUydK6G"
      },
      "execution_count": null,
      "outputs": []
    },
    {
      "cell_type": "markdown",
      "source": [
        "# Visualizing Feature Earth Engine Dataset"
      ],
      "metadata": {
        "id": "QPTtuMNceJri"
      }
    },
    {
      "cell_type": "code",
      "source": [
        "feature = (\n",
        "    ee.Feature(ee.Geometry.Point([7.000, 49.2333]))\n",
        "    .set('genus', 'Sequoia')\n",
        "    .set('species', 'sempervirens')\n",
        ")\n",
        "newDict = {'genus': 'Brachyramphus', 'presence': 1, 'species': 'marmoratus'}\n",
        "feature = feature.set(newDict)\n",
        "feature"
      ],
      "metadata": {
        "id": "NH7urrHqeHYr"
      },
      "execution_count": null,
      "outputs": []
    },
    {
      "cell_type": "code",
      "source": [
        "Map = geemap.Map()\n",
        "Map.addLayer(feature, {}, 'feature')\n",
        "Map"
      ],
      "metadata": {
        "id": "ys2mrRSEeraj"
      },
      "execution_count": null,
      "outputs": []
    },
    {
      "cell_type": "markdown",
      "source": [
        "#Loading and visualizing FeatureCollection"
      ],
      "metadata": {
        "id": "8S19Nk6DflSF"
      }
    },
    {
      "cell_type": "code",
      "source": [
        "Map = geemap.Map()\n",
        "fc = ee.FeatureCollection('TIGER/2016/Roads')\n",
        "Map.setCenter(-73.9596, 40.7688, 12)\n",
        "Map.addLayer(fc, {}, 'Census roads')\n",
        "Map"
      ],
      "metadata": {
        "id": "ww8fK2vXfhrz"
      },
      "execution_count": null,
      "outputs": []
    },
    {
      "cell_type": "code",
      "source": [
        "Map = geemap.Map()\n",
        "states = ee.FeatureCollection('TIGER/2018/States')\n",
        "fc = states.filter(ee.Filter.inList('NAME', ['California', 'Oregon', 'Washington']))\n",
        "Map.addLayer(fc, {}, 'West Coast')\n",
        "Map.centerObject(fc)\n",
        "Map"
      ],
      "metadata": {
        "id": "TFusL1TrdJrK"
      },
      "execution_count": null,
      "outputs": []
    },
    {
      "cell_type": "markdown",
      "source": [
        "Viewing random Satellite datasets in Python"
      ],
      "metadata": {
        "id": "tlWpYcr7xHgC"
      }
    },
    {
      "cell_type": "code",
      "source": [
        "#From themap show the finland image"
      ],
      "metadata": {
        "id": "Oo3PmF1txQb8"
      },
      "execution_count": null,
      "outputs": []
    },
    {
      "cell_type": "code",
      "source": [],
      "metadata": {
        "id": "rUE4_vA4iiLR"
      },
      "execution_count": null,
      "outputs": []
    },
    {
      "cell_type": "code",
      "source": [],
      "metadata": {
        "id": "MIlXBG9GtQLR"
      },
      "execution_count": null,
      "outputs": []
    },
    {
      "cell_type": "markdown",
      "source": [
        "## General Display of forest cover in Germany from 2021 global forest report"
      ],
      "metadata": {
        "id": "34dEPc4iRaXJ"
      }
    },
    {
      "cell_type": "markdown",
      "metadata": {
        "id": "txkEN2f3VZz6"
      },
      "source": [
        "In the tutorial, we will focus on Germany, but the code can be easily modified to visualize and analyze Vegetation and different aspects like floods  in other countries. Modify the `country_name` variable to specify the country of interest and set the date range for the  event to be monitored. In order to monitor change over period, we also need to specify the date range."
      ]
    },
    {
      "cell_type": "code",
      "source": [
        "Map = geemap.Map()\n",
        "\n",
        "# Load the forest cover dataset.\n",
        "dataset = ee.Image('UMD/hansen/global_forest_change_2021_v1_9')\n",
        "# Load country boundaries from LSIB.\n",
        "countries = ee.FeatureCollection('USDOS/LSIB_SIMPLE/2017')\n",
        "# Get a feature collection with just the Germany feature.\n",
        "germany = countries.filter(ee.Filter.eq('country_na', 'Germany'))\n",
        "\n",
        "# Define the visualization parameters for tree cover.\n",
        "treeCoverVisParam = {\n",
        "  'bands': ['treecover2000'],\n",
        "  'min': 0,\n",
        "  'max': 100,\n",
        "  'palette': ['black', 'green']\n",
        "}\n",
        "\n",
        "# Filter the forest cover image to the study area and select the tree cover band.\n",
        "treeCover = dataset.select('treecover2000') .clip(germany)\n",
        "\n",
        "# Visualize the tree cover.\n",
        "Map.addLayer(treeCover, treeCoverVisParam, 'Tree Cover')\n",
        "Map"
      ],
      "metadata": {
        "id": "cLK5U17VRXqT",
        "colab": {
          "base_uri": "https://localhost:8080/",
          "height": 621,
          "referenced_widgets": [
            "b3f24324360d4dec8a8329cf7d5bdd1a",
            "0d251883a51e40b8ba048683f9f65aa2",
            "8894181b6a0342b88f43026eccb6d26d",
            "7ca69fe535e044eab4e85c480c16d651",
            "9383dcecea6840c1bf08e8ae7ac6a213",
            "ae34ace0b06c4168b81a11ce17fed60c",
            "945b3e3cd1694e04b91e6adf388f2c4b",
            "1d9a535500e44179817a4abd9dc53a11",
            "ac2c0285152e4652a5783be31212ed1d",
            "883d9cd43fe04940972680660619fb1d",
            "31faf58dcd9143aa8993ffad56e5a5ee",
            "bbac25b5c086429095fd342b6889ffe3",
            "e27f041660a640b0babacf1d17f7c68c",
            "3018213d1c534b14a28d81ea8faf4310",
            "bf5b39c1695e4e6ca268c39f5e3be777",
            "72fdba4d527a4675bfb61e6ba44a12ab",
            "f0ec88bb3516400ab735376c14e794a0",
            "7bbb6fc8833b4dc59cf5e89afd81dbcf",
            "b8eb7181f44e498bad70d86474bee4dc",
            "dce60d2006c34fa282abf5dbda2fe552",
            "c6a4d63e99e04754a9d965e100497f63",
            "20bc22a7b59748ada889a5a05f8b8bbb",
            "0e6457daf0254ee6914ec582b08c5200",
            "1a12161eda9c475caa96c7a51a9bad9f",
            "16a003835c1041de902aed7b0f1f5b1a",
            "af6284960dbd4931ae3ba78902217cc1",
            "09c69dab095049828da36229307fd568",
            "2a5fcabdce3941419e64436aef559ae2",
            "671ada0536164737895e0479e1ff0ddb",
            "95fed9eff50843e899648441730ab266",
            "1b44ecec0cc14877822032ed178e1b8d",
            "5ce3f5e7e8774fcd99f1239eab489a59",
            "7b10b203ba8f4b0aaae1633b2a2f87d2",
            "b2c49b70b487448ba5ed3f52e9c2071e",
            "05072e6dc0dd4ec79a717b86becf4913",
            "eb820e90eb8a43c2b53cc4df30f971e1",
            "aa063bee8c1041e69926e1d595ee0e7f",
            "5774db6cf53341ba8868b6bd74a527ea",
            "3b4d835b89c84b1a94c97f9d69472a3a",
            "b28e320a0af84bdd8de74639876ae2c8",
            "fb006dc247b34c75b6a6d162c82e0933",
            "8d7583ad7f0f449b8b73dd3c44108e71",
            "dd64810c162a42a08d02896d046d49f5",
            "4b7b9109dcbc4918a9226d67c797776a",
            "d235f376846d49bdb50a01b0b10077f5",
            "19e850a748924cb2ae8da3b20608796b",
            "ae1ba1ee65ad4a37a414e94d8f8cde9a",
            "8d45c7db9c2e4f849c6a210a00a2d3db",
            "b7446bc3a0014dd9a8e6873e75623639",
            "6ee490a230184bf68ac875c9ac8a22df",
            "191510f942774b88aacd433cce30a9be",
            "1bf26b2fafad4fed8436aca94d71ddc3",
            "8bd714f985c24381b0ee65006ae94142",
            "ac2aeda79fc64393805b3c44b7f0ec13",
            "fd5b6442669747a6b8bfffdd0035a2b2",
            "cf84e17f3af040a1b088597a5e81babc",
            "e08ed103f8324c4391904dfdde84190d",
            "8bae8dcd5f544b4886f397f97f483826",
            "202a9dddfa424535934c594a8cbbdb88",
            "6009e279bbfd49f0bf79f5e2c894fc43",
            "9464f192616b45fe89ba79cebc59c285",
            "d91db31cfae04bc3b223acb8bdc93bbe",
            "97c7c141f8b94c35906cabc85547502b",
            "6f7304670c0b46a585b9c255a4467c7b",
            "8cf0de43830d446ca3d93c04d9c2924d",
            "1f992d57148d4336834c05e5526e3f20",
            "166928bcc18b4c79b4dcef4cc4f1998d",
            "07cb68cc144243358d82cee348fb943f",
            "56927e45fc9e41e8b2f0ef66889e5871",
            "adfc4aed5dbe48348b696200a114768e",
            "d220a4dfc8d64f788953a068bac10eca",
            "b12dc2b118664dc492d315766143a9f9",
            "082467c0ca50430f8222a6d44cd47c1f",
            "08e11bfb65f14cab8e2d936fdd4dc0cd",
            "2dc4d34483484c0196ccc83f1fdba0f0",
            "8ab5ab5406c8478789202301bdcaadc8",
            "2649a7a852574a919023cbaa18219796",
            "c3bf52ae137643e49a7b8c7c3a172b37",
            "9e8a8fb31abe4c99aa794d5583adfad2",
            "64b4043b00a044759ea044f7f8d7a275",
            "85e55d39f8134a20a3ae5f9c1edc5c66",
            "bc1d9e1340aa4850a9ab8d74cb5db435",
            "f4b8f2aef01045d5955f6d5e5f2bf322",
            "4bbaaeca2abb4012aba9f730098ecb26",
            "c17b11f371104c359b597b566b54257b",
            "eaaa40fb68f64e42b5357982d7b45b43",
            "3e66b6da34624b8b98f041d0575a5c3f",
            "48a94260269244d5bb1133c28f23a922",
            "2ff505b02f1944d6bf4acb54a8e84c5a",
            "51b8b26ed56343ce89d9dbd4137fcb12",
            "bfdacbb78dba4f41916cd7c6365fb9b6",
            "a39684f08e334233af0250a8fd59e126",
            "fc44ca74a4094a54ae958f753e707f11",
            "74135f2ce3ae4557906b189d4e0989cc",
            "2483abde7114412d93123ace41a89990",
            "9dd0426e48a545fdb522302474bb0869",
            "e689226e458e43b28ea39a0e604cbdb8",
            "0b9b1128eba047688cea171f4a2d5b71",
            "34747fc84ab34b95a349f3712376d462",
            "4bf63c434b0745e5b3d4cb7cd4b17123"
          ]
        },
        "outputId": "61de9a2d-bcd9-4adc-e44a-8ca28cb91519"
      },
      "execution_count": null,
      "outputs": [
        {
          "output_type": "display_data",
          "data": {
            "text/plain": [
              "Map(center=[20, 0], controls=(WidgetControl(options=['position', 'transparent_bg'], widget=HBox(children=(Togg…"
            ],
            "application/vnd.jupyter.widget-view+json": {
              "version_major": 2,
              "version_minor": 0,
              "model_id": "b3f24324360d4dec8a8329cf7d5bdd1a"
            }
          },
          "metadata": {
            "application/vnd.jupyter.widget-view+json": {
              "colab": {
                "custom_widget_manager": {
                  "url": "https://ssl.gstatic.com/colaboratory-static/widgets/colab-cdn-widget-manager/b3e629b1971e1542/manager.min.js"
                }
              }
            }
          }
        }
      ]
    },
    {
      "cell_type": "code",
      "source": [
        "dataset"
      ],
      "metadata": {
        "id": "zE-yerTlZP9I"
      },
      "execution_count": null,
      "outputs": []
    },
    {
      "cell_type": "markdown",
      "source": [
        "## Exercise 2: Try to find and visualize data for your following countries/location.\n",
        "\n",
        "Some Example:\n",
        "- Brandenburg, Germany Aerial photography data.\n",
        "- ERA5-Land Monthly Aggregated - ECMWF Climate Reanalysis"
      ],
      "metadata": {
        "id": "1uks1EeAIW_3"
      }
    },
    {
      "cell_type": "code",
      "source": [
        "#Code1"
      ],
      "metadata": {
        "id": "HhQiS0jYt3tt"
      },
      "execution_count": null,
      "outputs": []
    },
    {
      "cell_type": "code",
      "source": [
        "#Code2"
      ],
      "metadata": {
        "id": "560QxxX7t3-C"
      },
      "execution_count": null,
      "outputs": []
    },
    {
      "cell_type": "markdown",
      "source": [
        "#### Example  Solution"
      ],
      "metadata": {
        "id": "HHmNYAGTJeM8"
      }
    },
    {
      "cell_type": "code",
      "source": [
        "# The code has been copied to the clipboard.\n",
        "# Press Ctrl+V in a new cell to paste it.\n",
        "#Germany/Brandenburg/orthos/20cm\n",
        "dataset = ee.Image(' ')\n",
        "Map.setCenter(13.386091, 52.507899, 18)\n",
        "Map.addLayer(dataset, None, 'Brandenburg 20cm')"
      ],
      "metadata": {
        "id": "MlH36TFOU691"
      },
      "execution_count": null,
      "outputs": []
    },
    {
      "cell_type": "markdown",
      "source": [
        "In this block you can change the variables like `country_name` or 'pre_monitoring_start_date' to your choice. Feel free to experiment with all the values."
      ],
      "metadata": {
        "id": "N566hUsqlH87"
      }
    },
    {
      "cell_type": "markdown",
      "metadata": {
        "id": "k39XpOhzVZz7"
      },
      "source": [
        "## Visualize datasets\n",
        "\n",
        "Specify the country of interest and filter the dataset by the country name."
      ]
    },
    {
      "cell_type": "code",
      "execution_count": null,
      "metadata": {
        "id": "SQzmi_ipVZz6"
      },
      "outputs": [],
      "source": [
        "country_name = 'Germany'\n",
        "pre_monitoring_start_date = '2021-01-01'\n",
        "pre_monitoring_end_date = '2021-01-30'\n",
        "monitoring_start_date = '2022-08-01'\n",
        "monitoring_end_date = '2022-08-30'"
      ]
    },
    {
      "cell_type": "code",
      "execution_count": null,
      "metadata": {
        "id": "hQ9G2cXyVZz7",
        "colab": {
          "base_uri": "https://localhost:8080/",
          "height": 621,
          "referenced_widgets": [
            "2df5930af6014814a169316fa59a5cea",
            "c3ee7ec5d6f448399fafffd59bc89ca4",
            "014b5e8d05c1411697f239839fd1c258",
            "676e60e633444c5a914f6a86d85804c1",
            "df3fb8b1e98843548a7a0dea8b8624e2",
            "1d5f45e4eefd42c48d8c58d3bbb10d5b",
            "23cbaa05790b4c43a4087286dfa103cb",
            "1347d27566d84c02918f4e45a3781a04",
            "7ace6db827a14a1eb48764b6317df4fc",
            "2aba6c5dbd2944e89b99696610be4a85",
            "0f663587665b460cac9143fc294e2ef1",
            "7a73e5f32df64a1d906f5bc94674a512",
            "ba4b79645a7d47b18e642921d7f84610",
            "210941af46fc48b1bd46dfe77dd25af7",
            "2e35771a3c47451c9a0933531def9b83",
            "b131f131ea6045c2a6c55a493a52ee32",
            "30a0cc33841b4b4c9533ed373dc93fda",
            "3141a3d4b80943dc8fded8741ebcdd01",
            "1ff1cdd8a082468789e4c6988d8d4b1f",
            "05546d1ec8f84caa83c441afb7863fdc",
            "3f3270ede83643d09adb5d02f80ff1eb",
            "2e79a375a5574706accbe47491fa4b2b",
            "6775426519ac4f959f100aabd0062f17",
            "e16edbcc882e4b96895f6e9be95be313",
            "5c099314d56c48e4960a3373285d6d98",
            "ed151e1b07144bbf97b393614ced8603",
            "36db039ac9d048ae9d51ef35e5a16798",
            "9e28e6aaf9014aa993832416c48d3ad8",
            "8f0b7166d2364986b9d1955f875042a9",
            "1efcfc2e051e42d992850098aea2dbf4",
            "99f33f383ee2436297a71c1a1a90c020",
            "44c23be1b39d4d5d95d8e7df952b2776",
            "0c0d5e8842f64d9aae34531a884f907c",
            "6dc23141b3434220b6b0b39b8c62f8e7",
            "96c2679a8c19467d87611db87684b0b0",
            "e0b66ce78e0d4dec98860905baf7ec8a",
            "b1bb228ecb0d4a5d8c9c22796dde0165",
            "ce6dca76e38d41c397567ee18b203175",
            "0e2c79a40c6041d9bda1b0280450edb4",
            "a8bd6798f2b246cf80fbb7f54de29246",
            "2e26d731b7f54f849f24b7ed38cdbc8d",
            "bd67aabc57af478b95788277b8abb80e",
            "1f5b47d0322642969221ae4e4695aeab",
            "5a3bcdaa6c8a4336a6e152485e4516c0",
            "103a6cca13ba43a6863ab490e0b36190",
            "502e31d362474ffdb82cfcb2eccc04fc",
            "1aedbffde03f440fbd446b5c92447315",
            "18eb412910164f5b98a6336a61ae59c4",
            "6cbc4d2083c64fafbd5b564b3141e008",
            "1e50d63c96a946888a01f07e8281da3d",
            "17ef6c8a689b473a85674594f1d55faa",
            "f8dee0780e16469aabcceafd0085fad5",
            "1cdb8cd07bc54aa68ea662a8e7156041",
            "8e0beebbd0c4400c8c7f88d168cbd4f5",
            "6dd3010838fd4f4c9a9fc876bb45e84b",
            "ffe35ea210b54a33aded826921b3336c",
            "5b64d7c0c1b6498f813ecbfcc7992b41",
            "5cb4781d45fd4b10bfbb9d17ba2f28b3",
            "d8394b818b46462385de86a640f8eb69",
            "c32ebf9d1bae4936be45325c42ae58bf",
            "79690eed26b4470ca07e03b29569fab5"
          ]
        },
        "outputId": "c7c281ad-1437-4447-fed0-fe3efc11ff25"
      },
      "outputs": [
        {
          "output_type": "display_data",
          "data": {
            "text/plain": [
              "Map(center=[20, 0], controls=(WidgetControl(options=['position', 'transparent_bg'], widget=HBox(children=(Togg…"
            ],
            "application/vnd.jupyter.widget-view+json": {
              "version_major": 2,
              "version_minor": 0,
              "model_id": "2df5930af6014814a169316fa59a5cea"
            }
          },
          "metadata": {
            "application/vnd.jupyter.widget-view+json": {
              "colab": {
                "custom_widget_manager": {
                  "url": "https://ssl.gstatic.com/colaboratory-static/widgets/colab-cdn-widget-manager/b3e629b1971e1542/manager.min.js"
                }
              }
            }
          }
        }
      ],
      "source": [
        "Map = geemap.Map()\n",
        "\n",
        "country = ee.FeatureCollection('USDOS/LSIB_SIMPLE/2017').filter(\n",
        "    ee.Filter.eq('country_na', country_name)\n",
        ")\n",
        "\n",
        "style = {'color': 'red', 'fillColor': '00000000'}\n",
        "Map.addLayer(country.style(**style), {}, country_name)\n",
        "Map.centerObject(country)\n",
        "Map"
      ]
    },
    {
      "cell_type": "markdown",
      "source": [
        "## Exercise 3: Let us visualize the map of France with Blue boundaries.\n",
        "- Feel free to experiment with differnet countries and colors."
      ],
      "metadata": {
        "id": "_R5Kl-v2lnKw"
      }
    },
    {
      "cell_type": "code",
      "source": [
        "Map = geemap.Map()\n",
        "\n",
        "country_name = ' '\n",
        "color = ' '\n",
        "\n",
        "country = ee.FeatureCollection('USDOS/LSIB_SIMPLE/2017').filter(\n",
        "    ee.Filter.eq('country_na', country_name)\n",
        ")\n",
        "\n",
        "style = {'color': color, 'fillColor': '00000000'}\n",
        "Map.addLayer(country.style(**style), {}, country_name)\n",
        "Map.centerObject(country)\n",
        "Map"
      ],
      "metadata": {
        "id": "1Aiey-T0lltK"
      },
      "execution_count": null,
      "outputs": []
    },
    {
      "cell_type": "code",
      "source": [],
      "metadata": {
        "id": "aOT7bVfwR7Di"
      },
      "execution_count": null,
      "outputs": []
    },
    {
      "cell_type": "markdown",
      "source": [
        "Loading Image dataset"
      ],
      "metadata": {
        "id": "SvQTPfXjSZWR"
      }
    },
    {
      "cell_type": "markdown",
      "source": [
        "Visualizing Earth Engine Image"
      ],
      "metadata": {
        "id": "CJXGBmgpUpG7"
      }
    },
    {
      "cell_type": "code",
      "source": [
        "Map = geemap.Map(center=[21.79, 70.87], zoom=3)\n",
        "image = ee.Image('USGS/SRTMGL1_003')\n",
        "vis_params = {\n",
        "    'min': 0,\n",
        "    'max':3000,\n",
        "    'palette': ['006633', 'E5FFCC', '662A00', 'D8D8D8', 'F5F5F5'],\n",
        "}\n",
        "Map.addLayer(image, vis_params, 'SRTM')\n",
        "Map"
      ],
      "metadata": {
        "id": "a7zw5s6pUn_y"
      },
      "execution_count": null,
      "outputs": []
    },
    {
      "cell_type": "markdown",
      "metadata": {
        "id": "wZD2EzFbVZz8"
      },
      "source": [
        "## Create Landsat composites\n",
        "\n",
        "Create a Landsat composite for the   period (Janury 1 to january 30, 2021) using the [USGS Landsat 8 Collection 2 Tier 1 Raw Scenes](https://developers.google.com/earth-engine/datasets/catalog/LANDSAT_LC08_C02_T1).\n",
        "\n"
      ]
    },
    {
      "cell_type": "markdown",
      "source": [
        "### Winter Period"
      ],
      "metadata": {
        "id": "eRmObNvAV0Q_"
      }
    },
    {
      "cell_type": "code",
      "execution_count": null,
      "metadata": {
        "id": "gj6OvWAwVZz8"
      },
      "outputs": [],
      "source": [
        "country_name = 'Germany'\n",
        "color = 'red'\n",
        "\n",
        "country = ee.FeatureCollection('USDOS/LSIB_SIMPLE/2017').filter(\n",
        "    ee.Filter.eq('country_na', country_name)\n",
        ")\n",
        "\n",
        "Map = geemap.Map()\n",
        "\n",
        "landsat_col_2021 = (\n",
        "    ee.ImageCollection('LANDSAT/LC08/C02/T1')\n",
        "    .filterDate(pre_monitoring_start_date, pre_monitoring_end_date)\n",
        "    .filterBounds(country)\n",
        ")\n",
        "landsat_2021 = ee.Algorithms.Landsat.simpleComposite(landsat_col_2021).clipToCollection(\n",
        "    country\n",
        ")\n",
        "\n",
        "vis_params = {'bands': ['B4', 'B6', 'B7'], 'max': 128}\n",
        "Map.addLayer(landsat_2021, vis_params, 'Landsat 2021')\n",
        "Map.centerObject(country)\n",
        "Map\n"
      ]
    },
    {
      "cell_type": "markdown",
      "source": [
        "### Summer Period"
      ],
      "metadata": {
        "id": "sMgKmSw8WGZ6"
      }
    },
    {
      "cell_type": "code",
      "execution_count": null,
      "metadata": {
        "id": "kAj5p6egEgv_"
      },
      "outputs": [],
      "source": [
        "landsat_col_2022 = (\n",
        "    ee.ImageCollection('LANDSAT/LC08/C02/T1')\n",
        "    .filterDate(monitoring_start_date, monitoring_end_date)\n",
        "    .filterBounds(country)\n",
        ")\n",
        "landsat_2022 = ee.Algorithms.Landsat.simpleComposite(landsat_col_2022).clipToCollection(\n",
        "    country\n",
        ")\n",
        "vis_params = {'bands': ['B4', 'B6', 'B7' ], 'max':  128}\n",
        "Map.addLayer(landsat_2022, vis_params, 'Landsat 2022')\n",
        "Map.centerObject(country)\n",
        "Map"
      ]
    },
    {
      "cell_type": "markdown",
      "source": [
        "## Exercise 4:\n",
        "Using country selected ealier and image collection display \"USGS Landsat 8 Collection 2 Tier 1 and Real-Time data Raw Scenes\" collection w\n",
        " for the year 2022 and 2023\n"
      ],
      "metadata": {
        "id": "xZUR3JFMoJfG"
      }
    },
    {
      "cell_type": "code",
      "source": [
        "country_name = ' ' #To fill\n",
        "color = ' ' # To fill\n",
        "\n",
        "country = ee.FeatureCollection('USDOS/LSIB_SIMPLE/2017').filter(\n",
        "    ee.Filter.eq('country_na', country_name)\n",
        ")\n",
        "\n",
        "Map = geemap.Map()\n",
        "\n",
        "landsat_col_2021 = (\n",
        "    ee.ImageCollection(' ') #To fill\n",
        "    .filterDate(pre_monitoring_start_date, pre_monitoring_end_date)\n",
        "    .filterBounds(country)\n",
        ")\n",
        "landsat_2021 = ee.Algorithms.Landsat.simpleComposite(landsat_col_2021).clipToCollection(\n",
        "    country\n",
        ")\n",
        "\n",
        "vis_params = {'bands': ['B4', 'B3', 'B2' ], 'max': 128}\n",
        "Map.addLayer(landsat_2021, vis_params, 'Landsat 2021')\n",
        "Map"
      ],
      "metadata": {
        "id": "O84ZBrcO2uJu"
      },
      "execution_count": null,
      "outputs": []
    },
    {
      "cell_type": "markdown",
      "metadata": {
        "id": "qzlswEK1VZz9"
      },
      "source": [
        "Create a Landsat 8 composite for the flood period January 1st to December 30, 2022)."
      ]
    },
    {
      "cell_type": "markdown",
      "metadata": {
        "id": "yThPjXUvVZz-"
      },
      "source": [
        "## Compare Landsat composites side by side\n",
        "\n",
        "Combine the summer and winter composites side by side."
      ]
    },
    {
      "cell_type": "code",
      "execution_count": null,
      "metadata": {
        "id": "3gu7AIDtVZz-"
      },
      "outputs": [],
      "source": [
        "\n",
        "\n",
        "Map = geemap.Map()\n",
        "Map.setCenter(  10.4515,51.1657,7  )\n",
        "\n",
        "left_layer = geemap.ee_tile_layer(landsat_2021, vis_params, 'winter 2021')\n",
        "right_layer = geemap.ee_tile_layer(landsat_2022, vis_params, 'summer 2022')\n",
        "\n",
        "Map.split_map(\n",
        "    left_layer, right_layer, left_label='Landsat 2021', right_label='Landsat 2022'\n",
        ")\n",
        "style = {'color': 'red', 'fillColor': '00000000'}\n",
        "Map.addLayer(country.style(**style), {}, country_name)\n",
        "Map"
      ]
    },
    {
      "cell_type": "code",
      "source": [
        "# Create a default map\n",
        "Map = geemap.Map()\n",
        "Map = geemap.Map()\n",
        "\n",
        "#Load an image.\n",
        "image = ee.Image('LANDSAT/LC08/C01/T1_TOA/LC08_044034_20140318')\n",
        "\n",
        "#Create an NDvI image, define visualization parameters and display.\n",
        "ndvi = image.normalizedDifference([ \"B5\", 'B4'])\n",
        "ndviViz = {'min': 0.5, 'max': 1, 'palette': ['00c800','006400']}\n",
        "#Map.setCenter(51.1657, 10.4515)\n",
        "Map.addLayer(ndvi, ndviViz, 'NDVI', False)\n",
        "\n",
        "# Mask the NON-FOREST AREAS\n",
        "ndviMasked = ndvi.updateMask(ndvi.gte(0.5));\n",
        "Map.addLayer(ndviMasked, ndviViz, 'NDVI masked', False)\n",
        "\n",
        "# Create visualization layers.\n",
        "imageRGB = image.visualize(**{'bands': ['B5', 'B4', 'B3'], 'max': 0.5})\n",
        "ndviRGB = ndviMasked.visualize(**{\n",
        "  'min': 0.5,\n",
        "  'max': 1,\n",
        "  'palette': ['00c800','006400']\n",
        "})\n",
        "\n",
        "Map.addLayer(imageRGB, {}, 'imageRGB', False)\n",
        "Map.addLayer(ndviRGB, {}, 'ndviRGB', False)\n",
        "\n",
        "# Mosaic the visualization layers and display (or export).\n",
        "mosaic = ee.ImageCollection([imageRGB, ndviRGB]).mosaic()\n",
        "Map.addLayer(mosaic, {}, 'mosaic');\n",
        "\n",
        "# Display the map\n",
        "Map"
      ],
      "metadata": {
        "id": "PYPEEcb2Gih8"
      },
      "execution_count": null,
      "outputs": []
    },
    {
      "cell_type": "markdown",
      "metadata": {
        "id": "q4ZQrMI1Ni4f"
      },
      "source": [
        "### Create linked maps\n",
        "Displaying different visualization Bands"
      ]
    },
    {
      "cell_type": "markdown",
      "source": [
        "![](https://d9-wret.s3.us-west-2.amazonaws.com/assets/palladium/production/s3fs-public/styles/full_width/public/thumbnails/image/dmidS2LS7Comparison.png)"
      ],
      "metadata": {
        "id": "sLUwVdGt5Y_l"
      }
    },
    {
      "cell_type": "code",
      "source": [],
      "metadata": {
        "id": "YldbqtUj7-Dx"
      },
      "execution_count": null,
      "outputs": []
    },
    {
      "cell_type": "markdown",
      "metadata": {
        "id": "gN5it5ueVZz_"
      },
      "source": [
        "\n",
        "![](https://i.imgur.com/yuZthc6.png)\n",
        "\n",
        "\n",
        "\n"
      ]
    },
    {
      "cell_type": "markdown",
      "source": [
        "## Compute Normalized Difference Veggetation Index (NDVI)\n",
        "\n",
        "The [Normalized Difference Vegetation Index](https://en.wikipedia.org/wiki/Normalized_difference_vegetation_index) (NDVI) is a commonly used index quantifying vegetation by measuring the difference between near-infrared (which vegetation strongly reflects) and red light (which vegetation absorbs). It is calculated as follows:\n",
        "\n",
        "$$NDVI = \\frac{NIR-Red}{ NIR+Red}$$\n",
        "$$ EVI = 2.5 * \\frac  {   (NIR - Red)} {(NIR + 6 * Red - 7.5 * Blue + 1)} $$\n",
        "$$NDWI = (Green - NIR) / (Green + NIR)$$\n",
        "where Red is the red band and NIR is the near-infrared band. The NDVI values range from -1 to 1. The NDVI values are usually thresholded to a positive number (e.g., 0.1-0.3)\n",
        "\n",
        "Landsat 8 imagery has [11 spectral bands](https://developers.google.com/earth-engine/datasets/catalog/LANDSAT_LC08_C02_T1#bands). The Landsat 8 NDVI is calculated using the green (`B4`) and NIR (`B5`) bands."
      ],
      "metadata": {
        "id": "nTS62sw85xs7"
      }
    },
    {
      "cell_type": "code",
      "execution_count": null,
      "metadata": {
        "id": "LDS1nW1jVZz_"
      },
      "outputs": [],
      "source": [
        "ndvi_2021 = landsat_2021.normalizedDifference([ \"B5\", 'B4']).rename('NDVI')\n",
        "ndvi_2022 = landsat_2022.normalizedDifference([\"B5\", 'B4']).rename('NDVI')"
      ]
    },
    {
      "cell_type": "markdown",
      "metadata": {
        "id": "D56M19HGVZ0A"
      },
      "source": [
        "Compute the NDVI layers for the pre-monitoring and Monitoring periods side by side."
      ]
    },
    {
      "cell_type": "code",
      "execution_count": null,
      "metadata": {
        "id": "1OhguBKfVZ0A"
      },
      "outputs": [],
      "source": [
        "Map = geemap.Map()\n",
        "Map.setCenter(  10.4515,51.1657,7 )\n",
        "\n",
        "ndvi_vis = {'min': -1, 'max': 1, 'palette': 'ndvi'}\n",
        "\n",
        "left_layer = geemap.ee_tile_layer(ndvi_2021, ndvi_vis, 'NDVI winter')\n",
        "right_layer = geemap.ee_tile_layer(ndvi_2022, ndvi_vis, 'NDVI summer')\n",
        "\n",
        "Map.split_map(left_layer, right_layer, left_label='NDVI winter', right_label='NDVI summer')\n",
        "Map.addLayer(country.style(**style), {}, country_name)\n",
        "Map"
      ]
    },
    {
      "cell_type": "markdown",
      "metadata": {
        "id": "i0p3Rx2bVZ0A"
      },
      "source": [
        "## Extract LandsatVegetation change\n",
        "\n",
        "To monitor change in vegetation cover(Using NDVI,in normal case NDVI ranges between -1 to 1), we need to convert the NDVI images to binary images using a threshold value for forest which is assumed to be 0.4 and above."
      ]
    },
    {
      "cell_type": "code",
      "execution_count": null,
      "metadata": {
        "id": "Lhu7d5whVZ0B"
      },
      "outputs": [],
      "source": [
        "threshold = 0.5\n",
        "forest_2021 = ndvi_2021.gt(threshold)\n",
        "forest_2022 = ndvi_2022.gt(threshold)"
      ]
    },
    {
      "cell_type": "code",
      "execution_count": null,
      "metadata": {
        "id": "yUMcIb5cVZ0B"
      },
      "outputs": [],
      "source": [
        "Map = geemap.Map()\n",
        "Map.setCenter( 10.4515,51.1657,7 )\n",
        "\n",
        "Map.addLayer(landsat_2021, vis_params, 'Landsat 2021', False)\n",
        "Map.addLayer(landsat_2022, vis_params, 'Landsat 2022', False)\n",
        "\n",
        "left_layer = geemap.ee_tile_layer(\n",
        "    forest_2021.selfMask(), {'palette': 'blue'}, 'forest cover winter 2021'\n",
        ")\n",
        "right_layer = geemap.ee_tile_layer(\n",
        "    forest_2022.selfMask(), {'palette': 'purple'}, 'forest cover summer 2022'\n",
        ")\n",
        "\n",
        "Map.split_map(\n",
        "    left_layer, right_layer, left_label='vegetation 2021', right_label='vegetation 2022'\n",
        ")\n",
        "Map.addLayer(country.style(**style), {}, country_name)\n",
        "Map"
      ]
    },
    {
      "cell_type": "markdown",
      "source": [
        "# Data Analysis"
      ],
      "metadata": {
        "id": "-zaPsAOdk6BC"
      }
    },
    {
      "cell_type": "code",
      "source": [
        "import geemap.chart as chart"
      ],
      "metadata": {
        "id": "1wbek5PPlQmq"
      },
      "execution_count": null,
      "outputs": []
    },
    {
      "cell_type": "code",
      "source": [
        "source = ee.ImageCollection('OREGONSTATE/PRISM/Norm81m').toBands()\n",
        "region = ee.Geometry.Rectangle(-123.41, 40.43, -116.38, 45.14)\n",
        "samples = source.sample(region, 5000)\n",
        "prop = '07_ppt'"
      ],
      "metadata": {
        "id": "AR9OSbSZPXJh"
      },
      "execution_count": null,
      "outputs": []
    },
    {
      "cell_type": "code",
      "source": [
        "options = {\n",
        "    \"title\": 'July Precipitation Distribution for NW USA',\n",
        "    \"xlabel\": 'Precipitation (mm)',\n",
        "    \"ylabel\": 'Pixel count',\n",
        "    \"colors\": ['#1d6b99'],\n",
        "}\n"
      ],
      "metadata": {
        "id": "mC4zZomjPXNf"
      },
      "execution_count": null,
      "outputs": []
    },
    {
      "cell_type": "code",
      "source": [
        "chart.feature_histogram(samples, prop, maxBuckets=30, **options)"
      ],
      "metadata": {
        "id": "6RtuWfbJPXTG"
      },
      "execution_count": null,
      "outputs": []
    },
    {
      "cell_type": "code",
      "source": [
        "def create_reduce_region_function(geometry,\n",
        "                                  reducer=ee.Reducer.mean(),\n",
        "                                  scale=1000,\n",
        "                                  crs='EPSG:4326',\n",
        "                                  bestEffort=True,\n",
        "                                  maxPixels=1e13,\n",
        "                                  tileScale=4):\n",
        "  \"\"\"Creates a region reduction function.\n",
        "\n",
        "  Creates a region reduction function intended to be used as the input function\n",
        "  to ee.ImageCollection.map() for reducing pixels intersecting a provided region\n",
        "  to a statistic for each image in a collection. See ee.Image.reduceRegion()\n",
        "  documentation for more details.\n",
        "\n",
        "  Args:\n",
        "    geometry:\n",
        "      An ee.Geometry that defines the region over which to reduce data.\n",
        "    reducer:\n",
        "      Optional; An ee.Reducer that defines the reduction method.\n",
        "    scale:\n",
        "      Optional; A number that defines the nominal scale in meters of the\n",
        "      projection to work in.\n",
        "    crs:\n",
        "      Optional; An ee.Projection or EPSG string ('EPSG:5070') that defines\n",
        "      the projection to work in.\n",
        "    bestEffort:\n",
        "      Optional; A Boolean indicator for whether to use a larger scale if the\n",
        "      geometry contains too many pixels at the given scale for the operation\n",
        "      to succeed.\n",
        "    maxPixels:\n",
        "      Optional; A number specifying the maximum number of pixels to reduce.\n",
        "    tileScale:\n",
        "      Optional; A number representing the scaling factor used to reduce\n",
        "      aggregation tile size; using a larger tileScale (e.g. 2 or 4) may enable\n",
        "      computations that run out of memory with the default.\n",
        "\n",
        "  Returns:\n",
        "    A function that accepts an ee.Image and reduces it by region, according to\n",
        "    the provided arguments.\n",
        "  \"\"\"\n",
        "\n",
        "  def reduce_region_function(img):\n",
        "    \"\"\"Applies the ee.Image.reduceRegion() method.\n",
        "\n",
        "    Args:\n",
        "      img:\n",
        "        An ee.Image to reduce to a statistic by region.\n",
        "\n",
        "    Returns:\n",
        "      An ee.Feature that contains properties representing the image region\n",
        "      reduction results per band and the image timestamp formatted as\n",
        "      milliseconds from Unix epoch (included to enable time series plotting).\n",
        "    \"\"\"\n",
        "\n",
        "    stat = img.reduceRegion(\n",
        "        reducer=reducer,\n",
        "        geometry=geometry,\n",
        "        scale=scale,\n",
        "        crs=crs,\n",
        "        bestEffort=bestEffort,\n",
        "        maxPixels=maxPixels,\n",
        "        tileScale=tileScale)\n",
        "\n",
        "    return ee.Feature(geometry, stat).set({'millis': img.date().millis()})\n",
        "  return reduce_region_function"
      ],
      "metadata": {
        "id": "8WFN-_-LbvuU"
      },
      "execution_count": null,
      "outputs": []
    },
    {
      "cell_type": "code",
      "source": [],
      "metadata": {
        "id": "NlR7F0RphJlo"
      },
      "execution_count": null,
      "outputs": []
    },
    {
      "cell_type": "markdown",
      "source": [
        "#Take Home"
      ],
      "metadata": {
        "id": "WBfdr17HhL1H"
      }
    },
    {
      "cell_type": "code",
      "source": [
        "import ee\n",
        "\n",
        "# Initialize Earth Engine\n",
        "ee.Initialize()\n",
        "\n",
        "# A Landsat 8 surface reflectance image with SWIR1, NIR, and green bands\n",
        "img = ee.Image('LANDSAT/LC08/C02/T1_L2/LC08_044034_20210508') \\\n",
        "    .select(['SR_B6', 'SR_B5', 'SR_B3'])\n",
        "\n",
        "# Santa Cruz Mountains ecoregion geometry\n",
        "geom = ee.FeatureCollection('EPA/Ecoregions/2013/L4') \\\n",
        "    .filter(ee.Filter.eq('us_l4name', 'Santa Cruz Mountains')) \\\n",
        "    .geometry()\n",
        "\n",
        "# Display layers on the map\n",
        "Map.setCenter(-122.08, 37.22, 9)\n",
        "Map.addLayer(img, {'min': 10000, 'max': 20000}, 'Landsat image')\n",
        "Map.addLayer(geom, {'color': 'white'}, 'Santa Cruz Mountains ecoregion')\n",
        "\n",
        "# Calculate median band values within Santa Cruz Mountains ecoregion\n",
        "stats = img.reduceRegion(\n",
        "    reducer=ee.Reducer.median(),\n",
        "    geometry=geom,\n",
        "    scale=30,  # meters\n",
        "    crs='EPSG:3310'  # California Albers projection\n",
        ")\n",
        "\n",
        "# Print the median band values\n",
        "print('Median band values, Santa Cruz Mountains ecoregion', stats.getInfo())\n",
        "\n",
        "# Combine reducers to calculate mean and standard deviation simultaneously\n",
        "reducer = ee.Reducer.mean().combine(\n",
        "    reducer2=ee.Reducer.stdDev(),\n",
        "    sharedInputs=True\n",
        ")\n",
        "multiStats = img.reduceRegion(\n",
        "    reducer=reducer,\n",
        "    geometry=geom,\n",
        "    scale=30,\n",
        "    crs='EPSG:3310'\n",
        ")\n",
        "\n",
        "# Print the mean and standard deviation band values\n",
        "print('Mean & SD band values, Santa Cruz Mountains ecoregion', multiStats.getInfo())\n"
      ],
      "metadata": {
        "colab": {
          "base_uri": "https://localhost:8080/",
          "height": 73
        },
        "id": "UI8h2eCsez-6",
        "outputId": "dfc3304e-ad9b-496b-da42-b84898b7818a"
      },
      "execution_count": null,
      "outputs": [
        {
          "output_type": "stream",
          "name": "stdout",
          "text": [
            "Median band values, Santa Cruz Mountains ecoregion {'SR_B3': 8637.48756472708, 'SR_B5': 16255.526186815947, 'SR_B6': 11839.041083217784}\n",
            "Mean & SD band values, Santa Cruz Mountains ecoregion {'SR_B3_mean': 8869.527117417745, 'SR_B3_stdDev': 717.5053398392796, 'SR_B5_mean': 15892.543340415175, 'SR_B5_stdDev': 2199.735845160432, 'SR_B6_mean': 12312.856861235123, 'SR_B6_stdDev': 1948.026411867693}\n"
          ]
        }
      ]
    },
    {
      "cell_type": "code",
      "source": [
        "dataset = ee.Image('UMD/hansen/global_forest_change_2021_v1_9')"
      ],
      "metadata": {
        "id": "HxdzBteHd8Fu"
      },
      "execution_count": null,
      "outputs": []
    },
    {
      "cell_type": "code",
      "source": [
        " import ee\n",
        "\n",
        "# Initialize Earth Engine\n",
        "ee.Initialize()\n",
        "\n",
        "# Load the forest cover dataset.\n",
        "img = ee.Image('UMD/hansen/global_forest_change_2021_v1_9').select(['loss','gain','treecover2000'])\n",
        "# Load country boundaries from LSIB.\n",
        "  #ee.FeatureCollection('USDOS/LSIB_SIMPLE/2017')\n",
        "# Get a feature collection with just the Germany feature.\n",
        "germany = countries.filter(ee.Filter.eq('country_na', 'Germany'))\n",
        "\n",
        "\n",
        "geom= ee.FeatureCollection('USDOS/LSIB_SIMPLE/2017').filter(\n",
        "    ee.Filter.eq('country_na', country_name))\n",
        "# Display layers on the map\n",
        "\n",
        "Map.addLayer(img, {'min': 10000, 'max': 20000}, 'Landsat image')\n",
        "Map.addLayer(geom, {'color': 'white'}, 'Germany_Forest')\n",
        "\n",
        "# Calculate median band values within German forest cover\n",
        "stats = img.reduceRegion(\n",
        "  reducer=ee.Reducer.sum(),\n",
        "  geometry= geom,\n",
        "  scale= 30,\n",
        "   maxPixels= 1e12\n",
        ")\n",
        "\n",
        "# Print the median band values\n",
        "print('Median band values, Germany forest cover', stats.getInfo())\n",
        "\n",
        "# Combine reducers to calculate mean and standard deviation simultaneously\n",
        "reducer = ee.Reducer.mean().combine(\n",
        "    reducer2=ee.Reducer.stdDev(),\n",
        "    sharedInputs=True\n",
        ")\n",
        "multiStats = img.reduceRegion(\n",
        "    reducer=reducer,\n",
        "    geometry=geom,\n",
        "    scale=30,\n",
        "    maxPixels= 1e12\n",
        ")\n",
        "\n",
        "# Print the mean and standard deviation band values\n",
        "print('Mean & SD band values, Germany forest cover', multiStats.getInfo())\n",
        "#mean is value ranging from (0,1)"
      ],
      "metadata": {
        "colab": {
          "base_uri": "https://localhost:8080/",
          "height": 73
        },
        "id": "0qrZghjtd93y",
        "outputId": "604fddd6-0ff8-49ca-a97a-2d0aaf132725"
      },
      "execution_count": null,
      "outputs": [
        {
          "output_type": "stream",
          "name": "stdout",
          "text": [
            "Median band values, Germany forest cover {'gain': 4489468.247058825, 'loss': 20547886.40392158, 'treecover2000': 17815927965.46274}\n",
            "Mean & SD band values, Germany forest cover {'gain_mean': 0.007105082803417626, 'gain_stdDev': 0.08398885228739005, 'loss_mean': 0.032519315495933634, 'loss_stdDev': 0.17736551817850985, 'treecover2000_mean': 28.195687428520063, 'treecover2000_stdDev': 38.53940469122635}\n"
          ]
        }
      ]
    },
    {
      "cell_type": "code",
      "source": [
        "data = geemap.examples.get_path('countries.geojson')\n",
        "df = geemap.geojson_to_df(data)\n",
        "df.head()"
      ],
      "metadata": {
        "id": "8NSUH7zdPXce"
      },
      "execution_count": null,
      "outputs": []
    },
    {
      "cell_type": "code",
      "source": [
        "geemap.bar_chart(\n",
        "    data=df,\n",
        "    x='NAME',\n",
        "    y='POP_EST',\n",
        "    x_label='Country',\n",
        "    y_label='Population',\n",
        "    descending=True,\n",
        "    max_rows=10,\n",
        "    title='World Population',\n",
        "    height=500,\n",
        "    layout_args={'title_x': 0.5, 'title_y': 0.85},\n",
        ")"
      ],
      "metadata": {
        "id": "dfqv-17VPXgZ"
      },
      "execution_count": null,
      "outputs": []
    },
    {
      "cell_type": "code",
      "source": [
        "geemap.pie_chart(\n",
        "    data=df,\n",
        "    values='POP_EST',\n",
        "    names='NAME',\n",
        "    max_rows=10,\n",
        "    title='World Population'\n",
        ")"
      ],
      "metadata": {
        "id": "als5_KkR8yQH"
      },
      "execution_count": null,
      "outputs": []
    },
    {
      "cell_type": "markdown",
      "source": [
        "# Exercise\n",
        "Show the 10 least populated countries in the world."
      ],
      "metadata": {
        "id": "YGAXN6kL8EdO"
      }
    },
    {
      "cell_type": "code",
      "source": [
        "geemap.bar_chart(\n",
        "    data=df,\n",
        "    x='NAME',\n",
        "    y='POP_EST',\n",
        "    x_label='Country',\n",
        "    y_label='Population',\n",
        "    descending=,\n",
        "    max_rows=,\n",
        "    title='World Population',\n",
        "    height=500,\n",
        "    layout_args={'title_x': 0.5, 'title_y': 0.85},\n",
        ")"
      ],
      "metadata": {
        "id": "s0L4v76A8oUJ"
      },
      "execution_count": null,
      "outputs": []
    },
    {
      "cell_type": "code",
      "source": [
        "data = geemap.examples.get_path('life_exp.csv')\n",
        "df = geemap.csv_to_df(data)\n",
        "df = df[df['continent'] == 'Oceania']\n",
        "df.tail()"
      ],
      "metadata": {
        "id": "PxGwtpKoPXkS"
      },
      "execution_count": null,
      "outputs": []
    },
    {
      "cell_type": "code",
      "source": [
        "geemap.line_chart(\n",
        "    df,\n",
        "    x='year',\n",
        "    y='lifeExp',\n",
        "    color='country',\n",
        "    x_label='Year',\n",
        "    y_label='Life expectancy',\n",
        "    legend_title='Country',\n",
        "    height=400,\n",
        "    markers=True,\n",
        ")"
      ],
      "metadata": {
        "id": "xGaP6bVhPXn-"
      },
      "execution_count": null,
      "outputs": []
    },
    {
      "cell_type": "markdown",
      "source": [
        "# Exporting Satellite Images"
      ],
      "metadata": {
        "id": "TdHEcPtvnkAi"
      }
    },
    {
      "cell_type": "markdown",
      "source": [
        "To drive"
      ],
      "metadata": {
        "id": "p65WARvvnqFn"
      }
    },
    {
      "cell_type": "code",
      "source": [
        "Map = geemap.Map()\n",
        "\n",
        "image = ee.Image('LANDSAT/LC08/C02/T1_TOA/LC08_044034_20140318').select(\n",
        "    ['B5', 'B4', 'B3']\n",
        ")\n",
        "\n",
        "vis_params = {'min': 0, 'max': 0.5, 'gamma': [0.95, 1.1, 1]}\n",
        "\n",
        "Map.centerObject(image)\n",
        "Map.addLayer(image, vis_params, 'Landsat')\n",
        "Map"
      ],
      "metadata": {
        "id": "r75JXEbEnpGV"
      },
      "execution_count": null,
      "outputs": []
    },
    {
      "cell_type": "code",
      "source": [
        "geemap.ee_export_image_to_drive(\n",
        "    image, description='landsat', folder='export', region=region, scale=30\n",
        ")"
      ],
      "metadata": {
        "id": "ETXIidpGnjUR"
      },
      "execution_count": null,
      "outputs": []
    },
    {
      "cell_type": "markdown",
      "source": [
        "To cloud"
      ],
      "metadata": {
        "id": "bN1MDDJboBBs"
      }
    },
    {
      "cell_type": "code",
      "source": [
        "#bucket = 'your-bucket'\n",
        "#geemap.ee_export_image_to_cloud_storage(\n",
        " #   image, description='landsat', bucket=None, region=region, scale=30\n",
        "#)"
      ],
      "metadata": {
        "id": "kUdIe5Okn7zz"
      },
      "execution_count": null,
      "outputs": []
    },
    {
      "cell_type": "code",
      "source": [
        "point = ee.Geometry.Point(-99.2222, 46.7816)\n",
        "collection = (\n",
        "    ee.ImageCollection('USDA/NAIP/DOQQ')\n",
        "    .filterBounds(point)\n",
        "    .filterDate('2008-01-01', '2018-01-01')\n",
        "    .filter(ee.Filter.listContains(\"system:band_names\", \"N\"))\n",
        ")"
      ],
      "metadata": {
        "id": "MwGTKOQ0oUz8"
      },
      "execution_count": null,
      "outputs": []
    },
    {
      "cell_type": "code",
      "source": [
        "geemap.ee_export_image_collection_to_drive(collection, folder='export', scale=10)"
      ],
      "metadata": {
        "id": "Ec2w4XY9oW-5"
      },
      "execution_count": null,
      "outputs": []
    },
    {
      "cell_type": "markdown",
      "metadata": {
        "id": "ROTRS4GPVZ0C"
      },
      "source": [
        "## To check vegetation change\n",
        "\n",
        "To check te change in vegetation, we need to subtract the pre-monitoring NDVI from the Monitoring period NDVI. The change is the difference between the monitoring period NDVI and the pre-Monitoring period NDVI."
      ]
    },
    {
      "cell_type": "code",
      "execution_count": null,
      "metadata": {
        "id": "t-hhUxmyVZ0C"
      },
      "outputs": [],
      "source": [
        "#change_extent = forest_2022.subtract(forest_2021).gt(0).selfMask()"
      ]
    },
    {
      "cell_type": "code",
      "execution_count": null,
      "metadata": {
        "id": "BuZ7Jt8aVZ0D"
      },
      "outputs": [],
      "source": [
        "Map = geemap.Map()\n",
        "Map.setCenter(51.1657, 10.4515)\n",
        "\n",
        "Map.addLayer(landsat_2021, vis_params, 'Landsat 2021', False)\n",
        "Map.addLayer(landsat_2022, vis_params, 'Landsat 2022', False)\n",
        "\n",
        "left_layer = geemap.ee_tile_layer(\n",
        "    forest_2021.selfMask(), {'palette': 'blue'}, 'forest cover_2021'\n",
        ")\n",
        "right_layer = geemap.ee_tile_layer(\n",
        "   forest_2022.selfMask(), {'palette': 'purple'}, 'forest cover_2022'\n",
        ")\n",
        "\n",
        "Map.split_map(\n",
        "    left_layer, right_layer, left_label='forest cover_2021', right_label='forest cover_2022'\n",
        ")\n",
        "\n",
        "Map.addLayer(change_extent , {'palette': 'red'}, 'Forest cover change')\n",
        "Map.addLayer(country.style(**style), {}, country_name)\n",
        "Map"
      ]
    },
    {
      "cell_type": "code",
      "source": [],
      "metadata": {
        "id": "_SbvNd0m122o"
      },
      "execution_count": null,
      "outputs": []
    },
    {
      "cell_type": "code",
      "source": [
        "# Load the Hansen Global Forest Change dataset\n",
        "gfc2014 = ee.Image('UMD/hansen/global_forest_change_2015')\n",
        "\n",
        "# Load country features from Large Scale International Boundary (LSIB) dataset\n",
        "countries = ee.FeatureCollection('USDOS/LSIB_SIMPLE/2017')\n",
        "\n",
        "# Filter Germany\n",
        "germany = countries.filter(ee.Filter.eq('country_na', 'Germany'))\n",
        "\n",
        "# Subset the forest loss, gain, and tree cover layers\n",
        "lossImage = gfc2014.select(['loss'])\n",
        "gainImage = gfc2014.select(['gain'])\n",
        "treeCover = gfc2014.select(['treecover2000'])\n",
        "\n",
        "# Use the And() method to create the lossAndGain image\n",
        "gainAndLoss = gainImage.And(lossImage)\n",
        "\n",
        "# Create an interactive map\n",
        "Map = geemap.Map()\n",
        "Map.centerObject(germany, 6)\n",
        "\n",
        "# Add the tree cover layer in green\n",
        "Map.addLayer(treeCover.updateMask(treeCover),\n",
        "             {'palette': ['000000', '00FF00'], 'max': 100},\n",
        "             'Forest Cover')\n",
        "\n",
        "# Add the loss layer in red\n",
        "Map.addLayer(lossImage.updateMask(lossImage),\n",
        "             {'palette': ['FF0000']},\n",
        "             'Loss')\n",
        "\n",
        "# Add the gain layer in blue\n",
        "Map.addLayer(gainImage.updateMask(gainImage),\n",
        "             {'palette': ['0000FF']},\n",
        "             'Gain')\n",
        "\n",
        "# Show the loss and gain image\n",
        "Map.addLayer(gainAndLoss.updateMask(gainAndLoss),\n",
        "             {'palette': 'FF00FF'},\n",
        "             'Gain and Loss')\n",
        "\n",
        "# Display the map\n",
        "Map\n"
      ],
      "metadata": {
        "id": "WAE6rTuc0H4b"
      },
      "execution_count": null,
      "outputs": []
    },
    {
      "cell_type": "markdown",
      "metadata": {
        "id": "QnN_l9GjVZ0F"
      },
      "source": [
        "## Create Sentinel-2 SAR composites\n",
        "\n",
        "Besides Landsat, we can also use Sentinel-2 [Synthetic Aperture Radar (SAR)](https://www.earthdata.nasa.gov/learn/backgrounders/what-is-sar) data to monitor vegetation.\n",
        "\n",
        "Sentinel-2 operates in four exclusive [acquisition modes](https://sentinels.copernicus.eu/web/sentinel/missions/sentinel-1/instrument-payload):\n",
        "\n",
        "\n",
        "\n",
        "The [Sentinel-1 SAR data](https://developers.google.com/earth-engine/datasets/catalog/COPERNICUS_S2_SR) are available from 2014 to present. Let's filter the `COPERNICUS/SS2_SR` dataset by the date range and location."
      ]
    },
    {
      "cell_type": "code",
      "source": [],
      "metadata": {
        "id": "mcoF_E7GQvi0"
      },
      "execution_count": null,
      "outputs": []
    },
    {
      "cell_type": "code",
      "execution_count": null,
      "metadata": {
        "id": "SxccQyOONi4f"
      },
      "outputs": [],
      "source": [
        "image = (\n",
        "    ee.ImageCollection('COPERNICUS/S2')\n",
        "    .filterDate('2021-09-01', '2021-09-30')\n",
        "    .map(lambda img: img.divide(10000))\n",
        "    .median()\n",
        ")\n",
        "\n",
        "vis_params = [\n",
        "    {'bands': ['B4', 'B3', 'B2'], 'min': 0, 'max': 1, 'gamma': 1.3},\n",
        "    {'bands': ['B8', 'B11', 'B4'], 'min': 0, 'max': 1, 'gamma': 1.3},\n",
        "    {'bands': ['B8', 'B4', 'B3'], 'min': 0, 'max': 1, 'gamma': 1.3},\n",
        "    {'bands': ['B2', 'B8', 'B4'], 'min': 0, 'max': 1, 'gamma': 1.3},\n",
        "]\n",
        "\n",
        "labels = [\n",
        "    'Natural Color (B4/B3/B2)',\n",
        "    'Land/Water (B8/B11/B4)',\n",
        "    'Color Infrared (B8/B4/B3)',\n",
        "    'Vegetation (B4/B2/B8',\n",
        "]\n",
        "\n",
        "geemap.linked_maps(\n",
        "    rows=2,\n",
        "    cols=2,\n",
        "    height=\"400px\",\n",
        "    center=[51.1657, 10.4515],\n",
        "    zoom=12,\n",
        "    ee_objects=[image],\n",
        "    vis_params=vis_params,\n",
        "    labels=labels,\n",
        "    label_position=\"topright\",\n",
        ")"
      ]
    },
    {
      "cell_type": "markdown",
      "source": [
        "### Define collection filter and cloud mask parameters\n",
        "\n",
        "We'll redefine the parameters to be a little more aggressive, i.e. decrease the cloud probability threshold, increase the cloud projection distance, and increase the buffer. These changes will increase cloud commission error (mask out some clear pixels), but since we will be compositing images from three months, there should be plenty of observations to complete the mosaic."
      ],
      "metadata": {
        "id": "LgBKb6NDZsVj"
      }
    },
    {
      "cell_type": "code",
      "source": [
        "# Import the folium library.\n",
        "import folium"
      ],
      "metadata": {
        "id": "xd6akBbkYH3s"
      },
      "execution_count": null,
      "outputs": []
    },
    {
      "cell_type": "code",
      "source": [
        "# Import the folium library.\n",
        "import folium\n",
        "\n",
        "# Define a method for displaying Earth Engine image tiles to a folium map.\n",
        "def add_ee_layer(self, ee_image_object, vis_params, name, show=True, opacity=1, min_zoom=0):\n",
        "    map_id_dict = ee.Image(ee_image_object).getMapId(vis_params)\n",
        "    folium.raster_layers.TileLayer(\n",
        "        tiles=map_id_dict['tile_fetcher'].url_format,\n",
        "        attr='Map Data &copy; <a href=\"https://earthengine.google.com/\">Google Earth Engine</a>',\n",
        "        name=name,\n",
        "        show=show,\n",
        "        opacity=opacity,\n",
        "        min_zoom=min_zoom,\n",
        "        overlay=True,\n",
        "        control=True\n",
        "        ).add_to(self)\n",
        "\n",
        "# Add the Earth Engine layer method to folium.\n",
        "folium.Map.add_ee_layer = add_ee_layer"
      ],
      "metadata": {
        "id": "R7X2Ag-BYQVr"
      },
      "execution_count": null,
      "outputs": []
    },
    {
      "cell_type": "code",
      "source": [],
      "metadata": {
        "id": "QSvQf7_haGg-"
      },
      "execution_count": null,
      "outputs": []
    }
  ],
  "metadata": {
    "kernelspec": {
      "display_name": "geo",
      "language": "python",
      "name": "python3"
    },
    "language_info": {
      "codemirror_mode": {
        "name": "ipython",
        "version": 3
      },
      "file_extension": ".py",
      "mimetype": "text/x-python",
      "name": "python",
      "nbconvert_exporter": "python",
      "pygments_lexer": "ipython3",
      "version": "3.10.8"
    },
    "orig_nbformat": 4,
    "vscode": {
      "interpreter": {
        "hash": "31f05ea183a4718249d13ada7f166c6bdba1d00716247af5c11c23af8d5923f1"
      }
    },
    "colab": {
      "provenance": [],
      "collapsed_sections": [
        "HHmNYAGTJeM8",
        "xZUR3JFMoJfG",
        "ROTRS4GPVZ0C"
      ],
      "include_colab_link": true
    },
    "widgets": {
      "application/vnd.jupyter.widget-state+json": {
        "f8219dddec9b495abda703375942fde2": {
          "model_module": "jupyter-leaflet",
          "model_name": "LeafletMapModel",
          "model_module_version": "^0.17",
          "state": {
            "_dom_classes": [],
            "_model_module": "jupyter-leaflet",
            "_model_module_version": "^0.17",
            "_model_name": "LeafletMapModel",
            "_view_count": null,
            "_view_module": "jupyter-leaflet",
            "_view_module_version": "^0.17",
            "_view_name": "LeafletMapView",
            "bottom": 5773,
            "bounce_at_zoom_limits": true,
            "box_zoom": true,
            "center": [
              51.1657,
              10.4515
            ],
            "close_popup_on_click": true,
            "controls": [
              "IPY_MODEL_55d31341e78449339d79686628145ce8",
              "IPY_MODEL_13072ed71f944117ab2f52c88773f710",
              "IPY_MODEL_00129631a109447ea385280ac327c01e",
              "IPY_MODEL_86bdf8c3354e4644bde1b887e33a5e80",
              "IPY_MODEL_49d7a4f7a77d4a3397cd7cf673e6fe03",
              "IPY_MODEL_f972abcf2e6e4e3cbe557e688bd4eea6",
              "IPY_MODEL_f39264f400644c27a1044c30bee44190",
              "IPY_MODEL_ace0a5fbf7034c7fa7c5a5495de2e175"
            ],
            "crs": {
              "name": "EPSG3857",
              "custom": false
            },
            "default_style": "IPY_MODEL_b05541d34668461f9fd9fa26f3c46cbb",
            "double_click_zoom": true,
            "dragging": true,
            "dragging_style": "IPY_MODEL_f6cac463841641bfb4fb93c4aedb65ef",
            "east": 24.697265625000004,
            "fullscreen": false,
            "inertia": true,
            "inertia_deceleration": 3000,
            "inertia_max_speed": 1500,
            "interpolation": "bilinear",
            "keyboard": true,
            "keyboard_pan_offset": 80,
            "keyboard_zoom_offset": 1,
            "layers": [
              "IPY_MODEL_df371d2e38044673a42517ccd6031f12",
              "IPY_MODEL_3a3883349e2a433498b7efa295b25bb6"
            ],
            "layout": "IPY_MODEL_32f20e9d00c9483bb1f186791b525ecf",
            "left": 8019,
            "max_zoom": 24,
            "min_zoom": null,
            "modisdate": "2023-06-14",
            "north": 55.11608453987679,
            "options": [
              "bounce_at_zoom_limits",
              "box_zoom",
              "center",
              "close_popup_on_click",
              "double_click_zoom",
              "dragging",
              "fullscreen",
              "inertia",
              "inertia_deceleration",
              "inertia_max_speed",
              "interpolation",
              "keyboard",
              "keyboard_pan_offset",
              "keyboard_zoom_offset",
              "max_zoom",
              "min_zoom",
              "prefer_canvas",
              "scroll_wheel_zoom",
              "tap",
              "tap_tolerance",
              "touch_zoom",
              "world_copy_jump",
              "zoom",
              "zoom_animation_threshold",
              "zoom_delta",
              "zoom_snap"
            ],
            "panes": {},
            "prefer_canvas": false,
            "right": 9316,
            "scroll_wheel_zoom": true,
            "south": 46.84516443029276,
            "style": "IPY_MODEL_bbd05875e7e74dcfb2ba5579bc88ac1f",
            "tap": true,
            "tap_tolerance": 15,
            "top": 5173,
            "touch_zoom": true,
            "west": -3.8012695312500004,
            "window_url": "https://s46lvat9p08-496ff2e9c6d22116-0-colab.googleusercontent.com/outputframe.html?vrz=colab-20230613-060149-RC01_539994307",
            "world_copy_jump": false,
            "zoom": 6,
            "zoom_animation_threshold": 4,
            "zoom_delta": 1,
            "zoom_snap": 1
          }
        },
        "55d31341e78449339d79686628145ce8": {
          "model_module": "jupyter-leaflet",
          "model_name": "LeafletWidgetControlModel",
          "model_module_version": "^0.17",
          "state": {
            "_model_module": "jupyter-leaflet",
            "_model_module_version": "^0.17",
            "_model_name": "LeafletWidgetControlModel",
            "_view_count": null,
            "_view_module": "jupyter-leaflet",
            "_view_module_version": "^0.17",
            "_view_name": "LeafletWidgetControlView",
            "max_height": null,
            "max_width": null,
            "min_height": null,
            "min_width": null,
            "options": [
              "position",
              "transparent_bg"
            ],
            "position": "topleft",
            "transparent_bg": false,
            "widget": "IPY_MODEL_54cc276784314ec4afc3bb3443f9807f"
          }
        },
        "13072ed71f944117ab2f52c88773f710": {
          "model_module": "jupyter-leaflet",
          "model_name": "LeafletZoomControlModel",
          "model_module_version": "^0.17",
          "state": {
            "_model_module": "jupyter-leaflet",
            "_model_module_version": "^0.17",
            "_model_name": "LeafletZoomControlModel",
            "_view_count": null,
            "_view_module": "jupyter-leaflet",
            "_view_module_version": "^0.17",
            "_view_name": "LeafletZoomControlView",
            "options": [
              "position",
              "zoom_in_text",
              "zoom_in_title",
              "zoom_out_text",
              "zoom_out_title"
            ],
            "position": "topleft",
            "zoom_in_text": "+",
            "zoom_in_title": "Zoom in",
            "zoom_out_text": "-",
            "zoom_out_title": "Zoom out"
          }
        },
        "00129631a109447ea385280ac327c01e": {
          "model_module": "jupyter-leaflet",
          "model_name": "LeafletScaleControlModel",
          "model_module_version": "^0.17",
          "state": {
            "_model_module": "jupyter-leaflet",
            "_model_module_version": "^0.17",
            "_model_name": "LeafletScaleControlModel",
            "_view_count": null,
            "_view_module": "jupyter-leaflet",
            "_view_module_version": "^0.17",
            "_view_name": "LeafletScaleControlView",
            "imperial": true,
            "max_width": 100,
            "metric": true,
            "options": [
              "imperial",
              "max_width",
              "metric",
              "position",
              "update_when_idle"
            ],
            "position": "bottomleft",
            "update_when_idle": false
          }
        },
        "86bdf8c3354e4644bde1b887e33a5e80": {
          "model_module": "jupyter-leaflet",
          "model_name": "LeafletFullScreenControlModel",
          "model_module_version": "^0.17",
          "state": {
            "_model_module": "jupyter-leaflet",
            "_model_module_version": "^0.17",
            "_model_name": "LeafletFullScreenControlModel",
            "_view_count": null,
            "_view_module": "jupyter-leaflet",
            "_view_module_version": "^0.17",
            "_view_name": "LeafletFullScreenControlView",
            "options": [
              "position"
            ],
            "position": "topleft"
          }
        },
        "49d7a4f7a77d4a3397cd7cf673e6fe03": {
          "model_module": "jupyter-leaflet",
          "model_name": "LeafletMeasureControlModel",
          "model_module_version": "^0.17",
          "state": {
            "_custom_units": {},
            "_model_module": "jupyter-leaflet",
            "_model_module_version": "^0.17",
            "_model_name": "LeafletMeasureControlModel",
            "_view_count": null,
            "_view_module": "jupyter-leaflet",
            "_view_module_version": "^0.17",
            "_view_name": "LeafletMeasureControlView",
            "active_color": "orange",
            "capture_z_index": 10000,
            "completed_color": "#C8F2BE",
            "options": [
              "active_color",
              "capture_z_index",
              "completed_color",
              "popup_options",
              "position",
              "primary_area_unit",
              "primary_length_unit",
              "secondary_area_unit",
              "secondary_length_unit"
            ],
            "popup_options": {
              "className": "leaflet-measure-resultpopup",
              "autoPanPadding": [
                10,
                10
              ]
            },
            "position": "bottomleft",
            "primary_area_unit": "acres",
            "primary_length_unit": "kilometers",
            "secondary_area_unit": null,
            "secondary_length_unit": null
          }
        },
        "f972abcf2e6e4e3cbe557e688bd4eea6": {
          "model_module": "jupyter-leaflet",
          "model_name": "LeafletAttributionControlModel",
          "model_module_version": "^0.17",
          "state": {
            "_model_module": "jupyter-leaflet",
            "_model_module_version": "^0.17",
            "_model_name": "LeafletAttributionControlModel",
            "_view_count": null,
            "_view_module": "jupyter-leaflet",
            "_view_module_version": "^0.17",
            "_view_name": "LeafletAttributionControlView",
            "options": [
              "position",
              "prefix"
            ],
            "position": "bottomright",
            "prefix": "ipyleaflet"
          }
        },
        "f39264f400644c27a1044c30bee44190": {
          "model_module": "jupyter-leaflet",
          "model_name": "LeafletDrawControlModel",
          "model_module_version": "^0.17",
          "state": {
            "_model_module": "jupyter-leaflet",
            "_model_module_version": "^0.17",
            "_model_name": "LeafletDrawControlModel",
            "_view_count": null,
            "_view_module": "jupyter-leaflet",
            "_view_module_version": "^0.17",
            "_view_name": "LeafletDrawControlView",
            "circle": {
              "shapeOptions": {
                "color": "#3388ff"
              }
            },
            "circlemarker": {},
            "data": [],
            "edit": true,
            "marker": {
              "shapeOptions": {
                "color": "#3388ff"
              }
            },
            "options": [
              "position"
            ],
            "polygon": {
              "shapeOptions": {}
            },
            "polyline": {
              "shapeOptions": {}
            },
            "position": "topleft",
            "rectangle": {
              "shapeOptions": {
                "color": "#3388ff"
              }
            },
            "remove": true
          }
        },
        "ace0a5fbf7034c7fa7c5a5495de2e175": {
          "model_module": "jupyter-leaflet",
          "model_name": "LeafletWidgetControlModel",
          "model_module_version": "^0.17",
          "state": {
            "_model_module": "jupyter-leaflet",
            "_model_module_version": "^0.17",
            "_model_name": "LeafletWidgetControlModel",
            "_view_count": null,
            "_view_module": "jupyter-leaflet",
            "_view_module_version": "^0.17",
            "_view_name": "LeafletWidgetControlView",
            "max_height": null,
            "max_width": null,
            "min_height": null,
            "min_width": null,
            "options": [
              "position",
              "transparent_bg"
            ],
            "position": "topright",
            "transparent_bg": false,
            "widget": "IPY_MODEL_8168e54eb91149a0bf8920bd7f1b8ecf"
          }
        },
        "b05541d34668461f9fd9fa26f3c46cbb": {
          "model_module": "jupyter-leaflet",
          "model_name": "LeafletMapStyleModel",
          "model_module_version": "^0.17",
          "state": {
            "_model_module": "jupyter-leaflet",
            "_model_module_version": "^0.17",
            "_model_name": "LeafletMapStyleModel",
            "_view_count": null,
            "_view_module": "@jupyter-widgets/base",
            "_view_module_version": "1.2.0",
            "_view_name": "StyleView",
            "cursor": "grab"
          }
        },
        "f6cac463841641bfb4fb93c4aedb65ef": {
          "model_module": "jupyter-leaflet",
          "model_name": "LeafletMapStyleModel",
          "model_module_version": "^0.17",
          "state": {
            "_model_module": "jupyter-leaflet",
            "_model_module_version": "^0.17",
            "_model_name": "LeafletMapStyleModel",
            "_view_count": null,
            "_view_module": "@jupyter-widgets/base",
            "_view_module_version": "1.2.0",
            "_view_name": "StyleView",
            "cursor": "move"
          }
        },
        "df371d2e38044673a42517ccd6031f12": {
          "model_module": "jupyter-leaflet",
          "model_name": "LeafletTileLayerModel",
          "model_module_version": "^0.17",
          "state": {
            "_model_module": "jupyter-leaflet",
            "_model_module_version": "^0.17",
            "_model_name": "LeafletTileLayerModel",
            "_view_count": null,
            "_view_module": "jupyter-leaflet",
            "_view_module_version": "^0.17",
            "_view_name": "LeafletTileLayerView",
            "attribution": "&copy; <a href=\"https://www.openstreetmap.org/copyright\">OpenStreetMap</a> contributors",
            "base": true,
            "bottom": true,
            "bounds": null,
            "detect_retina": false,
            "loading": false,
            "max_native_zoom": null,
            "max_zoom": 19,
            "min_native_zoom": null,
            "min_zoom": 1,
            "name": "OpenStreetMap.Mapnik",
            "no_wrap": false,
            "opacity": 1,
            "options": [
              "attribution",
              "bounds",
              "detect_retina",
              "max_native_zoom",
              "max_zoom",
              "min_native_zoom",
              "min_zoom",
              "no_wrap",
              "tile_size",
              "tms",
              "zoom_offset"
            ],
            "pane": "",
            "popup": null,
            "popup_max_height": null,
            "popup_max_width": 300,
            "popup_min_width": 50,
            "show_loading": false,
            "subitems": [],
            "tile_size": 256,
            "tms": false,
            "url": "https://tile.openstreetmap.org/{z}/{x}/{y}.png",
            "visible": true,
            "zoom_offset": 0
          }
        },
        "3a3883349e2a433498b7efa295b25bb6": {
          "model_module": "jupyter-leaflet",
          "model_name": "LeafletTileLayerModel",
          "model_module_version": "^0.17",
          "state": {
            "_model_module": "jupyter-leaflet",
            "_model_module_version": "^0.17",
            "_model_name": "LeafletTileLayerModel",
            "_view_count": null,
            "_view_module": "jupyter-leaflet",
            "_view_module_version": "^0.17",
            "_view_name": "LeafletTileLayerView",
            "attribution": "Google",
            "base": false,
            "bottom": true,
            "bounds": null,
            "detect_retina": false,
            "loading": false,
            "max_native_zoom": null,
            "max_zoom": 24,
            "min_native_zoom": null,
            "min_zoom": 0,
            "name": "Google Maps",
            "no_wrap": false,
            "opacity": 1,
            "options": [
              "attribution",
              "bounds",
              "detect_retina",
              "max_native_zoom",
              "max_zoom",
              "min_native_zoom",
              "min_zoom",
              "no_wrap",
              "tile_size",
              "tms",
              "zoom_offset"
            ],
            "pane": "",
            "popup": null,
            "popup_max_height": null,
            "popup_max_width": 300,
            "popup_min_width": 50,
            "show_loading": false,
            "subitems": [],
            "tile_size": 256,
            "tms": false,
            "url": "https://mt1.google.com/vt/lyrs=m&x={x}&y={y}&z={z}",
            "visible": true,
            "zoom_offset": 0
          }
        },
        "32f20e9d00c9483bb1f186791b525ecf": {
          "model_module": "@jupyter-widgets/base",
          "model_name": "LayoutModel",
          "model_module_version": "1.2.0",
          "state": {
            "_model_module": "@jupyter-widgets/base",
            "_model_module_version": "1.2.0",
            "_model_name": "LayoutModel",
            "_view_count": null,
            "_view_module": "@jupyter-widgets/base",
            "_view_module_version": "1.2.0",
            "_view_name": "LayoutView",
            "align_content": null,
            "align_items": null,
            "align_self": null,
            "border": null,
            "bottom": null,
            "display": null,
            "flex": null,
            "flex_flow": null,
            "grid_area": null,
            "grid_auto_columns": null,
            "grid_auto_flow": null,
            "grid_auto_rows": null,
            "grid_column": null,
            "grid_gap": null,
            "grid_row": null,
            "grid_template_areas": null,
            "grid_template_columns": null,
            "grid_template_rows": null,
            "height": "600px",
            "justify_content": null,
            "justify_items": null,
            "left": null,
            "margin": null,
            "max_height": null,
            "max_width": null,
            "min_height": null,
            "min_width": null,
            "object_fit": null,
            "object_position": null,
            "order": null,
            "overflow": null,
            "overflow_x": null,
            "overflow_y": null,
            "padding": null,
            "right": null,
            "top": null,
            "visibility": null,
            "width": null
          }
        },
        "bbd05875e7e74dcfb2ba5579bc88ac1f": {
          "model_module": "jupyter-leaflet",
          "model_name": "LeafletMapStyleModel",
          "model_module_version": "^0.17",
          "state": {
            "_model_module": "jupyter-leaflet",
            "_model_module_version": "^0.17",
            "_model_name": "LeafletMapStyleModel",
            "_view_count": null,
            "_view_module": "@jupyter-widgets/base",
            "_view_module_version": "1.2.0",
            "_view_name": "StyleView",
            "cursor": "grab"
          }
        },
        "54cc276784314ec4afc3bb3443f9807f": {
          "model_module": "@jupyter-widgets/controls",
          "model_name": "HBoxModel",
          "model_module_version": "1.5.0",
          "state": {
            "_dom_classes": [],
            "_model_module": "@jupyter-widgets/controls",
            "_model_module_version": "1.5.0",
            "_model_name": "HBoxModel",
            "_view_count": null,
            "_view_module": "@jupyter-widgets/controls",
            "_view_module_version": "1.5.0",
            "_view_name": "HBoxView",
            "box_style": "",
            "children": [
              "IPY_MODEL_c1d7f07cae0c4e41839913191985ef14"
            ],
            "layout": "IPY_MODEL_59910cd2420d496287987acd3db4cddd"
          }
        },
        "8168e54eb91149a0bf8920bd7f1b8ecf": {
          "model_module": "@jupyter-widgets/controls",
          "model_name": "VBoxModel",
          "model_module_version": "1.5.0",
          "state": {
            "_dom_classes": [],
            "_model_module": "@jupyter-widgets/controls",
            "_model_module_version": "1.5.0",
            "_model_name": "VBoxModel",
            "_view_count": null,
            "_view_module": "@jupyter-widgets/controls",
            "_view_module_version": "1.5.0",
            "_view_name": "VBoxView",
            "box_style": "",
            "children": [
              "IPY_MODEL_eb572304195849b29fa8b2196971ce30"
            ],
            "layout": "IPY_MODEL_2d43bad1a2df4b7f8804f5b55f1ba2b5"
          }
        },
        "c1d7f07cae0c4e41839913191985ef14": {
          "model_module": "@jupyter-widgets/controls",
          "model_name": "ToggleButtonModel",
          "model_module_version": "1.5.0",
          "state": {
            "_dom_classes": [],
            "_model_module": "@jupyter-widgets/controls",
            "_model_module_version": "1.5.0",
            "_model_name": "ToggleButtonModel",
            "_view_count": null,
            "_view_module": "@jupyter-widgets/controls",
            "_view_module_version": "1.5.0",
            "_view_name": "ToggleButtonView",
            "button_style": "",
            "description": "",
            "description_tooltip": null,
            "disabled": false,
            "icon": "globe",
            "layout": "IPY_MODEL_135c7f86086e4c47a80192f09382613e",
            "style": "IPY_MODEL_2001698cabf54681a6c8858828e70df4",
            "tooltip": "Search location/data",
            "value": false
          }
        },
        "59910cd2420d496287987acd3db4cddd": {
          "model_module": "@jupyter-widgets/base",
          "model_name": "LayoutModel",
          "model_module_version": "1.2.0",
          "state": {
            "_model_module": "@jupyter-widgets/base",
            "_model_module_version": "1.2.0",
            "_model_name": "LayoutModel",
            "_view_count": null,
            "_view_module": "@jupyter-widgets/base",
            "_view_module_version": "1.2.0",
            "_view_name": "LayoutView",
            "align_content": null,
            "align_items": null,
            "align_self": null,
            "border": null,
            "bottom": null,
            "display": null,
            "flex": null,
            "flex_flow": null,
            "grid_area": null,
            "grid_auto_columns": null,
            "grid_auto_flow": null,
            "grid_auto_rows": null,
            "grid_column": null,
            "grid_gap": null,
            "grid_row": null,
            "grid_template_areas": null,
            "grid_template_columns": null,
            "grid_template_rows": null,
            "height": null,
            "justify_content": null,
            "justify_items": null,
            "left": null,
            "margin": null,
            "max_height": null,
            "max_width": null,
            "min_height": null,
            "min_width": null,
            "object_fit": null,
            "object_position": null,
            "order": null,
            "overflow": null,
            "overflow_x": null,
            "overflow_y": null,
            "padding": null,
            "right": null,
            "top": null,
            "visibility": null,
            "width": null
          }
        },
        "eb572304195849b29fa8b2196971ce30": {
          "model_module": "@jupyter-widgets/controls",
          "model_name": "ToggleButtonModel",
          "model_module_version": "1.5.0",
          "state": {
            "_dom_classes": [],
            "_model_module": "@jupyter-widgets/controls",
            "_model_module_version": "1.5.0",
            "_model_name": "ToggleButtonModel",
            "_view_count": null,
            "_view_module": "@jupyter-widgets/controls",
            "_view_module_version": "1.5.0",
            "_view_name": "ToggleButtonView",
            "button_style": "",
            "description": "",
            "description_tooltip": null,
            "disabled": false,
            "icon": "wrench",
            "layout": "IPY_MODEL_0ffbff9c3a6c4d93afcd9c7b865c67d1",
            "style": "IPY_MODEL_3f0572332b754edf81943e1e9696aa11",
            "tooltip": "Toolbar",
            "value": false
          }
        },
        "2d43bad1a2df4b7f8804f5b55f1ba2b5": {
          "model_module": "@jupyter-widgets/base",
          "model_name": "LayoutModel",
          "model_module_version": "1.2.0",
          "state": {
            "_model_module": "@jupyter-widgets/base",
            "_model_module_version": "1.2.0",
            "_model_name": "LayoutModel",
            "_view_count": null,
            "_view_module": "@jupyter-widgets/base",
            "_view_module_version": "1.2.0",
            "_view_name": "LayoutView",
            "align_content": null,
            "align_items": null,
            "align_self": null,
            "border": null,
            "bottom": null,
            "display": null,
            "flex": null,
            "flex_flow": null,
            "grid_area": null,
            "grid_auto_columns": null,
            "grid_auto_flow": null,
            "grid_auto_rows": null,
            "grid_column": null,
            "grid_gap": null,
            "grid_row": null,
            "grid_template_areas": null,
            "grid_template_columns": null,
            "grid_template_rows": null,
            "height": null,
            "justify_content": null,
            "justify_items": null,
            "left": null,
            "margin": null,
            "max_height": null,
            "max_width": null,
            "min_height": null,
            "min_width": null,
            "object_fit": null,
            "object_position": null,
            "order": null,
            "overflow": null,
            "overflow_x": null,
            "overflow_y": null,
            "padding": null,
            "right": null,
            "top": null,
            "visibility": null,
            "width": null
          }
        },
        "135c7f86086e4c47a80192f09382613e": {
          "model_module": "@jupyter-widgets/base",
          "model_name": "LayoutModel",
          "model_module_version": "1.2.0",
          "state": {
            "_model_module": "@jupyter-widgets/base",
            "_model_module_version": "1.2.0",
            "_model_name": "LayoutModel",
            "_view_count": null,
            "_view_module": "@jupyter-widgets/base",
            "_view_module_version": "1.2.0",
            "_view_name": "LayoutView",
            "align_content": null,
            "align_items": null,
            "align_self": null,
            "border": null,
            "bottom": null,
            "display": null,
            "flex": null,
            "flex_flow": null,
            "grid_area": null,
            "grid_auto_columns": null,
            "grid_auto_flow": null,
            "grid_auto_rows": null,
            "grid_column": null,
            "grid_gap": null,
            "grid_row": null,
            "grid_template_areas": null,
            "grid_template_columns": null,
            "grid_template_rows": null,
            "height": "28px",
            "justify_content": null,
            "justify_items": null,
            "left": null,
            "margin": null,
            "max_height": null,
            "max_width": null,
            "min_height": null,
            "min_width": null,
            "object_fit": null,
            "object_position": null,
            "order": null,
            "overflow": null,
            "overflow_x": null,
            "overflow_y": null,
            "padding": "0px 0px 0px 4px",
            "right": null,
            "top": null,
            "visibility": null,
            "width": "28px"
          }
        },
        "2001698cabf54681a6c8858828e70df4": {
          "model_module": "@jupyter-widgets/controls",
          "model_name": "DescriptionStyleModel",
          "model_module_version": "1.5.0",
          "state": {
            "_model_module": "@jupyter-widgets/controls",
            "_model_module_version": "1.5.0",
            "_model_name": "DescriptionStyleModel",
            "_view_count": null,
            "_view_module": "@jupyter-widgets/base",
            "_view_module_version": "1.2.0",
            "_view_name": "StyleView",
            "description_width": ""
          }
        },
        "0ffbff9c3a6c4d93afcd9c7b865c67d1": {
          "model_module": "@jupyter-widgets/base",
          "model_name": "LayoutModel",
          "model_module_version": "1.2.0",
          "state": {
            "_model_module": "@jupyter-widgets/base",
            "_model_module_version": "1.2.0",
            "_model_name": "LayoutModel",
            "_view_count": null,
            "_view_module": "@jupyter-widgets/base",
            "_view_module_version": "1.2.0",
            "_view_name": "LayoutView",
            "align_content": null,
            "align_items": null,
            "align_self": null,
            "border": null,
            "bottom": null,
            "display": null,
            "flex": null,
            "flex_flow": null,
            "grid_area": null,
            "grid_auto_columns": null,
            "grid_auto_flow": null,
            "grid_auto_rows": null,
            "grid_column": null,
            "grid_gap": null,
            "grid_row": null,
            "grid_template_areas": null,
            "grid_template_columns": null,
            "grid_template_rows": null,
            "height": "28px",
            "justify_content": null,
            "justify_items": null,
            "left": null,
            "margin": null,
            "max_height": null,
            "max_width": null,
            "min_height": null,
            "min_width": null,
            "object_fit": null,
            "object_position": null,
            "order": null,
            "overflow": null,
            "overflow_x": null,
            "overflow_y": null,
            "padding": "0px 0px 0px 4px",
            "right": null,
            "top": null,
            "visibility": null,
            "width": "28px"
          }
        },
        "3f0572332b754edf81943e1e9696aa11": {
          "model_module": "@jupyter-widgets/controls",
          "model_name": "DescriptionStyleModel",
          "model_module_version": "1.5.0",
          "state": {
            "_model_module": "@jupyter-widgets/controls",
            "_model_module_version": "1.5.0",
            "_model_name": "DescriptionStyleModel",
            "_view_count": null,
            "_view_module": "@jupyter-widgets/base",
            "_view_module_version": "1.2.0",
            "_view_name": "StyleView",
            "description_width": ""
          }
        },
        "cb7d69028f7945fdaeb12f74a6acfa5a": {
          "model_module": "jupyter-leaflet",
          "model_name": "LeafletMapModel",
          "model_module_version": "^0.17",
          "state": {
            "_dom_classes": [],
            "_model_module": "jupyter-leaflet",
            "_model_module_version": "^0.17",
            "_model_name": "LeafletMapModel",
            "_view_count": null,
            "_view_module": "jupyter-leaflet",
            "_view_module_version": "^0.17",
            "_view_name": "LeafletMapView",
            "bottom": 11246,
            "bounce_at_zoom_limits": true,
            "box_zoom": true,
            "center": [
              51.1657,
              10.4515
            ],
            "close_popup_on_click": true,
            "controls": [
              "IPY_MODEL_a0559ab9480148dcbf7fe71c0687e4dd",
              "IPY_MODEL_b180e62fe55f401686aca253fb79bf21",
              "IPY_MODEL_228e951e5ea0443495beaddd80e91b13",
              "IPY_MODEL_4f0c1b1625bb4d3e845e44f716ce4afa",
              "IPY_MODEL_e8051745a46c46d48561a305c97467c4",
              "IPY_MODEL_a0ad10025fea4864b59d9bb48d0b34f7",
              "IPY_MODEL_fc9502dfc5ce48bf849f7fceb0b8c799",
              "IPY_MODEL_3863742f3b95488db76d0af1db2d7f63"
            ],
            "crs": {
              "name": "EPSG3857",
              "custom": false
            },
            "default_style": "IPY_MODEL_b5057683e52b4be88caabb5b6a6fb67a",
            "double_click_zoom": true,
            "dragging": true,
            "dragging_style": "IPY_MODEL_b411d7c695c94b66b1de028b3c2abfeb",
            "east": 17.578125000000004,
            "fullscreen": false,
            "inertia": true,
            "inertia_deceleration": 3000,
            "inertia_max_speed": 1500,
            "interpolation": "bilinear",
            "keyboard": true,
            "keyboard_pan_offset": 80,
            "keyboard_zoom_offset": 1,
            "layers": [
              "IPY_MODEL_830515e2155d4559a750f3aaf0718fd0",
              "IPY_MODEL_5f60985e86cb476fbd69b96b072ff3af",
              "IPY_MODEL_ce8f5389ab154e7aaa99e10e76133493"
            ],
            "layout": "IPY_MODEL_e8121e6e9dbf4e6885b6bbfe762a5d62",
            "left": 16687,
            "max_zoom": 24,
            "min_zoom": null,
            "modisdate": "2023-06-14",
            "north": 53.186287573913305,
            "options": [
              "bounce_at_zoom_limits",
              "box_zoom",
              "center",
              "close_popup_on_click",
              "double_click_zoom",
              "dragging",
              "fullscreen",
              "inertia",
              "inertia_deceleration",
              "inertia_max_speed",
              "interpolation",
              "keyboard",
              "keyboard_pan_offset",
              "keyboard_zoom_offset",
              "max_zoom",
              "min_zoom",
              "prefer_canvas",
              "scroll_wheel_zoom",
              "tap",
              "tap_tolerance",
              "touch_zoom",
              "world_copy_jump",
              "zoom",
              "zoom_animation_threshold",
              "zoom_delta",
              "zoom_snap"
            ],
            "panes": {},
            "prefer_canvas": false,
            "right": 17984,
            "scroll_wheel_zoom": true,
            "south": 49.05227025601607,
            "style": "IPY_MODEL_90930cce2cfe4c3a8434dc1916de2720",
            "tap": true,
            "tap_tolerance": 15,
            "top": 10646,
            "touch_zoom": true,
            "west": 3.328857421875,
            "window_url": "https://s46lvat9p08-496ff2e9c6d22116-0-colab.googleusercontent.com/outputframe.html?vrz=colab-20230613-060149-RC01_539994307",
            "world_copy_jump": false,
            "zoom": 7,
            "zoom_animation_threshold": 4,
            "zoom_delta": 1,
            "zoom_snap": 1
          }
        },
        "a0559ab9480148dcbf7fe71c0687e4dd": {
          "model_module": "jupyter-leaflet",
          "model_name": "LeafletWidgetControlModel",
          "model_module_version": "^0.17",
          "state": {
            "_model_module": "jupyter-leaflet",
            "_model_module_version": "^0.17",
            "_model_name": "LeafletWidgetControlModel",
            "_view_count": null,
            "_view_module": "jupyter-leaflet",
            "_view_module_version": "^0.17",
            "_view_name": "LeafletWidgetControlView",
            "max_height": null,
            "max_width": null,
            "min_height": null,
            "min_width": null,
            "options": [
              "position",
              "transparent_bg"
            ],
            "position": "topleft",
            "transparent_bg": false,
            "widget": "IPY_MODEL_45efe1cf87b344f08b42952ac790b36b"
          }
        },
        "b180e62fe55f401686aca253fb79bf21": {
          "model_module": "jupyter-leaflet",
          "model_name": "LeafletZoomControlModel",
          "model_module_version": "^0.17",
          "state": {
            "_model_module": "jupyter-leaflet",
            "_model_module_version": "^0.17",
            "_model_name": "LeafletZoomControlModel",
            "_view_count": null,
            "_view_module": "jupyter-leaflet",
            "_view_module_version": "^0.17",
            "_view_name": "LeafletZoomControlView",
            "options": [
              "position",
              "zoom_in_text",
              "zoom_in_title",
              "zoom_out_text",
              "zoom_out_title"
            ],
            "position": "topleft",
            "zoom_in_text": "+",
            "zoom_in_title": "Zoom in",
            "zoom_out_text": "-",
            "zoom_out_title": "Zoom out"
          }
        },
        "228e951e5ea0443495beaddd80e91b13": {
          "model_module": "jupyter-leaflet",
          "model_name": "LeafletScaleControlModel",
          "model_module_version": "^0.17",
          "state": {
            "_model_module": "jupyter-leaflet",
            "_model_module_version": "^0.17",
            "_model_name": "LeafletScaleControlModel",
            "_view_count": null,
            "_view_module": "jupyter-leaflet",
            "_view_module_version": "^0.17",
            "_view_name": "LeafletScaleControlView",
            "imperial": true,
            "max_width": 100,
            "metric": true,
            "options": [
              "imperial",
              "max_width",
              "metric",
              "position",
              "update_when_idle"
            ],
            "position": "bottomleft",
            "update_when_idle": false
          }
        },
        "4f0c1b1625bb4d3e845e44f716ce4afa": {
          "model_module": "jupyter-leaflet",
          "model_name": "LeafletFullScreenControlModel",
          "model_module_version": "^0.17",
          "state": {
            "_model_module": "jupyter-leaflet",
            "_model_module_version": "^0.17",
            "_model_name": "LeafletFullScreenControlModel",
            "_view_count": null,
            "_view_module": "jupyter-leaflet",
            "_view_module_version": "^0.17",
            "_view_name": "LeafletFullScreenControlView",
            "options": [
              "position"
            ],
            "position": "topleft"
          }
        },
        "e8051745a46c46d48561a305c97467c4": {
          "model_module": "jupyter-leaflet",
          "model_name": "LeafletMeasureControlModel",
          "model_module_version": "^0.17",
          "state": {
            "_custom_units": {},
            "_model_module": "jupyter-leaflet",
            "_model_module_version": "^0.17",
            "_model_name": "LeafletMeasureControlModel",
            "_view_count": null,
            "_view_module": "jupyter-leaflet",
            "_view_module_version": "^0.17",
            "_view_name": "LeafletMeasureControlView",
            "active_color": "orange",
            "capture_z_index": 10000,
            "completed_color": "#C8F2BE",
            "options": [
              "active_color",
              "capture_z_index",
              "completed_color",
              "popup_options",
              "position",
              "primary_area_unit",
              "primary_length_unit",
              "secondary_area_unit",
              "secondary_length_unit"
            ],
            "popup_options": {
              "className": "leaflet-measure-resultpopup",
              "autoPanPadding": [
                10,
                10
              ]
            },
            "position": "bottomleft",
            "primary_area_unit": "acres",
            "primary_length_unit": "kilometers",
            "secondary_area_unit": null,
            "secondary_length_unit": null
          }
        },
        "a0ad10025fea4864b59d9bb48d0b34f7": {
          "model_module": "jupyter-leaflet",
          "model_name": "LeafletAttributionControlModel",
          "model_module_version": "^0.17",
          "state": {
            "_model_module": "jupyter-leaflet",
            "_model_module_version": "^0.17",
            "_model_name": "LeafletAttributionControlModel",
            "_view_count": null,
            "_view_module": "jupyter-leaflet",
            "_view_module_version": "^0.17",
            "_view_name": "LeafletAttributionControlView",
            "options": [
              "position",
              "prefix"
            ],
            "position": "bottomright",
            "prefix": "ipyleaflet"
          }
        },
        "fc9502dfc5ce48bf849f7fceb0b8c799": {
          "model_module": "jupyter-leaflet",
          "model_name": "LeafletDrawControlModel",
          "model_module_version": "^0.17",
          "state": {
            "_model_module": "jupyter-leaflet",
            "_model_module_version": "^0.17",
            "_model_name": "LeafletDrawControlModel",
            "_view_count": null,
            "_view_module": "jupyter-leaflet",
            "_view_module_version": "^0.17",
            "_view_name": "LeafletDrawControlView",
            "circle": {
              "shapeOptions": {
                "color": "#3388ff"
              }
            },
            "circlemarker": {},
            "data": [],
            "edit": true,
            "marker": {
              "shapeOptions": {
                "color": "#3388ff"
              }
            },
            "options": [
              "position"
            ],
            "polygon": {
              "shapeOptions": {}
            },
            "polyline": {
              "shapeOptions": {}
            },
            "position": "topleft",
            "rectangle": {
              "shapeOptions": {
                "color": "#3388ff"
              }
            },
            "remove": true
          }
        },
        "3863742f3b95488db76d0af1db2d7f63": {
          "model_module": "jupyter-leaflet",
          "model_name": "LeafletWidgetControlModel",
          "model_module_version": "^0.17",
          "state": {
            "_model_module": "jupyter-leaflet",
            "_model_module_version": "^0.17",
            "_model_name": "LeafletWidgetControlModel",
            "_view_count": null,
            "_view_module": "jupyter-leaflet",
            "_view_module_version": "^0.17",
            "_view_name": "LeafletWidgetControlView",
            "max_height": null,
            "max_width": null,
            "min_height": null,
            "min_width": null,
            "options": [
              "position",
              "transparent_bg"
            ],
            "position": "topright",
            "transparent_bg": false,
            "widget": "IPY_MODEL_4677446b01014164af8f5e7704a5a9f7"
          }
        },
        "b5057683e52b4be88caabb5b6a6fb67a": {
          "model_module": "jupyter-leaflet",
          "model_name": "LeafletMapStyleModel",
          "model_module_version": "^0.17",
          "state": {
            "_model_module": "jupyter-leaflet",
            "_model_module_version": "^0.17",
            "_model_name": "LeafletMapStyleModel",
            "_view_count": null,
            "_view_module": "@jupyter-widgets/base",
            "_view_module_version": "1.2.0",
            "_view_name": "StyleView",
            "cursor": "grab"
          }
        },
        "b411d7c695c94b66b1de028b3c2abfeb": {
          "model_module": "jupyter-leaflet",
          "model_name": "LeafletMapStyleModel",
          "model_module_version": "^0.17",
          "state": {
            "_model_module": "jupyter-leaflet",
            "_model_module_version": "^0.17",
            "_model_name": "LeafletMapStyleModel",
            "_view_count": null,
            "_view_module": "@jupyter-widgets/base",
            "_view_module_version": "1.2.0",
            "_view_name": "StyleView",
            "cursor": "move"
          }
        },
        "830515e2155d4559a750f3aaf0718fd0": {
          "model_module": "jupyter-leaflet",
          "model_name": "LeafletTileLayerModel",
          "model_module_version": "^0.17",
          "state": {
            "_model_module": "jupyter-leaflet",
            "_model_module_version": "^0.17",
            "_model_name": "LeafletTileLayerModel",
            "_view_count": null,
            "_view_module": "jupyter-leaflet",
            "_view_module_version": "^0.17",
            "_view_name": "LeafletTileLayerView",
            "attribution": "&copy; <a href=\"https://www.openstreetmap.org/copyright\">OpenStreetMap</a> contributors",
            "base": true,
            "bottom": true,
            "bounds": null,
            "detect_retina": false,
            "loading": false,
            "max_native_zoom": null,
            "max_zoom": 19,
            "min_native_zoom": null,
            "min_zoom": 1,
            "name": "OpenStreetMap.Mapnik",
            "no_wrap": false,
            "opacity": 1,
            "options": [
              "attribution",
              "bounds",
              "detect_retina",
              "max_native_zoom",
              "max_zoom",
              "min_native_zoom",
              "min_zoom",
              "no_wrap",
              "tile_size",
              "tms",
              "zoom_offset"
            ],
            "pane": "",
            "popup": null,
            "popup_max_height": null,
            "popup_max_width": 300,
            "popup_min_width": 50,
            "show_loading": false,
            "subitems": [],
            "tile_size": 256,
            "tms": false,
            "url": "https://tile.openstreetmap.org/{z}/{x}/{y}.png",
            "visible": true,
            "zoom_offset": 0
          }
        },
        "5f60985e86cb476fbd69b96b072ff3af": {
          "model_module": "jupyter-leaflet",
          "model_name": "LeafletTileLayerModel",
          "model_module_version": "^0.17",
          "state": {
            "_model_module": "jupyter-leaflet",
            "_model_module_version": "^0.17",
            "_model_name": "LeafletTileLayerModel",
            "_view_count": null,
            "_view_module": "jupyter-leaflet",
            "_view_module_version": "^0.17",
            "_view_name": "LeafletTileLayerView",
            "attribution": "Google",
            "base": false,
            "bottom": true,
            "bounds": null,
            "detect_retina": false,
            "loading": false,
            "max_native_zoom": null,
            "max_zoom": 24,
            "min_native_zoom": null,
            "min_zoom": 0,
            "name": "Google Maps",
            "no_wrap": false,
            "opacity": 1,
            "options": [
              "attribution",
              "bounds",
              "detect_retina",
              "max_native_zoom",
              "max_zoom",
              "min_native_zoom",
              "min_zoom",
              "no_wrap",
              "tile_size",
              "tms",
              "zoom_offset"
            ],
            "pane": "",
            "popup": null,
            "popup_max_height": null,
            "popup_max_width": 300,
            "popup_min_width": 50,
            "show_loading": false,
            "subitems": [],
            "tile_size": 256,
            "tms": false,
            "url": "https://mt1.google.com/vt/lyrs=m&x={x}&y={y}&z={z}",
            "visible": true,
            "zoom_offset": 0
          }
        },
        "ce8f5389ab154e7aaa99e10e76133493": {
          "model_module": "jupyter-leaflet",
          "model_name": "LeafletTileLayerModel",
          "model_module_version": "^0.17",
          "state": {
            "_model_module": "jupyter-leaflet",
            "_model_module_version": "^0.17",
            "_model_name": "LeafletTileLayerModel",
            "_view_count": null,
            "_view_module": "jupyter-leaflet",
            "_view_module_version": "^0.17",
            "_view_name": "LeafletTileLayerView",
            "attribution": "Google Earth Engine",
            "base": false,
            "bottom": true,
            "bounds": null,
            "detect_retina": false,
            "loading": false,
            "max_native_zoom": null,
            "max_zoom": 24,
            "min_native_zoom": null,
            "min_zoom": 0,
            "name": "SRTM",
            "no_wrap": false,
            "opacity": 1,
            "options": [
              "attribution",
              "bounds",
              "detect_retina",
              "max_native_zoom",
              "max_zoom",
              "min_native_zoom",
              "min_zoom",
              "no_wrap",
              "tile_size",
              "tms",
              "zoom_offset"
            ],
            "pane": "",
            "popup": null,
            "popup_max_height": null,
            "popup_max_width": 300,
            "popup_min_width": 50,
            "show_loading": false,
            "subitems": [],
            "tile_size": 256,
            "tms": false,
            "url": "https://earthengine.googleapis.com/v1alpha/projects/earthengine-legacy/maps/c62bbabe1c567c732f0f9f38f901a3af-73364ef05b68b7868178461ec6248e92/tiles/{z}/{x}/{y}",
            "visible": true,
            "zoom_offset": 0
          }
        },
        "e8121e6e9dbf4e6885b6bbfe762a5d62": {
          "model_module": "@jupyter-widgets/base",
          "model_name": "LayoutModel",
          "model_module_version": "1.2.0",
          "state": {
            "_model_module": "@jupyter-widgets/base",
            "_model_module_version": "1.2.0",
            "_model_name": "LayoutModel",
            "_view_count": null,
            "_view_module": "@jupyter-widgets/base",
            "_view_module_version": "1.2.0",
            "_view_name": "LayoutView",
            "align_content": null,
            "align_items": null,
            "align_self": null,
            "border": null,
            "bottom": null,
            "display": null,
            "flex": null,
            "flex_flow": null,
            "grid_area": null,
            "grid_auto_columns": null,
            "grid_auto_flow": null,
            "grid_auto_rows": null,
            "grid_column": null,
            "grid_gap": null,
            "grid_row": null,
            "grid_template_areas": null,
            "grid_template_columns": null,
            "grid_template_rows": null,
            "height": "600px",
            "justify_content": null,
            "justify_items": null,
            "left": null,
            "margin": null,
            "max_height": null,
            "max_width": null,
            "min_height": null,
            "min_width": null,
            "object_fit": null,
            "object_position": null,
            "order": null,
            "overflow": null,
            "overflow_x": null,
            "overflow_y": null,
            "padding": null,
            "right": null,
            "top": null,
            "visibility": null,
            "width": null
          }
        },
        "90930cce2cfe4c3a8434dc1916de2720": {
          "model_module": "jupyter-leaflet",
          "model_name": "LeafletMapStyleModel",
          "model_module_version": "^0.17",
          "state": {
            "_model_module": "jupyter-leaflet",
            "_model_module_version": "^0.17",
            "_model_name": "LeafletMapStyleModel",
            "_view_count": null,
            "_view_module": "@jupyter-widgets/base",
            "_view_module_version": "1.2.0",
            "_view_name": "StyleView",
            "cursor": "grab"
          }
        },
        "45efe1cf87b344f08b42952ac790b36b": {
          "model_module": "@jupyter-widgets/controls",
          "model_name": "HBoxModel",
          "model_module_version": "1.5.0",
          "state": {
            "_dom_classes": [],
            "_model_module": "@jupyter-widgets/controls",
            "_model_module_version": "1.5.0",
            "_model_name": "HBoxModel",
            "_view_count": null,
            "_view_module": "@jupyter-widgets/controls",
            "_view_module_version": "1.5.0",
            "_view_name": "HBoxView",
            "box_style": "",
            "children": [
              "IPY_MODEL_c89a773202db4732b7a748a03b2d18a3"
            ],
            "layout": "IPY_MODEL_8a2e8df1fbd84b88b46b38e2b0183373"
          }
        },
        "4677446b01014164af8f5e7704a5a9f7": {
          "model_module": "@jupyter-widgets/controls",
          "model_name": "VBoxModel",
          "model_module_version": "1.5.0",
          "state": {
            "_dom_classes": [],
            "_model_module": "@jupyter-widgets/controls",
            "_model_module_version": "1.5.0",
            "_model_name": "VBoxModel",
            "_view_count": null,
            "_view_module": "@jupyter-widgets/controls",
            "_view_module_version": "1.5.0",
            "_view_name": "VBoxView",
            "box_style": "",
            "children": [
              "IPY_MODEL_b6f56fbd6247410b9a50b75c7cc28ce8"
            ],
            "layout": "IPY_MODEL_84d8104e5bb04930b1d4d25edf80cb1f"
          }
        },
        "c89a773202db4732b7a748a03b2d18a3": {
          "model_module": "@jupyter-widgets/controls",
          "model_name": "ToggleButtonModel",
          "model_module_version": "1.5.0",
          "state": {
            "_dom_classes": [],
            "_model_module": "@jupyter-widgets/controls",
            "_model_module_version": "1.5.0",
            "_model_name": "ToggleButtonModel",
            "_view_count": null,
            "_view_module": "@jupyter-widgets/controls",
            "_view_module_version": "1.5.0",
            "_view_name": "ToggleButtonView",
            "button_style": "",
            "description": "",
            "description_tooltip": null,
            "disabled": false,
            "icon": "globe",
            "layout": "IPY_MODEL_9a9a306aec8c48ab942e333e9edde7b8",
            "style": "IPY_MODEL_2ff48df1515a401b98abcb2cbd2d4735",
            "tooltip": "Search location/data",
            "value": false
          }
        },
        "8a2e8df1fbd84b88b46b38e2b0183373": {
          "model_module": "@jupyter-widgets/base",
          "model_name": "LayoutModel",
          "model_module_version": "1.2.0",
          "state": {
            "_model_module": "@jupyter-widgets/base",
            "_model_module_version": "1.2.0",
            "_model_name": "LayoutModel",
            "_view_count": null,
            "_view_module": "@jupyter-widgets/base",
            "_view_module_version": "1.2.0",
            "_view_name": "LayoutView",
            "align_content": null,
            "align_items": null,
            "align_self": null,
            "border": null,
            "bottom": null,
            "display": null,
            "flex": null,
            "flex_flow": null,
            "grid_area": null,
            "grid_auto_columns": null,
            "grid_auto_flow": null,
            "grid_auto_rows": null,
            "grid_column": null,
            "grid_gap": null,
            "grid_row": null,
            "grid_template_areas": null,
            "grid_template_columns": null,
            "grid_template_rows": null,
            "height": null,
            "justify_content": null,
            "justify_items": null,
            "left": null,
            "margin": null,
            "max_height": null,
            "max_width": null,
            "min_height": null,
            "min_width": null,
            "object_fit": null,
            "object_position": null,
            "order": null,
            "overflow": null,
            "overflow_x": null,
            "overflow_y": null,
            "padding": null,
            "right": null,
            "top": null,
            "visibility": null,
            "width": null
          }
        },
        "b6f56fbd6247410b9a50b75c7cc28ce8": {
          "model_module": "@jupyter-widgets/controls",
          "model_name": "ToggleButtonModel",
          "model_module_version": "1.5.0",
          "state": {
            "_dom_classes": [],
            "_model_module": "@jupyter-widgets/controls",
            "_model_module_version": "1.5.0",
            "_model_name": "ToggleButtonModel",
            "_view_count": null,
            "_view_module": "@jupyter-widgets/controls",
            "_view_module_version": "1.5.0",
            "_view_name": "ToggleButtonView",
            "button_style": "",
            "description": "",
            "description_tooltip": null,
            "disabled": false,
            "icon": "wrench",
            "layout": "IPY_MODEL_407ff7144e85452e8520562b0e699a25",
            "style": "IPY_MODEL_087374bd867747af85caa07385db2c6c",
            "tooltip": "Toolbar",
            "value": false
          }
        },
        "84d8104e5bb04930b1d4d25edf80cb1f": {
          "model_module": "@jupyter-widgets/base",
          "model_name": "LayoutModel",
          "model_module_version": "1.2.0",
          "state": {
            "_model_module": "@jupyter-widgets/base",
            "_model_module_version": "1.2.0",
            "_model_name": "LayoutModel",
            "_view_count": null,
            "_view_module": "@jupyter-widgets/base",
            "_view_module_version": "1.2.0",
            "_view_name": "LayoutView",
            "align_content": null,
            "align_items": null,
            "align_self": null,
            "border": null,
            "bottom": null,
            "display": null,
            "flex": null,
            "flex_flow": null,
            "grid_area": null,
            "grid_auto_columns": null,
            "grid_auto_flow": null,
            "grid_auto_rows": null,
            "grid_column": null,
            "grid_gap": null,
            "grid_row": null,
            "grid_template_areas": null,
            "grid_template_columns": null,
            "grid_template_rows": null,
            "height": null,
            "justify_content": null,
            "justify_items": null,
            "left": null,
            "margin": null,
            "max_height": null,
            "max_width": null,
            "min_height": null,
            "min_width": null,
            "object_fit": null,
            "object_position": null,
            "order": null,
            "overflow": null,
            "overflow_x": null,
            "overflow_y": null,
            "padding": null,
            "right": null,
            "top": null,
            "visibility": null,
            "width": null
          }
        },
        "9a9a306aec8c48ab942e333e9edde7b8": {
          "model_module": "@jupyter-widgets/base",
          "model_name": "LayoutModel",
          "model_module_version": "1.2.0",
          "state": {
            "_model_module": "@jupyter-widgets/base",
            "_model_module_version": "1.2.0",
            "_model_name": "LayoutModel",
            "_view_count": null,
            "_view_module": "@jupyter-widgets/base",
            "_view_module_version": "1.2.0",
            "_view_name": "LayoutView",
            "align_content": null,
            "align_items": null,
            "align_self": null,
            "border": null,
            "bottom": null,
            "display": null,
            "flex": null,
            "flex_flow": null,
            "grid_area": null,
            "grid_auto_columns": null,
            "grid_auto_flow": null,
            "grid_auto_rows": null,
            "grid_column": null,
            "grid_gap": null,
            "grid_row": null,
            "grid_template_areas": null,
            "grid_template_columns": null,
            "grid_template_rows": null,
            "height": "28px",
            "justify_content": null,
            "justify_items": null,
            "left": null,
            "margin": null,
            "max_height": null,
            "max_width": null,
            "min_height": null,
            "min_width": null,
            "object_fit": null,
            "object_position": null,
            "order": null,
            "overflow": null,
            "overflow_x": null,
            "overflow_y": null,
            "padding": "0px 0px 0px 4px",
            "right": null,
            "top": null,
            "visibility": null,
            "width": "28px"
          }
        },
        "2ff48df1515a401b98abcb2cbd2d4735": {
          "model_module": "@jupyter-widgets/controls",
          "model_name": "DescriptionStyleModel",
          "model_module_version": "1.5.0",
          "state": {
            "_model_module": "@jupyter-widgets/controls",
            "_model_module_version": "1.5.0",
            "_model_name": "DescriptionStyleModel",
            "_view_count": null,
            "_view_module": "@jupyter-widgets/base",
            "_view_module_version": "1.2.0",
            "_view_name": "StyleView",
            "description_width": ""
          }
        },
        "407ff7144e85452e8520562b0e699a25": {
          "model_module": "@jupyter-widgets/base",
          "model_name": "LayoutModel",
          "model_module_version": "1.2.0",
          "state": {
            "_model_module": "@jupyter-widgets/base",
            "_model_module_version": "1.2.0",
            "_model_name": "LayoutModel",
            "_view_count": null,
            "_view_module": "@jupyter-widgets/base",
            "_view_module_version": "1.2.0",
            "_view_name": "LayoutView",
            "align_content": null,
            "align_items": null,
            "align_self": null,
            "border": null,
            "bottom": null,
            "display": null,
            "flex": null,
            "flex_flow": null,
            "grid_area": null,
            "grid_auto_columns": null,
            "grid_auto_flow": null,
            "grid_auto_rows": null,
            "grid_column": null,
            "grid_gap": null,
            "grid_row": null,
            "grid_template_areas": null,
            "grid_template_columns": null,
            "grid_template_rows": null,
            "height": "28px",
            "justify_content": null,
            "justify_items": null,
            "left": null,
            "margin": null,
            "max_height": null,
            "max_width": null,
            "min_height": null,
            "min_width": null,
            "object_fit": null,
            "object_position": null,
            "order": null,
            "overflow": null,
            "overflow_x": null,
            "overflow_y": null,
            "padding": "0px 0px 0px 4px",
            "right": null,
            "top": null,
            "visibility": null,
            "width": "28px"
          }
        },
        "087374bd867747af85caa07385db2c6c": {
          "model_module": "@jupyter-widgets/controls",
          "model_name": "DescriptionStyleModel",
          "model_module_version": "1.5.0",
          "state": {
            "_model_module": "@jupyter-widgets/controls",
            "_model_module_version": "1.5.0",
            "_model_name": "DescriptionStyleModel",
            "_view_count": null,
            "_view_module": "@jupyter-widgets/base",
            "_view_module_version": "1.2.0",
            "_view_name": "StyleView",
            "description_width": ""
          }
        },
        "b3f24324360d4dec8a8329cf7d5bdd1a": {
          "model_module": "jupyter-leaflet",
          "model_name": "LeafletMapModel",
          "model_module_version": "^0.17",
          "state": {
            "_dom_classes": [],
            "_model_module": "jupyter-leaflet",
            "_model_module_version": "^0.17",
            "_model_name": "LeafletMapModel",
            "_view_count": null,
            "_view_module": "jupyter-leaflet",
            "_view_module_version": "^0.17",
            "_view_name": "LeafletMapView",
            "bottom": 754,
            "bounce_at_zoom_limits": true,
            "box_zoom": true,
            "center": [
              20,
              0
            ],
            "close_popup_on_click": true,
            "controls": [
              "IPY_MODEL_0d251883a51e40b8ba048683f9f65aa2",
              "IPY_MODEL_8894181b6a0342b88f43026eccb6d26d",
              "IPY_MODEL_7ca69fe535e044eab4e85c480c16d651",
              "IPY_MODEL_9383dcecea6840c1bf08e8ae7ac6a213",
              "IPY_MODEL_ae34ace0b06c4168b81a11ce17fed60c",
              "IPY_MODEL_945b3e3cd1694e04b91e6adf388f2c4b",
              "IPY_MODEL_1d9a535500e44179817a4abd9dc53a11",
              "IPY_MODEL_ac2c0285152e4652a5783be31212ed1d"
            ],
            "crs": {
              "name": "EPSG3857",
              "custom": false
            },
            "default_style": "IPY_MODEL_883d9cd43fe04940972680660619fb1d",
            "double_click_zoom": true,
            "dragging": true,
            "dragging_style": "IPY_MODEL_31faf58dcd9143aa8993ffad56e5a5ee",
            "east": 228.16406250000003,
            "fullscreen": false,
            "inertia": true,
            "inertia_deceleration": 3000,
            "inertia_max_speed": 1500,
            "interpolation": "bilinear",
            "keyboard": true,
            "keyboard_pan_offset": 80,
            "keyboard_zoom_offset": 1,
            "layers": [
              "IPY_MODEL_bbac25b5c086429095fd342b6889ffe3",
              "IPY_MODEL_e27f041660a640b0babacf1d17f7c68c",
              "IPY_MODEL_3018213d1c534b14a28d81ea8faf4310"
            ],
            "layout": "IPY_MODEL_bf5b39c1695e4e6ca268c39f5e3be777",
            "left": -136,
            "max_zoom": 24,
            "min_zoom": null,
            "modisdate": "2023-06-14",
            "north": 77.31251993823143,
            "options": [
              "bounce_at_zoom_limits",
              "box_zoom",
              "center",
              "close_popup_on_click",
              "double_click_zoom",
              "dragging",
              "fullscreen",
              "inertia",
              "inertia_deceleration",
              "inertia_max_speed",
              "interpolation",
              "keyboard",
              "keyboard_pan_offset",
              "keyboard_zoom_offset",
              "max_zoom",
              "min_zoom",
              "prefer_canvas",
              "scroll_wheel_zoom",
              "tap",
              "tap_tolerance",
              "touch_zoom",
              "world_copy_jump",
              "zoom",
              "zoom_animation_threshold",
              "zoom_delta",
              "zoom_snap"
            ],
            "panes": {},
            "prefer_canvas": false,
            "right": 1161,
            "scroll_wheel_zoom": true,
            "south": -64.47279382008165,
            "style": "IPY_MODEL_72fdba4d527a4675bfb61e6ba44a12ab",
            "tap": true,
            "tap_tolerance": 15,
            "top": 154,
            "touch_zoom": true,
            "west": -227.8125,
            "window_url": "https://s46lvat9p08-496ff2e9c6d22116-0-colab.googleusercontent.com/outputframe.html?vrz=colab-20230613-060149-RC01_539994307",
            "world_copy_jump": false,
            "zoom": 2,
            "zoom_animation_threshold": 4,
            "zoom_delta": 1,
            "zoom_snap": 1
          }
        },
        "0d251883a51e40b8ba048683f9f65aa2": {
          "model_module": "jupyter-leaflet",
          "model_name": "LeafletWidgetControlModel",
          "model_module_version": "^0.17",
          "state": {
            "_model_module": "jupyter-leaflet",
            "_model_module_version": "^0.17",
            "_model_name": "LeafletWidgetControlModel",
            "_view_count": null,
            "_view_module": "jupyter-leaflet",
            "_view_module_version": "^0.17",
            "_view_name": "LeafletWidgetControlView",
            "max_height": null,
            "max_width": null,
            "min_height": null,
            "min_width": null,
            "options": [
              "position",
              "transparent_bg"
            ],
            "position": "topleft",
            "transparent_bg": false,
            "widget": "IPY_MODEL_f0ec88bb3516400ab735376c14e794a0"
          }
        },
        "8894181b6a0342b88f43026eccb6d26d": {
          "model_module": "jupyter-leaflet",
          "model_name": "LeafletZoomControlModel",
          "model_module_version": "^0.17",
          "state": {
            "_model_module": "jupyter-leaflet",
            "_model_module_version": "^0.17",
            "_model_name": "LeafletZoomControlModel",
            "_view_count": null,
            "_view_module": "jupyter-leaflet",
            "_view_module_version": "^0.17",
            "_view_name": "LeafletZoomControlView",
            "options": [
              "position",
              "zoom_in_text",
              "zoom_in_title",
              "zoom_out_text",
              "zoom_out_title"
            ],
            "position": "topleft",
            "zoom_in_text": "+",
            "zoom_in_title": "Zoom in",
            "zoom_out_text": "-",
            "zoom_out_title": "Zoom out"
          }
        },
        "7ca69fe535e044eab4e85c480c16d651": {
          "model_module": "jupyter-leaflet",
          "model_name": "LeafletScaleControlModel",
          "model_module_version": "^0.17",
          "state": {
            "_model_module": "jupyter-leaflet",
            "_model_module_version": "^0.17",
            "_model_name": "LeafletScaleControlModel",
            "_view_count": null,
            "_view_module": "jupyter-leaflet",
            "_view_module_version": "^0.17",
            "_view_name": "LeafletScaleControlView",
            "imperial": true,
            "max_width": 100,
            "metric": true,
            "options": [
              "imperial",
              "max_width",
              "metric",
              "position",
              "update_when_idle"
            ],
            "position": "bottomleft",
            "update_when_idle": false
          }
        },
        "9383dcecea6840c1bf08e8ae7ac6a213": {
          "model_module": "jupyter-leaflet",
          "model_name": "LeafletFullScreenControlModel",
          "model_module_version": "^0.17",
          "state": {
            "_model_module": "jupyter-leaflet",
            "_model_module_version": "^0.17",
            "_model_name": "LeafletFullScreenControlModel",
            "_view_count": null,
            "_view_module": "jupyter-leaflet",
            "_view_module_version": "^0.17",
            "_view_name": "LeafletFullScreenControlView",
            "options": [
              "position"
            ],
            "position": "topleft"
          }
        },
        "ae34ace0b06c4168b81a11ce17fed60c": {
          "model_module": "jupyter-leaflet",
          "model_name": "LeafletMeasureControlModel",
          "model_module_version": "^0.17",
          "state": {
            "_custom_units": {},
            "_model_module": "jupyter-leaflet",
            "_model_module_version": "^0.17",
            "_model_name": "LeafletMeasureControlModel",
            "_view_count": null,
            "_view_module": "jupyter-leaflet",
            "_view_module_version": "^0.17",
            "_view_name": "LeafletMeasureControlView",
            "active_color": "orange",
            "capture_z_index": 10000,
            "completed_color": "#C8F2BE",
            "options": [
              "active_color",
              "capture_z_index",
              "completed_color",
              "popup_options",
              "position",
              "primary_area_unit",
              "primary_length_unit",
              "secondary_area_unit",
              "secondary_length_unit"
            ],
            "popup_options": {
              "className": "leaflet-measure-resultpopup",
              "autoPanPadding": [
                10,
                10
              ]
            },
            "position": "bottomleft",
            "primary_area_unit": "acres",
            "primary_length_unit": "kilometers",
            "secondary_area_unit": null,
            "secondary_length_unit": null
          }
        },
        "945b3e3cd1694e04b91e6adf388f2c4b": {
          "model_module": "jupyter-leaflet",
          "model_name": "LeafletAttributionControlModel",
          "model_module_version": "^0.17",
          "state": {
            "_model_module": "jupyter-leaflet",
            "_model_module_version": "^0.17",
            "_model_name": "LeafletAttributionControlModel",
            "_view_count": null,
            "_view_module": "jupyter-leaflet",
            "_view_module_version": "^0.17",
            "_view_name": "LeafletAttributionControlView",
            "options": [
              "position",
              "prefix"
            ],
            "position": "bottomright",
            "prefix": "ipyleaflet"
          }
        },
        "1d9a535500e44179817a4abd9dc53a11": {
          "model_module": "jupyter-leaflet",
          "model_name": "LeafletDrawControlModel",
          "model_module_version": "^0.17",
          "state": {
            "_model_module": "jupyter-leaflet",
            "_model_module_version": "^0.17",
            "_model_name": "LeafletDrawControlModel",
            "_view_count": null,
            "_view_module": "jupyter-leaflet",
            "_view_module_version": "^0.17",
            "_view_name": "LeafletDrawControlView",
            "circle": {
              "shapeOptions": {
                "color": "#3388ff"
              }
            },
            "circlemarker": {},
            "data": [],
            "edit": true,
            "marker": {
              "shapeOptions": {
                "color": "#3388ff"
              }
            },
            "options": [
              "position"
            ],
            "polygon": {
              "shapeOptions": {}
            },
            "polyline": {
              "shapeOptions": {}
            },
            "position": "topleft",
            "rectangle": {
              "shapeOptions": {
                "color": "#3388ff"
              }
            },
            "remove": true
          }
        },
        "ac2c0285152e4652a5783be31212ed1d": {
          "model_module": "jupyter-leaflet",
          "model_name": "LeafletWidgetControlModel",
          "model_module_version": "^0.17",
          "state": {
            "_model_module": "jupyter-leaflet",
            "_model_module_version": "^0.17",
            "_model_name": "LeafletWidgetControlModel",
            "_view_count": null,
            "_view_module": "jupyter-leaflet",
            "_view_module_version": "^0.17",
            "_view_name": "LeafletWidgetControlView",
            "max_height": null,
            "max_width": null,
            "min_height": null,
            "min_width": null,
            "options": [
              "position",
              "transparent_bg"
            ],
            "position": "topright",
            "transparent_bg": false,
            "widget": "IPY_MODEL_7bbb6fc8833b4dc59cf5e89afd81dbcf"
          }
        },
        "883d9cd43fe04940972680660619fb1d": {
          "model_module": "jupyter-leaflet",
          "model_name": "LeafletMapStyleModel",
          "model_module_version": "^0.17",
          "state": {
            "_model_module": "jupyter-leaflet",
            "_model_module_version": "^0.17",
            "_model_name": "LeafletMapStyleModel",
            "_view_count": null,
            "_view_module": "@jupyter-widgets/base",
            "_view_module_version": "1.2.0",
            "_view_name": "StyleView",
            "cursor": "grab"
          }
        },
        "31faf58dcd9143aa8993ffad56e5a5ee": {
          "model_module": "jupyter-leaflet",
          "model_name": "LeafletMapStyleModel",
          "model_module_version": "^0.17",
          "state": {
            "_model_module": "jupyter-leaflet",
            "_model_module_version": "^0.17",
            "_model_name": "LeafletMapStyleModel",
            "_view_count": null,
            "_view_module": "@jupyter-widgets/base",
            "_view_module_version": "1.2.0",
            "_view_name": "StyleView",
            "cursor": "move"
          }
        },
        "bbac25b5c086429095fd342b6889ffe3": {
          "model_module": "jupyter-leaflet",
          "model_name": "LeafletTileLayerModel",
          "model_module_version": "^0.17",
          "state": {
            "_model_module": "jupyter-leaflet",
            "_model_module_version": "^0.17",
            "_model_name": "LeafletTileLayerModel",
            "_view_count": null,
            "_view_module": "jupyter-leaflet",
            "_view_module_version": "^0.17",
            "_view_name": "LeafletTileLayerView",
            "attribution": "&copy; <a href=\"https://www.openstreetmap.org/copyright\">OpenStreetMap</a> contributors",
            "base": true,
            "bottom": true,
            "bounds": null,
            "detect_retina": false,
            "loading": false,
            "max_native_zoom": null,
            "max_zoom": 19,
            "min_native_zoom": null,
            "min_zoom": 1,
            "name": "OpenStreetMap.Mapnik",
            "no_wrap": false,
            "opacity": 1,
            "options": [
              "attribution",
              "bounds",
              "detect_retina",
              "max_native_zoom",
              "max_zoom",
              "min_native_zoom",
              "min_zoom",
              "no_wrap",
              "tile_size",
              "tms",
              "zoom_offset"
            ],
            "pane": "",
            "popup": null,
            "popup_max_height": null,
            "popup_max_width": 300,
            "popup_min_width": 50,
            "show_loading": false,
            "subitems": [],
            "tile_size": 256,
            "tms": false,
            "url": "https://tile.openstreetmap.org/{z}/{x}/{y}.png",
            "visible": true,
            "zoom_offset": 0
          }
        },
        "e27f041660a640b0babacf1d17f7c68c": {
          "model_module": "jupyter-leaflet",
          "model_name": "LeafletTileLayerModel",
          "model_module_version": "^0.17",
          "state": {
            "_model_module": "jupyter-leaflet",
            "_model_module_version": "^0.17",
            "_model_name": "LeafletTileLayerModel",
            "_view_count": null,
            "_view_module": "jupyter-leaflet",
            "_view_module_version": "^0.17",
            "_view_name": "LeafletTileLayerView",
            "attribution": "Google",
            "base": false,
            "bottom": true,
            "bounds": null,
            "detect_retina": false,
            "loading": false,
            "max_native_zoom": null,
            "max_zoom": 24,
            "min_native_zoom": null,
            "min_zoom": 0,
            "name": "Google Maps",
            "no_wrap": false,
            "opacity": 1,
            "options": [
              "attribution",
              "bounds",
              "detect_retina",
              "max_native_zoom",
              "max_zoom",
              "min_native_zoom",
              "min_zoom",
              "no_wrap",
              "tile_size",
              "tms",
              "zoom_offset"
            ],
            "pane": "",
            "popup": null,
            "popup_max_height": null,
            "popup_max_width": 300,
            "popup_min_width": 50,
            "show_loading": false,
            "subitems": [],
            "tile_size": 256,
            "tms": false,
            "url": "https://mt1.google.com/vt/lyrs=m&x={x}&y={y}&z={z}",
            "visible": true,
            "zoom_offset": 0
          }
        },
        "3018213d1c534b14a28d81ea8faf4310": {
          "model_module": "jupyter-leaflet",
          "model_name": "LeafletTileLayerModel",
          "model_module_version": "^0.17",
          "state": {
            "_model_module": "jupyter-leaflet",
            "_model_module_version": "^0.17",
            "_model_name": "LeafletTileLayerModel",
            "_view_count": null,
            "_view_module": "jupyter-leaflet",
            "_view_module_version": "^0.17",
            "_view_name": "LeafletTileLayerView",
            "attribution": "Google Earth Engine",
            "base": false,
            "bottom": true,
            "bounds": null,
            "detect_retina": false,
            "loading": false,
            "max_native_zoom": null,
            "max_zoom": 24,
            "min_native_zoom": null,
            "min_zoom": 0,
            "name": "Tree Cover",
            "no_wrap": false,
            "opacity": 1,
            "options": [
              "attribution",
              "bounds",
              "detect_retina",
              "max_native_zoom",
              "max_zoom",
              "min_native_zoom",
              "min_zoom",
              "no_wrap",
              "tile_size",
              "tms",
              "zoom_offset"
            ],
            "pane": "",
            "popup": null,
            "popup_max_height": null,
            "popup_max_width": 300,
            "popup_min_width": 50,
            "show_loading": false,
            "subitems": [],
            "tile_size": 256,
            "tms": false,
            "url": "https://earthengine.googleapis.com/v1alpha/projects/earthengine-legacy/maps/a69e9eb086a0df454ab87ba3605af10c-e9ebb6e193efd14da0bfada7a30100fd/tiles/{z}/{x}/{y}",
            "visible": true,
            "zoom_offset": 0
          }
        },
        "bf5b39c1695e4e6ca268c39f5e3be777": {
          "model_module": "@jupyter-widgets/base",
          "model_name": "LayoutModel",
          "model_module_version": "1.2.0",
          "state": {
            "_model_module": "@jupyter-widgets/base",
            "_model_module_version": "1.2.0",
            "_model_name": "LayoutModel",
            "_view_count": null,
            "_view_module": "@jupyter-widgets/base",
            "_view_module_version": "1.2.0",
            "_view_name": "LayoutView",
            "align_content": null,
            "align_items": null,
            "align_self": null,
            "border": null,
            "bottom": null,
            "display": null,
            "flex": null,
            "flex_flow": null,
            "grid_area": null,
            "grid_auto_columns": null,
            "grid_auto_flow": null,
            "grid_auto_rows": null,
            "grid_column": null,
            "grid_gap": null,
            "grid_row": null,
            "grid_template_areas": null,
            "grid_template_columns": null,
            "grid_template_rows": null,
            "height": "600px",
            "justify_content": null,
            "justify_items": null,
            "left": null,
            "margin": null,
            "max_height": null,
            "max_width": null,
            "min_height": null,
            "min_width": null,
            "object_fit": null,
            "object_position": null,
            "order": null,
            "overflow": null,
            "overflow_x": null,
            "overflow_y": null,
            "padding": null,
            "right": null,
            "top": null,
            "visibility": null,
            "width": null
          }
        },
        "72fdba4d527a4675bfb61e6ba44a12ab": {
          "model_module": "jupyter-leaflet",
          "model_name": "LeafletMapStyleModel",
          "model_module_version": "^0.17",
          "state": {
            "_model_module": "jupyter-leaflet",
            "_model_module_version": "^0.17",
            "_model_name": "LeafletMapStyleModel",
            "_view_count": null,
            "_view_module": "@jupyter-widgets/base",
            "_view_module_version": "1.2.0",
            "_view_name": "StyleView",
            "cursor": "grab"
          }
        },
        "f0ec88bb3516400ab735376c14e794a0": {
          "model_module": "@jupyter-widgets/controls",
          "model_name": "HBoxModel",
          "model_module_version": "1.5.0",
          "state": {
            "_dom_classes": [],
            "_model_module": "@jupyter-widgets/controls",
            "_model_module_version": "1.5.0",
            "_model_name": "HBoxModel",
            "_view_count": null,
            "_view_module": "@jupyter-widgets/controls",
            "_view_module_version": "1.5.0",
            "_view_name": "HBoxView",
            "box_style": "",
            "children": [
              "IPY_MODEL_b8eb7181f44e498bad70d86474bee4dc"
            ],
            "layout": "IPY_MODEL_dce60d2006c34fa282abf5dbda2fe552"
          }
        },
        "7bbb6fc8833b4dc59cf5e89afd81dbcf": {
          "model_module": "@jupyter-widgets/controls",
          "model_name": "VBoxModel",
          "model_module_version": "1.5.0",
          "state": {
            "_dom_classes": [],
            "_model_module": "@jupyter-widgets/controls",
            "_model_module_version": "1.5.0",
            "_model_name": "VBoxModel",
            "_view_count": null,
            "_view_module": "@jupyter-widgets/controls",
            "_view_module_version": "1.5.0",
            "_view_name": "VBoxView",
            "box_style": "",
            "children": [
              "IPY_MODEL_c6a4d63e99e04754a9d965e100497f63"
            ],
            "layout": "IPY_MODEL_20bc22a7b59748ada889a5a05f8b8bbb"
          }
        },
        "b8eb7181f44e498bad70d86474bee4dc": {
          "model_module": "@jupyter-widgets/controls",
          "model_name": "ToggleButtonModel",
          "model_module_version": "1.5.0",
          "state": {
            "_dom_classes": [],
            "_model_module": "@jupyter-widgets/controls",
            "_model_module_version": "1.5.0",
            "_model_name": "ToggleButtonModel",
            "_view_count": null,
            "_view_module": "@jupyter-widgets/controls",
            "_view_module_version": "1.5.0",
            "_view_name": "ToggleButtonView",
            "button_style": "",
            "description": "",
            "description_tooltip": null,
            "disabled": false,
            "icon": "globe",
            "layout": "IPY_MODEL_0e6457daf0254ee6914ec582b08c5200",
            "style": "IPY_MODEL_1a12161eda9c475caa96c7a51a9bad9f",
            "tooltip": "Search location/data",
            "value": false
          }
        },
        "dce60d2006c34fa282abf5dbda2fe552": {
          "model_module": "@jupyter-widgets/base",
          "model_name": "LayoutModel",
          "model_module_version": "1.2.0",
          "state": {
            "_model_module": "@jupyter-widgets/base",
            "_model_module_version": "1.2.0",
            "_model_name": "LayoutModel",
            "_view_count": null,
            "_view_module": "@jupyter-widgets/base",
            "_view_module_version": "1.2.0",
            "_view_name": "LayoutView",
            "align_content": null,
            "align_items": null,
            "align_self": null,
            "border": null,
            "bottom": null,
            "display": null,
            "flex": null,
            "flex_flow": null,
            "grid_area": null,
            "grid_auto_columns": null,
            "grid_auto_flow": null,
            "grid_auto_rows": null,
            "grid_column": null,
            "grid_gap": null,
            "grid_row": null,
            "grid_template_areas": null,
            "grid_template_columns": null,
            "grid_template_rows": null,
            "height": null,
            "justify_content": null,
            "justify_items": null,
            "left": null,
            "margin": null,
            "max_height": null,
            "max_width": null,
            "min_height": null,
            "min_width": null,
            "object_fit": null,
            "object_position": null,
            "order": null,
            "overflow": null,
            "overflow_x": null,
            "overflow_y": null,
            "padding": null,
            "right": null,
            "top": null,
            "visibility": null,
            "width": null
          }
        },
        "c6a4d63e99e04754a9d965e100497f63": {
          "model_module": "@jupyter-widgets/controls",
          "model_name": "ToggleButtonModel",
          "model_module_version": "1.5.0",
          "state": {
            "_dom_classes": [],
            "_model_module": "@jupyter-widgets/controls",
            "_model_module_version": "1.5.0",
            "_model_name": "ToggleButtonModel",
            "_view_count": null,
            "_view_module": "@jupyter-widgets/controls",
            "_view_module_version": "1.5.0",
            "_view_name": "ToggleButtonView",
            "button_style": "",
            "description": "",
            "description_tooltip": null,
            "disabled": false,
            "icon": "wrench",
            "layout": "IPY_MODEL_16a003835c1041de902aed7b0f1f5b1a",
            "style": "IPY_MODEL_af6284960dbd4931ae3ba78902217cc1",
            "tooltip": "Toolbar",
            "value": false
          }
        },
        "20bc22a7b59748ada889a5a05f8b8bbb": {
          "model_module": "@jupyter-widgets/base",
          "model_name": "LayoutModel",
          "model_module_version": "1.2.0",
          "state": {
            "_model_module": "@jupyter-widgets/base",
            "_model_module_version": "1.2.0",
            "_model_name": "LayoutModel",
            "_view_count": null,
            "_view_module": "@jupyter-widgets/base",
            "_view_module_version": "1.2.0",
            "_view_name": "LayoutView",
            "align_content": null,
            "align_items": null,
            "align_self": null,
            "border": null,
            "bottom": null,
            "display": null,
            "flex": null,
            "flex_flow": null,
            "grid_area": null,
            "grid_auto_columns": null,
            "grid_auto_flow": null,
            "grid_auto_rows": null,
            "grid_column": null,
            "grid_gap": null,
            "grid_row": null,
            "grid_template_areas": null,
            "grid_template_columns": null,
            "grid_template_rows": null,
            "height": null,
            "justify_content": null,
            "justify_items": null,
            "left": null,
            "margin": null,
            "max_height": null,
            "max_width": null,
            "min_height": null,
            "min_width": null,
            "object_fit": null,
            "object_position": null,
            "order": null,
            "overflow": null,
            "overflow_x": null,
            "overflow_y": null,
            "padding": null,
            "right": null,
            "top": null,
            "visibility": null,
            "width": null
          }
        },
        "0e6457daf0254ee6914ec582b08c5200": {
          "model_module": "@jupyter-widgets/base",
          "model_name": "LayoutModel",
          "model_module_version": "1.2.0",
          "state": {
            "_model_module": "@jupyter-widgets/base",
            "_model_module_version": "1.2.0",
            "_model_name": "LayoutModel",
            "_view_count": null,
            "_view_module": "@jupyter-widgets/base",
            "_view_module_version": "1.2.0",
            "_view_name": "LayoutView",
            "align_content": null,
            "align_items": null,
            "align_self": null,
            "border": null,
            "bottom": null,
            "display": null,
            "flex": null,
            "flex_flow": null,
            "grid_area": null,
            "grid_auto_columns": null,
            "grid_auto_flow": null,
            "grid_auto_rows": null,
            "grid_column": null,
            "grid_gap": null,
            "grid_row": null,
            "grid_template_areas": null,
            "grid_template_columns": null,
            "grid_template_rows": null,
            "height": "28px",
            "justify_content": null,
            "justify_items": null,
            "left": null,
            "margin": null,
            "max_height": null,
            "max_width": null,
            "min_height": null,
            "min_width": null,
            "object_fit": null,
            "object_position": null,
            "order": null,
            "overflow": null,
            "overflow_x": null,
            "overflow_y": null,
            "padding": "0px 0px 0px 4px",
            "right": null,
            "top": null,
            "visibility": null,
            "width": "28px"
          }
        },
        "1a12161eda9c475caa96c7a51a9bad9f": {
          "model_module": "@jupyter-widgets/controls",
          "model_name": "DescriptionStyleModel",
          "model_module_version": "1.5.0",
          "state": {
            "_model_module": "@jupyter-widgets/controls",
            "_model_module_version": "1.5.0",
            "_model_name": "DescriptionStyleModel",
            "_view_count": null,
            "_view_module": "@jupyter-widgets/base",
            "_view_module_version": "1.2.0",
            "_view_name": "StyleView",
            "description_width": ""
          }
        },
        "16a003835c1041de902aed7b0f1f5b1a": {
          "model_module": "@jupyter-widgets/base",
          "model_name": "LayoutModel",
          "model_module_version": "1.2.0",
          "state": {
            "_model_module": "@jupyter-widgets/base",
            "_model_module_version": "1.2.0",
            "_model_name": "LayoutModel",
            "_view_count": null,
            "_view_module": "@jupyter-widgets/base",
            "_view_module_version": "1.2.0",
            "_view_name": "LayoutView",
            "align_content": null,
            "align_items": null,
            "align_self": null,
            "border": null,
            "bottom": null,
            "display": null,
            "flex": null,
            "flex_flow": null,
            "grid_area": null,
            "grid_auto_columns": null,
            "grid_auto_flow": null,
            "grid_auto_rows": null,
            "grid_column": null,
            "grid_gap": null,
            "grid_row": null,
            "grid_template_areas": null,
            "grid_template_columns": null,
            "grid_template_rows": null,
            "height": "28px",
            "justify_content": null,
            "justify_items": null,
            "left": null,
            "margin": null,
            "max_height": null,
            "max_width": null,
            "min_height": null,
            "min_width": null,
            "object_fit": null,
            "object_position": null,
            "order": null,
            "overflow": null,
            "overflow_x": null,
            "overflow_y": null,
            "padding": "0px 0px 0px 4px",
            "right": null,
            "top": null,
            "visibility": null,
            "width": "28px"
          }
        },
        "af6284960dbd4931ae3ba78902217cc1": {
          "model_module": "@jupyter-widgets/controls",
          "model_name": "DescriptionStyleModel",
          "model_module_version": "1.5.0",
          "state": {
            "_model_module": "@jupyter-widgets/controls",
            "_model_module_version": "1.5.0",
            "_model_name": "DescriptionStyleModel",
            "_view_count": null,
            "_view_module": "@jupyter-widgets/base",
            "_view_module_version": "1.2.0",
            "_view_name": "StyleView",
            "description_width": ""
          }
        },
        "09c69dab095049828da36229307fd568": {
          "model_module": "jupyter-leaflet",
          "model_name": "LeafletZoomControlModel",
          "model_module_version": "^0.17",
          "state": {
            "_model_module": "jupyter-leaflet",
            "_model_module_version": "^0.17",
            "_model_name": "LeafletZoomControlModel",
            "_view_count": null,
            "_view_module": "jupyter-leaflet",
            "_view_module_version": "^0.17",
            "_view_name": "LeafletZoomControlView",
            "options": [
              "position",
              "zoom_in_text",
              "zoom_in_title",
              "zoom_out_text",
              "zoom_out_title"
            ],
            "position": "topleft",
            "zoom_in_text": "+",
            "zoom_in_title": "Zoom in",
            "zoom_out_text": "-",
            "zoom_out_title": "Zoom out"
          }
        },
        "2a5fcabdce3941419e64436aef559ae2": {
          "model_module": "@jupyter-widgets/base",
          "model_name": "LayoutModel",
          "model_module_version": "1.2.0",
          "state": {
            "_model_module": "@jupyter-widgets/base",
            "_model_module_version": "1.2.0",
            "_model_name": "LayoutModel",
            "_view_count": null,
            "_view_module": "@jupyter-widgets/base",
            "_view_module_version": "1.2.0",
            "_view_name": "LayoutView",
            "align_content": null,
            "align_items": null,
            "align_self": null,
            "border": null,
            "bottom": null,
            "display": null,
            "flex": null,
            "flex_flow": null,
            "grid_area": null,
            "grid_auto_columns": null,
            "grid_auto_flow": null,
            "grid_auto_rows": null,
            "grid_column": null,
            "grid_gap": null,
            "grid_row": null,
            "grid_template_areas": null,
            "grid_template_columns": null,
            "grid_template_rows": null,
            "height": null,
            "justify_content": null,
            "justify_items": null,
            "left": null,
            "margin": null,
            "max_height": null,
            "max_width": null,
            "min_height": null,
            "min_width": null,
            "object_fit": null,
            "object_position": null,
            "order": null,
            "overflow": null,
            "overflow_x": null,
            "overflow_y": null,
            "padding": null,
            "right": null,
            "top": null,
            "visibility": null,
            "width": null
          }
        },
        "671ada0536164737895e0479e1ff0ddb": {
          "model_module": "@jupyter-widgets/controls",
          "model_name": "ToggleButtonsStyleModel",
          "model_module_version": "1.5.0",
          "state": {
            "_model_module": "@jupyter-widgets/controls",
            "_model_module_version": "1.5.0",
            "_model_name": "ToggleButtonsStyleModel",
            "_view_count": null,
            "_view_module": "@jupyter-widgets/base",
            "_view_module_version": "1.2.0",
            "_view_name": "StyleView",
            "button_width": "110px",
            "description_width": "",
            "font_weight": ""
          }
        },
        "95fed9eff50843e899648441730ab266": {
          "model_module": "@jupyter-widgets/base",
          "model_name": "LayoutModel",
          "model_module_version": "1.2.0",
          "state": {
            "_model_module": "@jupyter-widgets/base",
            "_model_module_version": "1.2.0",
            "_model_name": "LayoutModel",
            "_view_count": null,
            "_view_module": "@jupyter-widgets/base",
            "_view_module_version": "1.2.0",
            "_view_name": "LayoutView",
            "align_content": null,
            "align_items": null,
            "align_self": null,
            "border": null,
            "bottom": null,
            "display": null,
            "flex": null,
            "flex_flow": null,
            "grid_area": null,
            "grid_auto_columns": null,
            "grid_auto_flow": null,
            "grid_auto_rows": null,
            "grid_column": null,
            "grid_gap": null,
            "grid_row": null,
            "grid_template_areas": null,
            "grid_template_columns": null,
            "grid_template_rows": null,
            "height": null,
            "justify_content": null,
            "justify_items": null,
            "left": null,
            "margin": null,
            "max_height": null,
            "max_width": null,
            "min_height": null,
            "min_width": null,
            "object_fit": null,
            "object_position": null,
            "order": null,
            "overflow": null,
            "overflow_x": null,
            "overflow_y": null,
            "padding": null,
            "right": null,
            "top": null,
            "visibility": null,
            "width": "340px"
          }
        },
        "1b44ecec0cc14877822032ed178e1b8d": {
          "model_module": "@jupyter-widgets/controls",
          "model_name": "DescriptionStyleModel",
          "model_module_version": "1.5.0",
          "state": {
            "_model_module": "@jupyter-widgets/controls",
            "_model_module_version": "1.5.0",
            "_model_name": "DescriptionStyleModel",
            "_view_count": null,
            "_view_module": "@jupyter-widgets/base",
            "_view_module_version": "1.2.0",
            "_view_name": "StyleView",
            "description_width": ""
          }
        },
        "5ce3f5e7e8774fcd99f1239eab489a59": {
          "model_module": "@jupyter-widgets/base",
          "model_name": "LayoutModel",
          "model_module_version": "1.2.0",
          "state": {
            "_model_module": "@jupyter-widgets/base",
            "_model_module_version": "1.2.0",
            "_model_name": "LayoutModel",
            "_view_count": null,
            "_view_module": "@jupyter-widgets/base",
            "_view_module_version": "1.2.0",
            "_view_name": "LayoutView",
            "align_content": null,
            "align_items": null,
            "align_self": null,
            "border": null,
            "bottom": null,
            "display": null,
            "flex": null,
            "flex_flow": null,
            "grid_area": null,
            "grid_auto_columns": null,
            "grid_auto_flow": null,
            "grid_auto_rows": null,
            "grid_column": null,
            "grid_gap": null,
            "grid_row": null,
            "grid_template_areas": null,
            "grid_template_columns": null,
            "grid_template_rows": null,
            "height": null,
            "justify_content": null,
            "justify_items": null,
            "left": null,
            "margin": null,
            "max_height": "350px",
            "max_width": "340px",
            "min_height": null,
            "min_width": null,
            "object_fit": null,
            "object_position": null,
            "order": null,
            "overflow": "scroll",
            "overflow_x": null,
            "overflow_y": null,
            "padding": null,
            "right": null,
            "top": null,
            "visibility": null,
            "width": null
          }
        },
        "7b10b203ba8f4b0aaae1633b2a2f87d2": {
          "model_module": "@jupyter-widgets/base",
          "model_name": "LayoutModel",
          "model_module_version": "1.2.0",
          "state": {
            "_model_module": "@jupyter-widgets/base",
            "_model_module_version": "1.2.0",
            "_model_name": "LayoutModel",
            "_view_count": null,
            "_view_module": "@jupyter-widgets/base",
            "_view_module_version": "1.2.0",
            "_view_name": "LayoutView",
            "align_content": null,
            "align_items": null,
            "align_self": null,
            "border": null,
            "bottom": null,
            "display": null,
            "flex": null,
            "flex_flow": null,
            "grid_area": null,
            "grid_auto_columns": null,
            "grid_auto_flow": null,
            "grid_auto_rows": null,
            "grid_column": null,
            "grid_gap": null,
            "grid_row": null,
            "grid_template_areas": null,
            "grid_template_columns": null,
            "grid_template_rows": null,
            "height": null,
            "justify_content": null,
            "justify_items": null,
            "left": null,
            "margin": null,
            "max_height": null,
            "max_width": null,
            "min_height": null,
            "min_width": null,
            "object_fit": null,
            "object_position": null,
            "order": null,
            "overflow": null,
            "overflow_x": null,
            "overflow_y": null,
            "padding": null,
            "right": null,
            "top": null,
            "visibility": null,
            "width": null
          }
        },
        "b2c49b70b487448ba5ed3f52e9c2071e": {
          "model_module": "@jupyter-widgets/controls",
          "model_name": "DescriptionStyleModel",
          "model_module_version": "1.5.0",
          "state": {
            "_model_module": "@jupyter-widgets/controls",
            "_model_module_version": "1.5.0",
            "_model_name": "DescriptionStyleModel",
            "_view_count": null,
            "_view_module": "@jupyter-widgets/base",
            "_view_module_version": "1.2.0",
            "_view_name": "StyleView",
            "description_width": ""
          }
        },
        "05072e6dc0dd4ec79a717b86becf4913": {
          "model_module": "@jupyter-widgets/base",
          "model_name": "LayoutModel",
          "model_module_version": "1.2.0",
          "state": {
            "_model_module": "@jupyter-widgets/base",
            "_model_module_version": "1.2.0",
            "_model_name": "LayoutModel",
            "_view_count": null,
            "_view_module": "@jupyter-widgets/base",
            "_view_module_version": "1.2.0",
            "_view_name": "LayoutView",
            "align_content": null,
            "align_items": null,
            "align_self": null,
            "border": null,
            "bottom": null,
            "display": null,
            "flex": null,
            "flex_flow": null,
            "grid_area": null,
            "grid_auto_columns": null,
            "grid_auto_flow": null,
            "grid_auto_rows": null,
            "grid_column": null,
            "grid_gap": null,
            "grid_row": null,
            "grid_template_areas": null,
            "grid_template_columns": null,
            "grid_template_rows": null,
            "height": null,
            "justify_content": null,
            "justify_items": null,
            "left": null,
            "margin": null,
            "max_height": null,
            "max_width": "279px",
            "min_height": null,
            "min_width": "279px",
            "object_fit": null,
            "object_position": null,
            "order": null,
            "overflow": null,
            "overflow_x": null,
            "overflow_y": null,
            "padding": null,
            "right": null,
            "top": null,
            "visibility": null,
            "width": null
          }
        },
        "eb820e90eb8a43c2b53cc4df30f971e1": {
          "model_module": "@jupyter-widgets/controls",
          "model_name": "DescriptionStyleModel",
          "model_module_version": "1.5.0",
          "state": {
            "_model_module": "@jupyter-widgets/controls",
            "_model_module_version": "1.5.0",
            "_model_name": "DescriptionStyleModel",
            "_view_count": null,
            "_view_module": "@jupyter-widgets/base",
            "_view_module_version": "1.2.0",
            "_view_name": "StyleView",
            "description_width": ""
          }
        },
        "aa063bee8c1041e69926e1d595ee0e7f": {
          "model_module": "@jupyter-widgets/base",
          "model_name": "LayoutModel",
          "model_module_version": "1.2.0",
          "state": {
            "_model_module": "@jupyter-widgets/base",
            "_model_module_version": "1.2.0",
            "_model_name": "LayoutModel",
            "_view_count": null,
            "_view_module": "@jupyter-widgets/base",
            "_view_module_version": "1.2.0",
            "_view_name": "LayoutView",
            "align_content": null,
            "align_items": null,
            "align_self": null,
            "border": null,
            "bottom": null,
            "display": null,
            "flex": null,
            "flex_flow": null,
            "grid_area": null,
            "grid_auto_columns": null,
            "grid_auto_flow": null,
            "grid_auto_rows": null,
            "grid_column": null,
            "grid_gap": null,
            "grid_row": null,
            "grid_template_areas": null,
            "grid_template_columns": null,
            "grid_template_rows": null,
            "height": null,
            "justify_content": null,
            "justify_items": null,
            "left": null,
            "margin": null,
            "max_height": null,
            "max_width": "57px",
            "min_height": null,
            "min_width": "57px",
            "object_fit": null,
            "object_position": null,
            "order": null,
            "overflow": null,
            "overflow_x": null,
            "overflow_y": null,
            "padding": null,
            "right": null,
            "top": null,
            "visibility": null,
            "width": null
          }
        },
        "5774db6cf53341ba8868b6bd74a527ea": {
          "model_module": "@jupyter-widgets/controls",
          "model_name": "ButtonStyleModel",
          "model_module_version": "1.5.0",
          "state": {
            "_model_module": "@jupyter-widgets/controls",
            "_model_module_version": "1.5.0",
            "_model_name": "ButtonStyleModel",
            "_view_count": null,
            "_view_module": "@jupyter-widgets/base",
            "_view_module_version": "1.2.0",
            "_view_name": "StyleView",
            "button_color": null,
            "font_weight": ""
          }
        },
        "3b4d835b89c84b1a94c97f9d69472a3a": {
          "model_module": "@jupyter-widgets/base",
          "model_name": "LayoutModel",
          "model_module_version": "1.2.0",
          "state": {
            "_model_module": "@jupyter-widgets/base",
            "_model_module_version": "1.2.0",
            "_model_name": "LayoutModel",
            "_view_count": null,
            "_view_module": "@jupyter-widgets/base",
            "_view_module_version": "1.2.0",
            "_view_name": "LayoutView",
            "align_content": null,
            "align_items": null,
            "align_self": null,
            "border": null,
            "bottom": null,
            "display": null,
            "flex": null,
            "flex_flow": null,
            "grid_area": null,
            "grid_auto_columns": null,
            "grid_auto_flow": null,
            "grid_auto_rows": null,
            "grid_column": null,
            "grid_gap": null,
            "grid_row": null,
            "grid_template_areas": null,
            "grid_template_columns": null,
            "grid_template_rows": null,
            "height": null,
            "justify_content": null,
            "justify_items": null,
            "left": null,
            "margin": null,
            "max_height": null,
            "max_width": null,
            "min_height": null,
            "min_width": null,
            "object_fit": null,
            "object_position": null,
            "order": null,
            "overflow": null,
            "overflow_x": null,
            "overflow_y": null,
            "padding": null,
            "right": null,
            "top": null,
            "visibility": null,
            "width": null
          }
        },
        "b28e320a0af84bdd8de74639876ae2c8": {
          "model_module": "@jupyter-widgets/controls",
          "model_name": "DescriptionStyleModel",
          "model_module_version": "1.5.0",
          "state": {
            "_model_module": "@jupyter-widgets/controls",
            "_model_module_version": "1.5.0",
            "_model_name": "DescriptionStyleModel",
            "_view_count": null,
            "_view_module": "@jupyter-widgets/base",
            "_view_module_version": "1.2.0",
            "_view_name": "StyleView",
            "description_width": ""
          }
        },
        "fb006dc247b34c75b6a6d162c82e0933": {
          "model_module": "@jupyter-widgets/base",
          "model_name": "LayoutModel",
          "model_module_version": "1.2.0",
          "state": {
            "_model_module": "@jupyter-widgets/base",
            "_model_module_version": "1.2.0",
            "_model_name": "LayoutModel",
            "_view_count": null,
            "_view_module": "@jupyter-widgets/base",
            "_view_module_version": "1.2.0",
            "_view_name": "LayoutView",
            "align_content": null,
            "align_items": null,
            "align_self": null,
            "border": null,
            "bottom": null,
            "display": null,
            "flex": null,
            "flex_flow": null,
            "grid_area": null,
            "grid_auto_columns": null,
            "grid_auto_flow": null,
            "grid_auto_rows": null,
            "grid_column": null,
            "grid_gap": null,
            "grid_row": null,
            "grid_template_areas": null,
            "grid_template_columns": null,
            "grid_template_rows": null,
            "height": null,
            "justify_content": null,
            "justify_items": null,
            "left": null,
            "margin": null,
            "max_height": null,
            "max_width": null,
            "min_height": null,
            "min_width": null,
            "object_fit": null,
            "object_position": null,
            "order": null,
            "overflow": null,
            "overflow_x": null,
            "overflow_y": null,
            "padding": null,
            "right": null,
            "top": null,
            "visibility": null,
            "width": null
          }
        },
        "8d7583ad7f0f449b8b73dd3c44108e71": {
          "model_module": "@jupyter-widgets/controls",
          "model_name": "ToggleButtonsModel",
          "model_module_version": "1.5.0",
          "state": {
            "_dom_classes": [],
            "_model_module": "@jupyter-widgets/controls",
            "_model_module_version": "1.5.0",
            "_model_name": "ToggleButtonsModel",
            "_options_labels": [
              "name/address",
              "lat-lon",
              "data"
            ],
            "_view_count": null,
            "_view_module": "@jupyter-widgets/controls",
            "_view_module_version": "1.5.0",
            "_view_name": "ToggleButtonsView",
            "button_style": "",
            "description": "",
            "description_tooltip": null,
            "disabled": false,
            "icons": [],
            "index": 0,
            "layout": "IPY_MODEL_2a5fcabdce3941419e64436aef559ae2",
            "style": "IPY_MODEL_671ada0536164737895e0479e1ff0ddb",
            "tooltips": [
              "Search by place name or address",
              "Search by lat-lon coordinates",
              "Search Earth Engine data catalog"
            ]
          }
        },
        "dd64810c162a42a08d02896d046d49f5": {
          "model_module": "@jupyter-widgets/controls",
          "model_name": "TextModel",
          "model_module_version": "1.5.0",
          "state": {
            "_dom_classes": [],
            "_model_module": "@jupyter-widgets/controls",
            "_model_module_version": "1.5.0",
            "_model_name": "TextModel",
            "_view_count": null,
            "_view_module": "@jupyter-widgets/controls",
            "_view_module_version": "1.5.0",
            "_view_name": "TextView",
            "continuous_update": true,
            "description": "",
            "description_tooltip": null,
            "disabled": false,
            "layout": "IPY_MODEL_95fed9eff50843e899648441730ab266",
            "placeholder": "Search by place name or address",
            "style": "IPY_MODEL_1b44ecec0cc14877822032ed178e1b8d",
            "value": ""
          }
        },
        "4b7b9109dcbc4918a9226d67c797776a": {
          "model_module": "@jupyter-widgets/base",
          "model_name": "LayoutModel",
          "model_module_version": "1.2.0",
          "state": {
            "_model_module": "@jupyter-widgets/base",
            "_model_module_version": "1.2.0",
            "_model_name": "LayoutModel",
            "_view_count": null,
            "_view_module": "@jupyter-widgets/base",
            "_view_module_version": "1.2.0",
            "_view_name": "LayoutView",
            "align_content": null,
            "align_items": null,
            "align_self": null,
            "border": null,
            "bottom": null,
            "display": null,
            "flex": null,
            "flex_flow": null,
            "grid_area": null,
            "grid_auto_columns": null,
            "grid_auto_flow": null,
            "grid_auto_rows": null,
            "grid_column": null,
            "grid_gap": null,
            "grid_row": null,
            "grid_template_areas": null,
            "grid_template_columns": null,
            "grid_template_rows": null,
            "height": null,
            "justify_content": null,
            "justify_items": null,
            "left": null,
            "margin": null,
            "max_height": null,
            "max_width": null,
            "min_height": null,
            "min_width": null,
            "object_fit": null,
            "object_position": null,
            "order": null,
            "overflow": null,
            "overflow_x": null,
            "overflow_y": null,
            "padding": null,
            "right": null,
            "top": null,
            "visibility": null,
            "width": null
          }
        },
        "d235f376846d49bdb50a01b0b10077f5": {
          "model_module": "@jupyter-widgets/base",
          "model_name": "LayoutModel",
          "model_module_version": "1.2.0",
          "state": {
            "_model_module": "@jupyter-widgets/base",
            "_model_module_version": "1.2.0",
            "_model_name": "LayoutModel",
            "_view_count": null,
            "_view_module": "@jupyter-widgets/base",
            "_view_module_version": "1.2.0",
            "_view_name": "LayoutView",
            "align_content": null,
            "align_items": null,
            "align_self": null,
            "border": null,
            "bottom": null,
            "display": null,
            "flex": null,
            "flex_flow": null,
            "grid_area": null,
            "grid_auto_columns": null,
            "grid_auto_flow": null,
            "grid_auto_rows": null,
            "grid_column": null,
            "grid_gap": null,
            "grid_row": null,
            "grid_template_areas": null,
            "grid_template_columns": null,
            "grid_template_rows": null,
            "height": null,
            "justify_content": null,
            "justify_items": null,
            "left": null,
            "margin": null,
            "max_height": null,
            "max_width": null,
            "min_height": null,
            "min_width": null,
            "object_fit": null,
            "object_position": null,
            "order": null,
            "overflow": null,
            "overflow_x": null,
            "overflow_y": null,
            "padding": null,
            "right": null,
            "top": null,
            "visibility": null,
            "width": null
          }
        },
        "19e850a748924cb2ae8da3b20608796b": {
          "model_module": "@jupyter-widgets/base",
          "model_name": "LayoutModel",
          "model_module_version": "1.2.0",
          "state": {
            "_model_module": "@jupyter-widgets/base",
            "_model_module_version": "1.2.0",
            "_model_name": "LayoutModel",
            "_view_count": null,
            "_view_module": "@jupyter-widgets/base",
            "_view_module_version": "1.2.0",
            "_view_name": "LayoutView",
            "align_content": null,
            "align_items": null,
            "align_self": null,
            "border": null,
            "bottom": null,
            "display": null,
            "flex": null,
            "flex_flow": null,
            "grid_area": null,
            "grid_auto_columns": null,
            "grid_auto_flow": null,
            "grid_auto_rows": null,
            "grid_column": null,
            "grid_gap": null,
            "grid_row": null,
            "grid_template_areas": null,
            "grid_template_columns": null,
            "grid_template_rows": null,
            "height": "auto",
            "justify_content": null,
            "justify_items": null,
            "left": null,
            "margin": null,
            "max_height": null,
            "max_width": null,
            "min_height": null,
            "min_width": null,
            "object_fit": null,
            "object_position": null,
            "order": null,
            "overflow": null,
            "overflow_x": null,
            "overflow_y": null,
            "padding": "0px 0px 0px 4px",
            "right": null,
            "top": null,
            "visibility": null,
            "width": "auto"
          }
        },
        "ae1ba1ee65ad4a37a414e94d8f8cde9a": {
          "model_module": "@jupyter-widgets/controls",
          "model_name": "DescriptionStyleModel",
          "model_module_version": "1.5.0",
          "state": {
            "_model_module": "@jupyter-widgets/controls",
            "_model_module_version": "1.5.0",
            "_model_name": "DescriptionStyleModel",
            "_view_count": null,
            "_view_module": "@jupyter-widgets/base",
            "_view_module_version": "1.2.0",
            "_view_name": "StyleView",
            "description_width": ""
          }
        },
        "8d45c7db9c2e4f849c6a210a00a2d3db": {
          "model_module": "@jupyter-widgets/base",
          "model_name": "LayoutModel",
          "model_module_version": "1.2.0",
          "state": {
            "_model_module": "@jupyter-widgets/base",
            "_model_module_version": "1.2.0",
            "_model_name": "LayoutModel",
            "_view_count": null,
            "_view_module": "@jupyter-widgets/base",
            "_view_module_version": "1.2.0",
            "_view_name": "LayoutView",
            "align_content": null,
            "align_items": null,
            "align_self": null,
            "border": null,
            "bottom": null,
            "display": null,
            "flex": null,
            "flex_flow": null,
            "grid_area": null,
            "grid_auto_columns": null,
            "grid_auto_flow": null,
            "grid_auto_rows": null,
            "grid_column": null,
            "grid_gap": null,
            "grid_row": null,
            "grid_template_areas": null,
            "grid_template_columns": null,
            "grid_template_rows": null,
            "height": "auto",
            "justify_content": null,
            "justify_items": null,
            "left": null,
            "margin": null,
            "max_height": null,
            "max_width": null,
            "min_height": null,
            "min_width": null,
            "object_fit": null,
            "object_position": null,
            "order": null,
            "overflow": null,
            "overflow_x": null,
            "overflow_y": null,
            "padding": "0px 0px 0px 4px",
            "right": null,
            "top": null,
            "visibility": null,
            "width": "auto"
          }
        },
        "b7446bc3a0014dd9a8e6873e75623639": {
          "model_module": "@jupyter-widgets/controls",
          "model_name": "DescriptionStyleModel",
          "model_module_version": "1.5.0",
          "state": {
            "_model_module": "@jupyter-widgets/controls",
            "_model_module_version": "1.5.0",
            "_model_name": "DescriptionStyleModel",
            "_view_count": null,
            "_view_module": "@jupyter-widgets/base",
            "_view_module_version": "1.2.0",
            "_view_name": "StyleView",
            "description_width": ""
          }
        },
        "6ee490a230184bf68ac875c9ac8a22df": {
          "model_module": "@jupyter-widgets/base",
          "model_name": "LayoutModel",
          "model_module_version": "1.2.0",
          "state": {
            "_model_module": "@jupyter-widgets/base",
            "_model_module_version": "1.2.0",
            "_model_name": "LayoutModel",
            "_view_count": null,
            "_view_module": "@jupyter-widgets/base",
            "_view_module_version": "1.2.0",
            "_view_name": "LayoutView",
            "align_content": null,
            "align_items": null,
            "align_self": null,
            "border": null,
            "bottom": null,
            "display": null,
            "flex": null,
            "flex_flow": null,
            "grid_area": null,
            "grid_auto_columns": null,
            "grid_auto_flow": null,
            "grid_auto_rows": null,
            "grid_column": null,
            "grid_gap": null,
            "grid_row": null,
            "grid_template_areas": null,
            "grid_template_columns": null,
            "grid_template_rows": null,
            "height": "auto",
            "justify_content": null,
            "justify_items": null,
            "left": null,
            "margin": null,
            "max_height": null,
            "max_width": null,
            "min_height": null,
            "min_width": null,
            "object_fit": null,
            "object_position": null,
            "order": null,
            "overflow": null,
            "overflow_x": null,
            "overflow_y": null,
            "padding": "0px 0px 0px 4px",
            "right": null,
            "top": null,
            "visibility": null,
            "width": "auto"
          }
        },
        "191510f942774b88aacd433cce30a9be": {
          "model_module": "@jupyter-widgets/controls",
          "model_name": "DescriptionStyleModel",
          "model_module_version": "1.5.0",
          "state": {
            "_model_module": "@jupyter-widgets/controls",
            "_model_module_version": "1.5.0",
            "_model_name": "DescriptionStyleModel",
            "_view_count": null,
            "_view_module": "@jupyter-widgets/base",
            "_view_module_version": "1.2.0",
            "_view_name": "StyleView",
            "description_width": ""
          }
        },
        "1bf26b2fafad4fed8436aca94d71ddc3": {
          "model_module": "@jupyter-widgets/base",
          "model_name": "LayoutModel",
          "model_module_version": "1.2.0",
          "state": {
            "_model_module": "@jupyter-widgets/base",
            "_model_module_version": "1.2.0",
            "_model_name": "LayoutModel",
            "_view_count": null,
            "_view_module": "@jupyter-widgets/base",
            "_view_module_version": "1.2.0",
            "_view_name": "LayoutView",
            "align_content": null,
            "align_items": null,
            "align_self": null,
            "border": null,
            "bottom": null,
            "display": null,
            "flex": null,
            "flex_flow": null,
            "grid_area": null,
            "grid_auto_columns": null,
            "grid_auto_flow": null,
            "grid_auto_rows": null,
            "grid_column": null,
            "grid_gap": null,
            "grid_row": null,
            "grid_template_areas": null,
            "grid_template_columns": null,
            "grid_template_rows": null,
            "height": "auto",
            "justify_content": null,
            "justify_items": null,
            "left": null,
            "margin": null,
            "max_height": null,
            "max_width": null,
            "min_height": null,
            "min_width": null,
            "object_fit": null,
            "object_position": null,
            "order": null,
            "overflow": null,
            "overflow_x": null,
            "overflow_y": null,
            "padding": "0px 0px 0px 4px",
            "right": null,
            "top": null,
            "visibility": null,
            "width": "auto"
          }
        },
        "8bd714f985c24381b0ee65006ae94142": {
          "model_module": "@jupyter-widgets/controls",
          "model_name": "DescriptionStyleModel",
          "model_module_version": "1.5.0",
          "state": {
            "_model_module": "@jupyter-widgets/controls",
            "_model_module_version": "1.5.0",
            "_model_name": "DescriptionStyleModel",
            "_view_count": null,
            "_view_module": "@jupyter-widgets/base",
            "_view_module_version": "1.2.0",
            "_view_name": "StyleView",
            "description_width": ""
          }
        },
        "ac2aeda79fc64393805b3c44b7f0ec13": {
          "model_module": "@jupyter-widgets/base",
          "model_name": "LayoutModel",
          "model_module_version": "1.2.0",
          "state": {
            "_model_module": "@jupyter-widgets/base",
            "_model_module_version": "1.2.0",
            "_model_name": "LayoutModel",
            "_view_count": null,
            "_view_module": "@jupyter-widgets/base",
            "_view_module_version": "1.2.0",
            "_view_name": "LayoutView",
            "align_content": null,
            "align_items": null,
            "align_self": null,
            "border": null,
            "bottom": null,
            "display": null,
            "flex": null,
            "flex_flow": null,
            "grid_area": null,
            "grid_auto_columns": null,
            "grid_auto_flow": null,
            "grid_auto_rows": null,
            "grid_column": null,
            "grid_gap": null,
            "grid_row": null,
            "grid_template_areas": null,
            "grid_template_columns": null,
            "grid_template_rows": null,
            "height": "auto",
            "justify_content": null,
            "justify_items": null,
            "left": null,
            "margin": null,
            "max_height": null,
            "max_width": null,
            "min_height": null,
            "min_width": null,
            "object_fit": null,
            "object_position": null,
            "order": null,
            "overflow": null,
            "overflow_x": null,
            "overflow_y": null,
            "padding": "0px 0px 0px 4px",
            "right": null,
            "top": null,
            "visibility": null,
            "width": "auto"
          }
        },
        "fd5b6442669747a6b8bfffdd0035a2b2": {
          "model_module": "@jupyter-widgets/controls",
          "model_name": "DescriptionStyleModel",
          "model_module_version": "1.5.0",
          "state": {
            "_model_module": "@jupyter-widgets/controls",
            "_model_module_version": "1.5.0",
            "_model_name": "DescriptionStyleModel",
            "_view_count": null,
            "_view_module": "@jupyter-widgets/base",
            "_view_module_version": "1.2.0",
            "_view_name": "StyleView",
            "description_width": ""
          }
        },
        "cf84e17f3af040a1b088597a5e81babc": {
          "model_module": "@jupyter-widgets/base",
          "model_name": "LayoutModel",
          "model_module_version": "1.2.0",
          "state": {
            "_model_module": "@jupyter-widgets/base",
            "_model_module_version": "1.2.0",
            "_model_name": "LayoutModel",
            "_view_count": null,
            "_view_module": "@jupyter-widgets/base",
            "_view_module_version": "1.2.0",
            "_view_name": "LayoutView",
            "align_content": null,
            "align_items": null,
            "align_self": null,
            "border": null,
            "bottom": null,
            "display": null,
            "flex": null,
            "flex_flow": null,
            "grid_area": null,
            "grid_auto_columns": null,
            "grid_auto_flow": null,
            "grid_auto_rows": null,
            "grid_column": null,
            "grid_gap": null,
            "grid_row": null,
            "grid_template_areas": null,
            "grid_template_columns": null,
            "grid_template_rows": null,
            "height": "auto",
            "justify_content": null,
            "justify_items": null,
            "left": null,
            "margin": null,
            "max_height": null,
            "max_width": null,
            "min_height": null,
            "min_width": null,
            "object_fit": null,
            "object_position": null,
            "order": null,
            "overflow": null,
            "overflow_x": null,
            "overflow_y": null,
            "padding": "0px 0px 0px 4px",
            "right": null,
            "top": null,
            "visibility": null,
            "width": "auto"
          }
        },
        "e08ed103f8324c4391904dfdde84190d": {
          "model_module": "@jupyter-widgets/controls",
          "model_name": "DescriptionStyleModel",
          "model_module_version": "1.5.0",
          "state": {
            "_model_module": "@jupyter-widgets/controls",
            "_model_module_version": "1.5.0",
            "_model_name": "DescriptionStyleModel",
            "_view_count": null,
            "_view_module": "@jupyter-widgets/base",
            "_view_module_version": "1.2.0",
            "_view_name": "StyleView",
            "description_width": ""
          }
        },
        "8bae8dcd5f544b4886f397f97f483826": {
          "model_module": "@jupyter-widgets/base",
          "model_name": "LayoutModel",
          "model_module_version": "1.2.0",
          "state": {
            "_model_module": "@jupyter-widgets/base",
            "_model_module_version": "1.2.0",
            "_model_name": "LayoutModel",
            "_view_count": null,
            "_view_module": "@jupyter-widgets/base",
            "_view_module_version": "1.2.0",
            "_view_name": "LayoutView",
            "align_content": null,
            "align_items": null,
            "align_self": null,
            "border": null,
            "bottom": null,
            "display": null,
            "flex": null,
            "flex_flow": null,
            "grid_area": null,
            "grid_auto_columns": null,
            "grid_auto_flow": null,
            "grid_auto_rows": null,
            "grid_column": null,
            "grid_gap": null,
            "grid_row": null,
            "grid_template_areas": null,
            "grid_template_columns": null,
            "grid_template_rows": null,
            "height": "auto",
            "justify_content": null,
            "justify_items": null,
            "left": null,
            "margin": null,
            "max_height": null,
            "max_width": null,
            "min_height": null,
            "min_width": null,
            "object_fit": null,
            "object_position": null,
            "order": null,
            "overflow": null,
            "overflow_x": null,
            "overflow_y": null,
            "padding": "0px 0px 0px 4px",
            "right": null,
            "top": null,
            "visibility": null,
            "width": "auto"
          }
        },
        "202a9dddfa424535934c594a8cbbdb88": {
          "model_module": "@jupyter-widgets/controls",
          "model_name": "DescriptionStyleModel",
          "model_module_version": "1.5.0",
          "state": {
            "_model_module": "@jupyter-widgets/controls",
            "_model_module_version": "1.5.0",
            "_model_name": "DescriptionStyleModel",
            "_view_count": null,
            "_view_module": "@jupyter-widgets/base",
            "_view_module_version": "1.2.0",
            "_view_name": "StyleView",
            "description_width": ""
          }
        },
        "6009e279bbfd49f0bf79f5e2c894fc43": {
          "model_module": "@jupyter-widgets/base",
          "model_name": "LayoutModel",
          "model_module_version": "1.2.0",
          "state": {
            "_model_module": "@jupyter-widgets/base",
            "_model_module_version": "1.2.0",
            "_model_name": "LayoutModel",
            "_view_count": null,
            "_view_module": "@jupyter-widgets/base",
            "_view_module_version": "1.2.0",
            "_view_name": "LayoutView",
            "align_content": null,
            "align_items": null,
            "align_self": null,
            "border": null,
            "bottom": null,
            "display": null,
            "flex": null,
            "flex_flow": null,
            "grid_area": null,
            "grid_auto_columns": null,
            "grid_auto_flow": null,
            "grid_auto_rows": null,
            "grid_column": null,
            "grid_gap": null,
            "grid_row": null,
            "grid_template_areas": null,
            "grid_template_columns": null,
            "grid_template_rows": null,
            "height": "auto",
            "justify_content": null,
            "justify_items": null,
            "left": null,
            "margin": null,
            "max_height": null,
            "max_width": null,
            "min_height": null,
            "min_width": null,
            "object_fit": null,
            "object_position": null,
            "order": null,
            "overflow": null,
            "overflow_x": null,
            "overflow_y": null,
            "padding": "0px 0px 0px 4px",
            "right": null,
            "top": null,
            "visibility": null,
            "width": "auto"
          }
        },
        "9464f192616b45fe89ba79cebc59c285": {
          "model_module": "@jupyter-widgets/controls",
          "model_name": "DescriptionStyleModel",
          "model_module_version": "1.5.0",
          "state": {
            "_model_module": "@jupyter-widgets/controls",
            "_model_module_version": "1.5.0",
            "_model_name": "DescriptionStyleModel",
            "_view_count": null,
            "_view_module": "@jupyter-widgets/base",
            "_view_module_version": "1.2.0",
            "_view_name": "StyleView",
            "description_width": ""
          }
        },
        "d91db31cfae04bc3b223acb8bdc93bbe": {
          "model_module": "@jupyter-widgets/base",
          "model_name": "LayoutModel",
          "model_module_version": "1.2.0",
          "state": {
            "_model_module": "@jupyter-widgets/base",
            "_model_module_version": "1.2.0",
            "_model_name": "LayoutModel",
            "_view_count": null,
            "_view_module": "@jupyter-widgets/base",
            "_view_module_version": "1.2.0",
            "_view_name": "LayoutView",
            "align_content": null,
            "align_items": null,
            "align_self": null,
            "border": null,
            "bottom": null,
            "display": null,
            "flex": null,
            "flex_flow": null,
            "grid_area": null,
            "grid_auto_columns": null,
            "grid_auto_flow": null,
            "grid_auto_rows": null,
            "grid_column": null,
            "grid_gap": null,
            "grid_row": null,
            "grid_template_areas": null,
            "grid_template_columns": null,
            "grid_template_rows": null,
            "height": "auto",
            "justify_content": null,
            "justify_items": null,
            "left": null,
            "margin": null,
            "max_height": null,
            "max_width": null,
            "min_height": null,
            "min_width": null,
            "object_fit": null,
            "object_position": null,
            "order": null,
            "overflow": null,
            "overflow_x": null,
            "overflow_y": null,
            "padding": "0px 0px 0px 4px",
            "right": null,
            "top": null,
            "visibility": null,
            "width": "auto"
          }
        },
        "97c7c141f8b94c35906cabc85547502b": {
          "model_module": "@jupyter-widgets/controls",
          "model_name": "DescriptionStyleModel",
          "model_module_version": "1.5.0",
          "state": {
            "_model_module": "@jupyter-widgets/controls",
            "_model_module_version": "1.5.0",
            "_model_name": "DescriptionStyleModel",
            "_view_count": null,
            "_view_module": "@jupyter-widgets/base",
            "_view_module_version": "1.2.0",
            "_view_name": "StyleView",
            "description_width": ""
          }
        },
        "6f7304670c0b46a585b9c255a4467c7b": {
          "model_module": "@jupyter-widgets/base",
          "model_name": "LayoutModel",
          "model_module_version": "1.2.0",
          "state": {
            "_model_module": "@jupyter-widgets/base",
            "_model_module_version": "1.2.0",
            "_model_name": "LayoutModel",
            "_view_count": null,
            "_view_module": "@jupyter-widgets/base",
            "_view_module_version": "1.2.0",
            "_view_name": "LayoutView",
            "align_content": null,
            "align_items": null,
            "align_self": null,
            "border": null,
            "bottom": null,
            "display": null,
            "flex": null,
            "flex_flow": null,
            "grid_area": null,
            "grid_auto_columns": null,
            "grid_auto_flow": null,
            "grid_auto_rows": null,
            "grid_column": null,
            "grid_gap": null,
            "grid_row": null,
            "grid_template_areas": null,
            "grid_template_columns": null,
            "grid_template_rows": null,
            "height": "auto",
            "justify_content": null,
            "justify_items": null,
            "left": null,
            "margin": null,
            "max_height": null,
            "max_width": null,
            "min_height": null,
            "min_width": null,
            "object_fit": null,
            "object_position": null,
            "order": null,
            "overflow": null,
            "overflow_x": null,
            "overflow_y": null,
            "padding": "0px 0px 0px 4px",
            "right": null,
            "top": null,
            "visibility": null,
            "width": "auto"
          }
        },
        "8cf0de43830d446ca3d93c04d9c2924d": {
          "model_module": "@jupyter-widgets/controls",
          "model_name": "DescriptionStyleModel",
          "model_module_version": "1.5.0",
          "state": {
            "_model_module": "@jupyter-widgets/controls",
            "_model_module_version": "1.5.0",
            "_model_name": "DescriptionStyleModel",
            "_view_count": null,
            "_view_module": "@jupyter-widgets/base",
            "_view_module_version": "1.2.0",
            "_view_name": "StyleView",
            "description_width": ""
          }
        },
        "1f992d57148d4336834c05e5526e3f20": {
          "model_module": "@jupyter-widgets/base",
          "model_name": "LayoutModel",
          "model_module_version": "1.2.0",
          "state": {
            "_model_module": "@jupyter-widgets/base",
            "_model_module_version": "1.2.0",
            "_model_name": "LayoutModel",
            "_view_count": null,
            "_view_module": "@jupyter-widgets/base",
            "_view_module_version": "1.2.0",
            "_view_name": "LayoutView",
            "align_content": null,
            "align_items": null,
            "align_self": null,
            "border": null,
            "bottom": null,
            "display": null,
            "flex": null,
            "flex_flow": null,
            "grid_area": null,
            "grid_auto_columns": null,
            "grid_auto_flow": null,
            "grid_auto_rows": null,
            "grid_column": null,
            "grid_gap": null,
            "grid_row": null,
            "grid_template_areas": null,
            "grid_template_columns": null,
            "grid_template_rows": null,
            "height": "auto",
            "justify_content": null,
            "justify_items": null,
            "left": null,
            "margin": null,
            "max_height": null,
            "max_width": null,
            "min_height": null,
            "min_width": null,
            "object_fit": null,
            "object_position": null,
            "order": null,
            "overflow": null,
            "overflow_x": null,
            "overflow_y": null,
            "padding": "0px 0px 0px 4px",
            "right": null,
            "top": null,
            "visibility": null,
            "width": "auto"
          }
        },
        "166928bcc18b4c79b4dcef4cc4f1998d": {
          "model_module": "@jupyter-widgets/controls",
          "model_name": "DescriptionStyleModel",
          "model_module_version": "1.5.0",
          "state": {
            "_model_module": "@jupyter-widgets/controls",
            "_model_module_version": "1.5.0",
            "_model_name": "DescriptionStyleModel",
            "_view_count": null,
            "_view_module": "@jupyter-widgets/base",
            "_view_module_version": "1.2.0",
            "_view_name": "StyleView",
            "description_width": ""
          }
        },
        "07cb68cc144243358d82cee348fb943f": {
          "model_module": "@jupyter-widgets/base",
          "model_name": "LayoutModel",
          "model_module_version": "1.2.0",
          "state": {
            "_model_module": "@jupyter-widgets/base",
            "_model_module_version": "1.2.0",
            "_model_name": "LayoutModel",
            "_view_count": null,
            "_view_module": "@jupyter-widgets/base",
            "_view_module_version": "1.2.0",
            "_view_name": "LayoutView",
            "align_content": null,
            "align_items": null,
            "align_self": null,
            "border": null,
            "bottom": null,
            "display": null,
            "flex": null,
            "flex_flow": null,
            "grid_area": null,
            "grid_auto_columns": null,
            "grid_auto_flow": null,
            "grid_auto_rows": null,
            "grid_column": null,
            "grid_gap": null,
            "grid_row": null,
            "grid_template_areas": null,
            "grid_template_columns": null,
            "grid_template_rows": null,
            "height": "auto",
            "justify_content": null,
            "justify_items": null,
            "left": null,
            "margin": null,
            "max_height": null,
            "max_width": null,
            "min_height": null,
            "min_width": null,
            "object_fit": null,
            "object_position": null,
            "order": null,
            "overflow": null,
            "overflow_x": null,
            "overflow_y": null,
            "padding": "0px 0px 0px 4px",
            "right": null,
            "top": null,
            "visibility": null,
            "width": "auto"
          }
        },
        "56927e45fc9e41e8b2f0ef66889e5871": {
          "model_module": "@jupyter-widgets/controls",
          "model_name": "DescriptionStyleModel",
          "model_module_version": "1.5.0",
          "state": {
            "_model_module": "@jupyter-widgets/controls",
            "_model_module_version": "1.5.0",
            "_model_name": "DescriptionStyleModel",
            "_view_count": null,
            "_view_module": "@jupyter-widgets/base",
            "_view_module_version": "1.2.0",
            "_view_name": "StyleView",
            "description_width": ""
          }
        },
        "adfc4aed5dbe48348b696200a114768e": {
          "model_module": "@jupyter-widgets/base",
          "model_name": "LayoutModel",
          "model_module_version": "1.2.0",
          "state": {
            "_model_module": "@jupyter-widgets/base",
            "_model_module_version": "1.2.0",
            "_model_name": "LayoutModel",
            "_view_count": null,
            "_view_module": "@jupyter-widgets/base",
            "_view_module_version": "1.2.0",
            "_view_name": "LayoutView",
            "align_content": null,
            "align_items": null,
            "align_self": null,
            "border": null,
            "bottom": null,
            "display": null,
            "flex": null,
            "flex_flow": null,
            "grid_area": null,
            "grid_auto_columns": null,
            "grid_auto_flow": null,
            "grid_auto_rows": null,
            "grid_column": null,
            "grid_gap": null,
            "grid_row": null,
            "grid_template_areas": null,
            "grid_template_columns": null,
            "grid_template_rows": null,
            "height": "auto",
            "justify_content": null,
            "justify_items": null,
            "left": null,
            "margin": null,
            "max_height": null,
            "max_width": null,
            "min_height": null,
            "min_width": null,
            "object_fit": null,
            "object_position": null,
            "order": null,
            "overflow": null,
            "overflow_x": null,
            "overflow_y": null,
            "padding": "0px 0px 0px 4px",
            "right": null,
            "top": null,
            "visibility": null,
            "width": "auto"
          }
        },
        "d220a4dfc8d64f788953a068bac10eca": {
          "model_module": "@jupyter-widgets/controls",
          "model_name": "DescriptionStyleModel",
          "model_module_version": "1.5.0",
          "state": {
            "_model_module": "@jupyter-widgets/controls",
            "_model_module_version": "1.5.0",
            "_model_name": "DescriptionStyleModel",
            "_view_count": null,
            "_view_module": "@jupyter-widgets/base",
            "_view_module_version": "1.2.0",
            "_view_name": "StyleView",
            "description_width": ""
          }
        },
        "b12dc2b118664dc492d315766143a9f9": {
          "model_module": "@jupyter-widgets/base",
          "model_name": "LayoutModel",
          "model_module_version": "1.2.0",
          "state": {
            "_model_module": "@jupyter-widgets/base",
            "_model_module_version": "1.2.0",
            "_model_name": "LayoutModel",
            "_view_count": null,
            "_view_module": "@jupyter-widgets/base",
            "_view_module_version": "1.2.0",
            "_view_name": "LayoutView",
            "align_content": null,
            "align_items": null,
            "align_self": null,
            "border": null,
            "bottom": null,
            "display": null,
            "flex": null,
            "flex_flow": null,
            "grid_area": null,
            "grid_auto_columns": null,
            "grid_auto_flow": null,
            "grid_auto_rows": null,
            "grid_column": null,
            "grid_gap": null,
            "grid_row": null,
            "grid_template_areas": null,
            "grid_template_columns": null,
            "grid_template_rows": null,
            "height": "auto",
            "justify_content": null,
            "justify_items": null,
            "left": null,
            "margin": null,
            "max_height": null,
            "max_width": null,
            "min_height": null,
            "min_width": null,
            "object_fit": null,
            "object_position": null,
            "order": null,
            "overflow": null,
            "overflow_x": null,
            "overflow_y": null,
            "padding": "0px 0px 0px 4px",
            "right": null,
            "top": null,
            "visibility": null,
            "width": "auto"
          }
        },
        "082467c0ca50430f8222a6d44cd47c1f": {
          "model_module": "@jupyter-widgets/controls",
          "model_name": "DescriptionStyleModel",
          "model_module_version": "1.5.0",
          "state": {
            "_model_module": "@jupyter-widgets/controls",
            "_model_module_version": "1.5.0",
            "_model_name": "DescriptionStyleModel",
            "_view_count": null,
            "_view_module": "@jupyter-widgets/base",
            "_view_module_version": "1.2.0",
            "_view_name": "StyleView",
            "description_width": ""
          }
        },
        "08e11bfb65f14cab8e2d936fdd4dc0cd": {
          "model_module": "@jupyter-widgets/base",
          "model_name": "LayoutModel",
          "model_module_version": "1.2.0",
          "state": {
            "_model_module": "@jupyter-widgets/base",
            "_model_module_version": "1.2.0",
            "_model_name": "LayoutModel",
            "_view_count": null,
            "_view_module": "@jupyter-widgets/base",
            "_view_module_version": "1.2.0",
            "_view_name": "LayoutView",
            "align_content": null,
            "align_items": null,
            "align_self": null,
            "border": null,
            "bottom": null,
            "display": null,
            "flex": null,
            "flex_flow": null,
            "grid_area": null,
            "grid_auto_columns": null,
            "grid_auto_flow": null,
            "grid_auto_rows": null,
            "grid_column": null,
            "grid_gap": null,
            "grid_row": null,
            "grid_template_areas": null,
            "grid_template_columns": null,
            "grid_template_rows": null,
            "height": "auto",
            "justify_content": null,
            "justify_items": null,
            "left": null,
            "margin": null,
            "max_height": null,
            "max_width": null,
            "min_height": null,
            "min_width": null,
            "object_fit": null,
            "object_position": null,
            "order": null,
            "overflow": null,
            "overflow_x": null,
            "overflow_y": null,
            "padding": "0px 0px 0px 4px",
            "right": null,
            "top": null,
            "visibility": null,
            "width": "auto"
          }
        },
        "2dc4d34483484c0196ccc83f1fdba0f0": {
          "model_module": "@jupyter-widgets/controls",
          "model_name": "DescriptionStyleModel",
          "model_module_version": "1.5.0",
          "state": {
            "_model_module": "@jupyter-widgets/controls",
            "_model_module_version": "1.5.0",
            "_model_name": "DescriptionStyleModel",
            "_view_count": null,
            "_view_module": "@jupyter-widgets/base",
            "_view_module_version": "1.2.0",
            "_view_name": "StyleView",
            "description_width": ""
          }
        },
        "8ab5ab5406c8478789202301bdcaadc8": {
          "model_module": "@jupyter-widgets/controls",
          "model_name": "ToggleButtonModel",
          "model_module_version": "1.5.0",
          "state": {
            "_dom_classes": [],
            "_model_module": "@jupyter-widgets/controls",
            "_model_module_version": "1.5.0",
            "_model_name": "ToggleButtonModel",
            "_view_count": null,
            "_view_module": "@jupyter-widgets/controls",
            "_view_module_version": "1.5.0",
            "_view_name": "ToggleButtonView",
            "button_style": "primary",
            "description": "",
            "description_tooltip": null,
            "disabled": false,
            "icon": "info",
            "layout": "IPY_MODEL_19e850a748924cb2ae8da3b20608796b",
            "style": "IPY_MODEL_ae1ba1ee65ad4a37a414e94d8f8cde9a",
            "tooltip": "Inspector",
            "value": false
          }
        },
        "2649a7a852574a919023cbaa18219796": {
          "model_module": "@jupyter-widgets/controls",
          "model_name": "ToggleButtonModel",
          "model_module_version": "1.5.0",
          "state": {
            "_dom_classes": [],
            "_model_module": "@jupyter-widgets/controls",
            "_model_module_version": "1.5.0",
            "_model_name": "ToggleButtonModel",
            "_view_count": null,
            "_view_module": "@jupyter-widgets/controls",
            "_view_module_version": "1.5.0",
            "_view_name": "ToggleButtonView",
            "button_style": "primary",
            "description": "",
            "description_tooltip": null,
            "disabled": false,
            "icon": "bar-chart",
            "layout": "IPY_MODEL_8d45c7db9c2e4f849c6a210a00a2d3db",
            "style": "IPY_MODEL_b7446bc3a0014dd9a8e6873e75623639",
            "tooltip": "Plotting",
            "value": false
          }
        },
        "c3bf52ae137643e49a7b8c7c3a172b37": {
          "model_module": "@jupyter-widgets/controls",
          "model_name": "ToggleButtonModel",
          "model_module_version": "1.5.0",
          "state": {
            "_dom_classes": [],
            "_model_module": "@jupyter-widgets/controls",
            "_model_module_version": "1.5.0",
            "_model_name": "ToggleButtonModel",
            "_view_count": null,
            "_view_module": "@jupyter-widgets/controls",
            "_view_module_version": "1.5.0",
            "_view_name": "ToggleButtonView",
            "button_style": "primary",
            "description": "",
            "description_tooltip": null,
            "disabled": false,
            "icon": "eraser",
            "layout": "IPY_MODEL_6ee490a230184bf68ac875c9ac8a22df",
            "style": "IPY_MODEL_191510f942774b88aacd433cce30a9be",
            "tooltip": "Remove all drawn features",
            "value": false
          }
        },
        "9e8a8fb31abe4c99aa794d5583adfad2": {
          "model_module": "@jupyter-widgets/controls",
          "model_name": "ToggleButtonModel",
          "model_module_version": "1.5.0",
          "state": {
            "_dom_classes": [],
            "_model_module": "@jupyter-widgets/controls",
            "_model_module_version": "1.5.0",
            "_model_name": "ToggleButtonModel",
            "_view_count": null,
            "_view_module": "@jupyter-widgets/controls",
            "_view_module_version": "1.5.0",
            "_view_name": "ToggleButtonView",
            "button_style": "primary",
            "description": "",
            "description_tooltip": null,
            "disabled": false,
            "icon": "folder-open",
            "layout": "IPY_MODEL_1bf26b2fafad4fed8436aca94d71ddc3",
            "style": "IPY_MODEL_8bd714f985c24381b0ee65006ae94142",
            "tooltip": "Open local vector/raster data",
            "value": false
          }
        },
        "64b4043b00a044759ea044f7f8d7a275": {
          "model_module": "@jupyter-widgets/controls",
          "model_name": "ToggleButtonModel",
          "model_module_version": "1.5.0",
          "state": {
            "_dom_classes": [],
            "_model_module": "@jupyter-widgets/controls",
            "_model_module_version": "1.5.0",
            "_model_name": "ToggleButtonModel",
            "_view_count": null,
            "_view_module": "@jupyter-widgets/controls",
            "_view_module_version": "1.5.0",
            "_view_name": "ToggleButtonView",
            "button_style": "primary",
            "description": "",
            "description_tooltip": null,
            "disabled": false,
            "icon": "retweet",
            "layout": "IPY_MODEL_ac2aeda79fc64393805b3c44b7f0ec13",
            "style": "IPY_MODEL_fd5b6442669747a6b8bfffdd0035a2b2",
            "tooltip": "Convert Earth Engine JavaScript to Python",
            "value": false
          }
        },
        "85e55d39f8134a20a3ae5f9c1edc5c66": {
          "model_module": "@jupyter-widgets/controls",
          "model_name": "ToggleButtonModel",
          "model_module_version": "1.5.0",
          "state": {
            "_dom_classes": [],
            "_model_module": "@jupyter-widgets/controls",
            "_model_module_version": "1.5.0",
            "_model_name": "ToggleButtonModel",
            "_view_count": null,
            "_view_module": "@jupyter-widgets/controls",
            "_view_module_version": "1.5.0",
            "_view_name": "ToggleButtonView",
            "button_style": "primary",
            "description": "",
            "description_tooltip": null,
            "disabled": false,
            "icon": "gears",
            "layout": "IPY_MODEL_cf84e17f3af040a1b088597a5e81babc",
            "style": "IPY_MODEL_e08ed103f8324c4391904dfdde84190d",
            "tooltip": "WhiteboxTools for local geoprocessing",
            "value": false
          }
        },
        "bc1d9e1340aa4850a9ab8d74cb5db435": {
          "model_module": "@jupyter-widgets/controls",
          "model_name": "ToggleButtonModel",
          "model_module_version": "1.5.0",
          "state": {
            "_dom_classes": [],
            "_model_module": "@jupyter-widgets/controls",
            "_model_module_version": "1.5.0",
            "_model_name": "ToggleButtonModel",
            "_view_count": null,
            "_view_module": "@jupyter-widgets/controls",
            "_view_module_version": "1.5.0",
            "_view_name": "ToggleButtonView",
            "button_style": "primary",
            "description": "",
            "description_tooltip": null,
            "disabled": false,
            "icon": "google",
            "layout": "IPY_MODEL_8bae8dcd5f544b4886f397f97f483826",
            "style": "IPY_MODEL_202a9dddfa424535934c594a8cbbdb88",
            "tooltip": "GEE Toolbox for cloud computing",
            "value": false
          }
        },
        "f4b8f2aef01045d5955f6d5e5f2bf322": {
          "model_module": "@jupyter-widgets/controls",
          "model_name": "ToggleButtonModel",
          "model_module_version": "1.5.0",
          "state": {
            "_dom_classes": [],
            "_model_module": "@jupyter-widgets/controls",
            "_model_module_version": "1.5.0",
            "_model_name": "ToggleButtonModel",
            "_view_count": null,
            "_view_module": "@jupyter-widgets/controls",
            "_view_module_version": "1.5.0",
            "_view_name": "ToggleButtonView",
            "button_style": "primary",
            "description": "",
            "description_tooltip": null,
            "disabled": false,
            "icon": "map",
            "layout": "IPY_MODEL_6009e279bbfd49f0bf79f5e2c894fc43",
            "style": "IPY_MODEL_9464f192616b45fe89ba79cebc59c285",
            "tooltip": "Change basemap",
            "value": false
          }
        },
        "4bbaaeca2abb4012aba9f730098ecb26": {
          "model_module": "@jupyter-widgets/controls",
          "model_name": "ToggleButtonModel",
          "model_module_version": "1.5.0",
          "state": {
            "_dom_classes": [],
            "_model_module": "@jupyter-widgets/controls",
            "_model_module_version": "1.5.0",
            "_model_name": "ToggleButtonModel",
            "_view_count": null,
            "_view_module": "@jupyter-widgets/controls",
            "_view_module_version": "1.5.0",
            "_view_name": "ToggleButtonView",
            "button_style": "primary",
            "description": "",
            "description_tooltip": null,
            "disabled": false,
            "icon": "globe",
            "layout": "IPY_MODEL_d91db31cfae04bc3b223acb8bdc93bbe",
            "style": "IPY_MODEL_97c7c141f8b94c35906cabc85547502b",
            "tooltip": "Create timelapse",
            "value": false
          }
        },
        "c17b11f371104c359b597b566b54257b": {
          "model_module": "@jupyter-widgets/controls",
          "model_name": "ToggleButtonModel",
          "model_module_version": "1.5.0",
          "state": {
            "_dom_classes": [],
            "_model_module": "@jupyter-widgets/controls",
            "_model_module_version": "1.5.0",
            "_model_name": "ToggleButtonModel",
            "_view_count": null,
            "_view_module": "@jupyter-widgets/controls",
            "_view_module_version": "1.5.0",
            "_view_name": "ToggleButtonView",
            "button_style": "primary",
            "description": "",
            "description_tooltip": null,
            "disabled": false,
            "icon": "fast-forward",
            "layout": "IPY_MODEL_6f7304670c0b46a585b9c255a4467c7b",
            "style": "IPY_MODEL_8cf0de43830d446ca3d93c04d9c2924d",
            "tooltip": "Activate timeslider",
            "value": false
          }
        },
        "eaaa40fb68f64e42b5357982d7b45b43": {
          "model_module": "@jupyter-widgets/controls",
          "model_name": "ToggleButtonModel",
          "model_module_version": "1.5.0",
          "state": {
            "_dom_classes": [],
            "_model_module": "@jupyter-widgets/controls",
            "_model_module_version": "1.5.0",
            "_model_name": "ToggleButtonModel",
            "_view_count": null,
            "_view_module": "@jupyter-widgets/controls",
            "_view_module_version": "1.5.0",
            "_view_name": "ToggleButtonView",
            "button_style": "primary",
            "description": "",
            "description_tooltip": null,
            "disabled": false,
            "icon": "hand-o-up",
            "layout": "IPY_MODEL_1f992d57148d4336834c05e5526e3f20",
            "style": "IPY_MODEL_166928bcc18b4c79b4dcef4cc4f1998d",
            "tooltip": "Collect training samples",
            "value": false
          }
        },
        "3e66b6da34624b8b98f041d0575a5c3f": {
          "model_module": "@jupyter-widgets/controls",
          "model_name": "ToggleButtonModel",
          "model_module_version": "1.5.0",
          "state": {
            "_dom_classes": [],
            "_model_module": "@jupyter-widgets/controls",
            "_model_module_version": "1.5.0",
            "_model_name": "ToggleButtonModel",
            "_view_count": null,
            "_view_module": "@jupyter-widgets/controls",
            "_view_module_version": "1.5.0",
            "_view_name": "ToggleButtonView",
            "button_style": "primary",
            "description": "",
            "description_tooltip": null,
            "disabled": false,
            "icon": "line-chart",
            "layout": "IPY_MODEL_07cb68cc144243358d82cee348fb943f",
            "style": "IPY_MODEL_56927e45fc9e41e8b2f0ef66889e5871",
            "tooltip": "Creating and plotting transects",
            "value": false
          }
        },
        "48a94260269244d5bb1133c28f23a922": {
          "model_module": "@jupyter-widgets/controls",
          "model_name": "ToggleButtonModel",
          "model_module_version": "1.5.0",
          "state": {
            "_dom_classes": [],
            "_model_module": "@jupyter-widgets/controls",
            "_model_module_version": "1.5.0",
            "_model_name": "ToggleButtonModel",
            "_view_count": null,
            "_view_module": "@jupyter-widgets/controls",
            "_view_module_version": "1.5.0",
            "_view_name": "ToggleButtonView",
            "button_style": "primary",
            "description": "",
            "description_tooltip": null,
            "disabled": false,
            "icon": "random",
            "layout": "IPY_MODEL_adfc4aed5dbe48348b696200a114768e",
            "style": "IPY_MODEL_d220a4dfc8d64f788953a068bac10eca",
            "tooltip": "Sankey plots",
            "value": false
          }
        },
        "2ff505b02f1944d6bf4acb54a8e84c5a": {
          "model_module": "@jupyter-widgets/controls",
          "model_name": "ToggleButtonModel",
          "model_module_version": "1.5.0",
          "state": {
            "_dom_classes": [],
            "_model_module": "@jupyter-widgets/controls",
            "_model_module_version": "1.5.0",
            "_model_name": "ToggleButtonModel",
            "_view_count": null,
            "_view_module": "@jupyter-widgets/controls",
            "_view_module_version": "1.5.0",
            "_view_name": "ToggleButtonView",
            "button_style": "primary",
            "description": "",
            "description_tooltip": null,
            "disabled": false,
            "icon": "adjust",
            "layout": "IPY_MODEL_b12dc2b118664dc492d315766143a9f9",
            "style": "IPY_MODEL_082467c0ca50430f8222a6d44cd47c1f",
            "tooltip": "Planet imagery",
            "value": false
          }
        },
        "51b8b26ed56343ce89d9dbd4137fcb12": {
          "model_module": "@jupyter-widgets/controls",
          "model_name": "ToggleButtonModel",
          "model_module_version": "1.5.0",
          "state": {
            "_dom_classes": [],
            "_model_module": "@jupyter-widgets/controls",
            "_model_module_version": "1.5.0",
            "_model_name": "ToggleButtonModel",
            "_view_count": null,
            "_view_module": "@jupyter-widgets/controls",
            "_view_module_version": "1.5.0",
            "_view_name": "ToggleButtonView",
            "button_style": "primary",
            "description": "",
            "description_tooltip": null,
            "disabled": false,
            "icon": "info-circle",
            "layout": "IPY_MODEL_08e11bfb65f14cab8e2d936fdd4dc0cd",
            "style": "IPY_MODEL_2dc4d34483484c0196ccc83f1fdba0f0",
            "tooltip": "Get COG/STAC pixel value",
            "value": false
          }
        },
        "bfdacbb78dba4f41916cd7c6365fb9b6": {
          "model_module": "@jupyter-widgets/base",
          "model_name": "LayoutModel",
          "model_module_version": "1.2.0",
          "state": {
            "_model_module": "@jupyter-widgets/base",
            "_model_module_version": "1.2.0",
            "_model_name": "LayoutModel",
            "_view_count": null,
            "_view_module": "@jupyter-widgets/base",
            "_view_module_version": "1.2.0",
            "_view_name": "LayoutView",
            "align_content": null,
            "align_items": null,
            "align_self": null,
            "border": null,
            "bottom": null,
            "display": null,
            "flex": null,
            "flex_flow": null,
            "grid_area": null,
            "grid_auto_columns": null,
            "grid_auto_flow": null,
            "grid_auto_rows": null,
            "grid_column": null,
            "grid_gap": "1px 1px",
            "grid_row": null,
            "grid_template_areas": null,
            "grid_template_columns": "32px 32px 32px ",
            "grid_template_rows": "32px 32px 32px 32px 32px ",
            "height": null,
            "justify_content": null,
            "justify_items": null,
            "left": null,
            "margin": null,
            "max_height": null,
            "max_width": null,
            "min_height": null,
            "min_width": null,
            "object_fit": null,
            "object_position": null,
            "order": null,
            "overflow": null,
            "overflow_x": null,
            "overflow_y": null,
            "padding": "5px",
            "right": null,
            "top": null,
            "visibility": null,
            "width": "109px"
          }
        },
        "a39684f08e334233af0250a8fd59e126": {
          "model_module": "@jupyter-widgets/base",
          "model_name": "LayoutModel",
          "model_module_version": "1.2.0",
          "state": {
            "_model_module": "@jupyter-widgets/base",
            "_model_module_version": "1.2.0",
            "_model_name": "LayoutModel",
            "_view_count": null,
            "_view_module": "@jupyter-widgets/base",
            "_view_module_version": "1.2.0",
            "_view_name": "LayoutView",
            "align_content": null,
            "align_items": null,
            "align_self": null,
            "border": null,
            "bottom": null,
            "display": null,
            "flex": null,
            "flex_flow": null,
            "grid_area": null,
            "grid_auto_columns": null,
            "grid_auto_flow": null,
            "grid_auto_rows": null,
            "grid_column": null,
            "grid_gap": null,
            "grid_row": null,
            "grid_template_areas": null,
            "grid_template_columns": null,
            "grid_template_rows": null,
            "height": "28px",
            "justify_content": null,
            "justify_items": null,
            "left": null,
            "margin": null,
            "max_height": null,
            "max_width": null,
            "min_height": null,
            "min_width": null,
            "object_fit": null,
            "object_position": null,
            "order": null,
            "overflow": null,
            "overflow_x": null,
            "overflow_y": null,
            "padding": null,
            "right": null,
            "top": null,
            "visibility": null,
            "width": "72px"
          }
        },
        "fc44ca74a4094a54ae958f753e707f11": {
          "model_module": "@jupyter-widgets/controls",
          "model_name": "DescriptionStyleModel",
          "model_module_version": "1.5.0",
          "state": {
            "_model_module": "@jupyter-widgets/controls",
            "_model_module_version": "1.5.0",
            "_model_name": "DescriptionStyleModel",
            "_view_count": null,
            "_view_module": "@jupyter-widgets/base",
            "_view_module_version": "1.2.0",
            "_view_name": "StyleView",
            "description_width": ""
          }
        },
        "74135f2ce3ae4557906b189d4e0989cc": {
          "model_module": "@jupyter-widgets/base",
          "model_name": "LayoutModel",
          "model_module_version": "1.2.0",
          "state": {
            "_model_module": "@jupyter-widgets/base",
            "_model_module_version": "1.2.0",
            "_model_name": "LayoutModel",
            "_view_count": null,
            "_view_module": "@jupyter-widgets/base",
            "_view_module_version": "1.2.0",
            "_view_name": "LayoutView",
            "align_content": null,
            "align_items": null,
            "align_self": null,
            "border": null,
            "bottom": null,
            "display": null,
            "flex": null,
            "flex_flow": null,
            "grid_area": null,
            "grid_auto_columns": null,
            "grid_auto_flow": null,
            "grid_auto_rows": null,
            "grid_column": null,
            "grid_gap": null,
            "grid_row": null,
            "grid_template_areas": null,
            "grid_template_columns": null,
            "grid_template_rows": null,
            "height": null,
            "justify_content": null,
            "justify_items": null,
            "left": null,
            "margin": null,
            "max_height": null,
            "max_width": null,
            "min_height": null,
            "min_width": null,
            "object_fit": null,
            "object_position": null,
            "order": null,
            "overflow": null,
            "overflow_x": null,
            "overflow_y": null,
            "padding": null,
            "right": null,
            "top": null,
            "visibility": null,
            "width": null
          }
        },
        "2483abde7114412d93123ace41a89990": {
          "model_module": "@jupyter-widgets/base",
          "model_name": "LayoutModel",
          "model_module_version": "1.2.0",
          "state": {
            "_model_module": "@jupyter-widgets/base",
            "_model_module_version": "1.2.0",
            "_model_name": "LayoutModel",
            "_view_count": null,
            "_view_module": "@jupyter-widgets/base",
            "_view_module_version": "1.2.0",
            "_view_name": "LayoutView",
            "align_content": null,
            "align_items": null,
            "align_self": null,
            "border": null,
            "bottom": null,
            "display": null,
            "flex": null,
            "flex_flow": null,
            "grid_area": null,
            "grid_auto_columns": null,
            "grid_auto_flow": null,
            "grid_auto_rows": null,
            "grid_column": null,
            "grid_gap": null,
            "grid_row": null,
            "grid_template_areas": null,
            "grid_template_columns": null,
            "grid_template_rows": null,
            "height": null,
            "justify_content": null,
            "justify_items": null,
            "left": null,
            "margin": null,
            "max_height": null,
            "max_width": null,
            "min_height": null,
            "min_width": null,
            "object_fit": null,
            "object_position": null,
            "order": null,
            "overflow": null,
            "overflow_x": null,
            "overflow_y": null,
            "padding": null,
            "right": null,
            "top": null,
            "visibility": null,
            "width": null
          }
        },
        "9dd0426e48a545fdb522302474bb0869": {
          "model_module": "jupyter-leaflet",
          "model_name": "LeafletAttributionControlModel",
          "model_module_version": "^0.17",
          "state": {
            "_model_module": "jupyter-leaflet",
            "_model_module_version": "^0.17",
            "_model_name": "LeafletAttributionControlModel",
            "_view_count": null,
            "_view_module": "jupyter-leaflet",
            "_view_module_version": "^0.17",
            "_view_name": "LeafletAttributionControlView",
            "options": [
              "position",
              "prefix"
            ],
            "position": "bottomright",
            "prefix": "ipyleaflet"
          }
        },
        "e689226e458e43b28ea39a0e604cbdb8": {
          "model_module": "@jupyter-widgets/controls",
          "model_name": "ButtonModel",
          "model_module_version": "1.5.0",
          "state": {
            "_dom_classes": [],
            "_model_module": "@jupyter-widgets/controls",
            "_model_module_version": "1.5.0",
            "_model_name": "ButtonModel",
            "_view_count": null,
            "_view_module": "@jupyter-widgets/controls",
            "_view_module_version": "1.5.0",
            "_view_name": "ButtonView",
            "button_style": "primary",
            "description": "import",
            "disabled": false,
            "icon": "",
            "layout": "IPY_MODEL_aa063bee8c1041e69926e1d595ee0e7f",
            "style": "IPY_MODEL_5774db6cf53341ba8868b6bd74a527ea",
            "tooltip": "Click to import the selected asset"
          }
        },
        "0b9b1128eba047688cea171f4a2d5b71": {
          "model_module": "@jupyter-widgets/controls",
          "model_name": "DropdownModel",
          "model_module_version": "1.5.0",
          "state": {
            "_dom_classes": [],
            "_model_module": "@jupyter-widgets/controls",
            "_model_module_version": "1.5.0",
            "_model_name": "DropdownModel",
            "_options_labels": [],
            "_view_count": null,
            "_view_module": "@jupyter-widgets/controls",
            "_view_module_version": "1.5.0",
            "_view_name": "DropdownView",
            "description": "",
            "description_tooltip": null,
            "disabled": false,
            "index": null,
            "layout": "IPY_MODEL_05072e6dc0dd4ec79a717b86becf4913",
            "style": "IPY_MODEL_eb820e90eb8a43c2b53cc4df30f971e1"
          }
        },
        "34747fc84ab34b95a349f3712376d462": {
          "model_module": "@jupyter-widgets/controls",
          "model_name": "ToggleButtonModel",
          "model_module_version": "1.5.0",
          "state": {
            "_dom_classes": [],
            "_model_module": "@jupyter-widgets/controls",
            "_model_module_version": "1.5.0",
            "_model_name": "ToggleButtonModel",
            "_view_count": null,
            "_view_module": "@jupyter-widgets/controls",
            "_view_module_version": "1.5.0",
            "_view_name": "ToggleButtonView",
            "button_style": "",
            "description": "",
            "description_tooltip": null,
            "disabled": false,
            "icon": "server",
            "layout": "IPY_MODEL_a39684f08e334233af0250a8fd59e126",
            "style": "IPY_MODEL_fc44ca74a4094a54ae958f753e707f11",
            "tooltip": "Layers",
            "value": false
          }
        },
        "4bf63c434b0745e5b3d4cb7cd4b17123": {
          "model_module": "@jupyter-widgets/controls",
          "model_name": "GridBoxModel",
          "model_module_version": "1.5.0",
          "state": {
            "_dom_classes": [],
            "_model_module": "@jupyter-widgets/controls",
            "_model_module_version": "1.5.0",
            "_model_name": "GridBoxModel",
            "_view_count": null,
            "_view_module": "@jupyter-widgets/controls",
            "_view_module_version": "1.5.0",
            "_view_name": "GridBoxView",
            "box_style": "",
            "children": [
              "IPY_MODEL_8ab5ab5406c8478789202301bdcaadc8",
              "IPY_MODEL_2649a7a852574a919023cbaa18219796",
              "IPY_MODEL_c3bf52ae137643e49a7b8c7c3a172b37",
              "IPY_MODEL_9e8a8fb31abe4c99aa794d5583adfad2",
              "IPY_MODEL_64b4043b00a044759ea044f7f8d7a275",
              "IPY_MODEL_85e55d39f8134a20a3ae5f9c1edc5c66",
              "IPY_MODEL_bc1d9e1340aa4850a9ab8d74cb5db435",
              "IPY_MODEL_f4b8f2aef01045d5955f6d5e5f2bf322",
              "IPY_MODEL_4bbaaeca2abb4012aba9f730098ecb26",
              "IPY_MODEL_c17b11f371104c359b597b566b54257b",
              "IPY_MODEL_eaaa40fb68f64e42b5357982d7b45b43",
              "IPY_MODEL_3e66b6da34624b8b98f041d0575a5c3f",
              "IPY_MODEL_48a94260269244d5bb1133c28f23a922",
              "IPY_MODEL_2ff505b02f1944d6bf4acb54a8e84c5a",
              "IPY_MODEL_51b8b26ed56343ce89d9dbd4137fcb12"
            ],
            "layout": "IPY_MODEL_bfdacbb78dba4f41916cd7c6365fb9b6"
          }
        },
        "2df5930af6014814a169316fa59a5cea": {
          "model_module": "jupyter-leaflet",
          "model_name": "LeafletMapModel",
          "model_module_version": "^0.17",
          "state": {
            "_dom_classes": [],
            "_model_module": "jupyter-leaflet",
            "_model_module_version": "^0.17",
            "_model_name": "LeafletMapModel",
            "_view_count": null,
            "_view_module": "jupyter-leaflet",
            "_view_module_version": "^0.17",
            "_view_name": "LeafletMapView",
            "bottom": 51217,
            "bounce_at_zoom_limits": true,
            "box_zoom": true,
            "center": [
              37.22,
              -122.08
            ],
            "close_popup_on_click": true,
            "controls": [
              "IPY_MODEL_c3ee7ec5d6f448399fafffd59bc89ca4",
              "IPY_MODEL_014b5e8d05c1411697f239839fd1c258",
              "IPY_MODEL_676e60e633444c5a914f6a86d85804c1",
              "IPY_MODEL_df3fb8b1e98843548a7a0dea8b8624e2",
              "IPY_MODEL_1d5f45e4eefd42c48d8c58d3bbb10d5b",
              "IPY_MODEL_23cbaa05790b4c43a4087286dfa103cb",
              "IPY_MODEL_1347d27566d84c02918f4e45a3781a04",
              "IPY_MODEL_7ace6db827a14a1eb48764b6317df4fc"
            ],
            "crs": {
              "name": "EPSG3857",
              "custom": false
            },
            "default_style": "IPY_MODEL_6cbc4d2083c64fafbd5b564b3141e008",
            "double_click_zoom": true,
            "dragging": true,
            "dragging_style": "IPY_MODEL_0f663587665b460cac9143fc294e2ef1",
            "east": -120.29754638671876,
            "fullscreen": false,
            "inertia": true,
            "inertia_deceleration": 3000,
            "inertia_max_speed": 1500,
            "interpolation": "bilinear",
            "keyboard": true,
            "keyboard_pan_offset": 80,
            "keyboard_zoom_offset": 1,
            "layers": [
              "IPY_MODEL_7a73e5f32df64a1d906f5bc94674a512",
              "IPY_MODEL_ba4b79645a7d47b18e642921d7f84610",
              "IPY_MODEL_210941af46fc48b1bd46dfe77dd25af7",
              "IPY_MODEL_d8394b818b46462385de86a640f8eb69",
              "IPY_MODEL_c32ebf9d1bae4936be45325c42ae58bf",
              "IPY_MODEL_79690eed26b4470ca07e03b29569fab5"
            ],
            "layout": "IPY_MODEL_2e35771a3c47451c9a0933531def9b83",
            "left": 20440,
            "max_zoom": 24,
            "min_zoom": null,
            "modisdate": "2023-06-14",
            "north": 37.87268533717655,
            "options": [
              "bounce_at_zoom_limits",
              "box_zoom",
              "center",
              "close_popup_on_click",
              "double_click_zoom",
              "dragging",
              "fullscreen",
              "inertia",
              "inertia_deceleration",
              "inertia_max_speed",
              "interpolation",
              "keyboard",
              "keyboard_pan_offset",
              "keyboard_zoom_offset",
              "max_zoom",
              "min_zoom",
              "prefer_canvas",
              "scroll_wheel_zoom",
              "tap",
              "tap_tolerance",
              "touch_zoom",
              "world_copy_jump",
              "zoom",
              "zoom_animation_threshold",
              "zoom_delta",
              "zoom_snap"
            ],
            "panes": {},
            "prefer_canvas": false,
            "right": 21737,
            "scroll_wheel_zoom": true,
            "south": 36.56039393337071,
            "style": "IPY_MODEL_0f663587665b460cac9143fc294e2ef1",
            "tap": true,
            "tap_tolerance": 15,
            "top": 50617,
            "touch_zoom": true,
            "west": -123.85986328125001,
            "window_url": "https://s46lvat9p08-496ff2e9c6d22116-0-colab.googleusercontent.com/outputframe.html?vrz=colab-20230613-060149-RC01_539994307",
            "world_copy_jump": false,
            "zoom": 9,
            "zoom_animation_threshold": 4,
            "zoom_delta": 1,
            "zoom_snap": 1
          }
        },
        "c3ee7ec5d6f448399fafffd59bc89ca4": {
          "model_module": "jupyter-leaflet",
          "model_name": "LeafletWidgetControlModel",
          "model_module_version": "^0.17",
          "state": {
            "_model_module": "jupyter-leaflet",
            "_model_module_version": "^0.17",
            "_model_name": "LeafletWidgetControlModel",
            "_view_count": null,
            "_view_module": "jupyter-leaflet",
            "_view_module_version": "^0.17",
            "_view_name": "LeafletWidgetControlView",
            "max_height": null,
            "max_width": null,
            "min_height": null,
            "min_width": null,
            "options": [
              "position",
              "transparent_bg"
            ],
            "position": "topleft",
            "transparent_bg": false,
            "widget": "IPY_MODEL_30a0cc33841b4b4c9533ed373dc93fda"
          }
        },
        "014b5e8d05c1411697f239839fd1c258": {
          "model_module": "jupyter-leaflet",
          "model_name": "LeafletZoomControlModel",
          "model_module_version": "^0.17",
          "state": {
            "_model_module": "jupyter-leaflet",
            "_model_module_version": "^0.17",
            "_model_name": "LeafletZoomControlModel",
            "_view_count": null,
            "_view_module": "jupyter-leaflet",
            "_view_module_version": "^0.17",
            "_view_name": "LeafletZoomControlView",
            "options": [
              "position",
              "zoom_in_text",
              "zoom_in_title",
              "zoom_out_text",
              "zoom_out_title"
            ],
            "position": "topleft",
            "zoom_in_text": "+",
            "zoom_in_title": "Zoom in",
            "zoom_out_text": "-",
            "zoom_out_title": "Zoom out"
          }
        },
        "676e60e633444c5a914f6a86d85804c1": {
          "model_module": "jupyter-leaflet",
          "model_name": "LeafletScaleControlModel",
          "model_module_version": "^0.17",
          "state": {
            "_model_module": "jupyter-leaflet",
            "_model_module_version": "^0.17",
            "_model_name": "LeafletScaleControlModel",
            "_view_count": null,
            "_view_module": "jupyter-leaflet",
            "_view_module_version": "^0.17",
            "_view_name": "LeafletScaleControlView",
            "imperial": true,
            "max_width": 100,
            "metric": true,
            "options": [
              "imperial",
              "max_width",
              "metric",
              "position",
              "update_when_idle"
            ],
            "position": "bottomleft",
            "update_when_idle": false
          }
        },
        "df3fb8b1e98843548a7a0dea8b8624e2": {
          "model_module": "jupyter-leaflet",
          "model_name": "LeafletFullScreenControlModel",
          "model_module_version": "^0.17",
          "state": {
            "_model_module": "jupyter-leaflet",
            "_model_module_version": "^0.17",
            "_model_name": "LeafletFullScreenControlModel",
            "_view_count": null,
            "_view_module": "jupyter-leaflet",
            "_view_module_version": "^0.17",
            "_view_name": "LeafletFullScreenControlView",
            "options": [
              "position"
            ],
            "position": "topleft"
          }
        },
        "1d5f45e4eefd42c48d8c58d3bbb10d5b": {
          "model_module": "jupyter-leaflet",
          "model_name": "LeafletMeasureControlModel",
          "model_module_version": "^0.17",
          "state": {
            "_custom_units": {},
            "_model_module": "jupyter-leaflet",
            "_model_module_version": "^0.17",
            "_model_name": "LeafletMeasureControlModel",
            "_view_count": null,
            "_view_module": "jupyter-leaflet",
            "_view_module_version": "^0.17",
            "_view_name": "LeafletMeasureControlView",
            "active_color": "orange",
            "capture_z_index": 10000,
            "completed_color": "#C8F2BE",
            "options": [
              "active_color",
              "capture_z_index",
              "completed_color",
              "popup_options",
              "position",
              "primary_area_unit",
              "primary_length_unit",
              "secondary_area_unit",
              "secondary_length_unit"
            ],
            "popup_options": {
              "className": "leaflet-measure-resultpopup",
              "autoPanPadding": [
                10,
                10
              ]
            },
            "position": "bottomleft",
            "primary_area_unit": "acres",
            "primary_length_unit": "kilometers",
            "secondary_area_unit": null,
            "secondary_length_unit": null
          }
        },
        "23cbaa05790b4c43a4087286dfa103cb": {
          "model_module": "jupyter-leaflet",
          "model_name": "LeafletAttributionControlModel",
          "model_module_version": "^0.17",
          "state": {
            "_model_module": "jupyter-leaflet",
            "_model_module_version": "^0.17",
            "_model_name": "LeafletAttributionControlModel",
            "_view_count": null,
            "_view_module": "jupyter-leaflet",
            "_view_module_version": "^0.17",
            "_view_name": "LeafletAttributionControlView",
            "options": [
              "position",
              "prefix"
            ],
            "position": "bottomright",
            "prefix": "ipyleaflet"
          }
        },
        "1347d27566d84c02918f4e45a3781a04": {
          "model_module": "jupyter-leaflet",
          "model_name": "LeafletDrawControlModel",
          "model_module_version": "^0.17",
          "state": {
            "_model_module": "jupyter-leaflet",
            "_model_module_version": "^0.17",
            "_model_name": "LeafletDrawControlModel",
            "_view_count": null,
            "_view_module": "jupyter-leaflet",
            "_view_module_version": "^0.17",
            "_view_name": "LeafletDrawControlView",
            "circle": {
              "shapeOptions": {
                "color": "#3388ff"
              }
            },
            "circlemarker": {},
            "data": [],
            "edit": true,
            "marker": {
              "shapeOptions": {
                "color": "#3388ff"
              }
            },
            "options": [
              "position"
            ],
            "polygon": {
              "shapeOptions": {}
            },
            "polyline": {
              "shapeOptions": {}
            },
            "position": "topleft",
            "rectangle": {
              "shapeOptions": {
                "color": "#3388ff"
              }
            },
            "remove": true
          }
        },
        "7ace6db827a14a1eb48764b6317df4fc": {
          "model_module": "jupyter-leaflet",
          "model_name": "LeafletWidgetControlModel",
          "model_module_version": "^0.17",
          "state": {
            "_model_module": "jupyter-leaflet",
            "_model_module_version": "^0.17",
            "_model_name": "LeafletWidgetControlModel",
            "_view_count": null,
            "_view_module": "jupyter-leaflet",
            "_view_module_version": "^0.17",
            "_view_name": "LeafletWidgetControlView",
            "max_height": null,
            "max_width": null,
            "min_height": null,
            "min_width": null,
            "options": [
              "position",
              "transparent_bg"
            ],
            "position": "topright",
            "transparent_bg": false,
            "widget": "IPY_MODEL_3141a3d4b80943dc8fded8741ebcdd01"
          }
        },
        "2aba6c5dbd2944e89b99696610be4a85": {
          "model_module": "jupyter-leaflet",
          "model_name": "LeafletMapStyleModel",
          "model_module_version": "^0.17",
          "state": {
            "_model_module": "jupyter-leaflet",
            "_model_module_version": "^0.17",
            "_model_name": "LeafletMapStyleModel",
            "_view_count": null,
            "_view_module": "@jupyter-widgets/base",
            "_view_module_version": "1.2.0",
            "_view_name": "StyleView",
            "cursor": "grab"
          }
        },
        "0f663587665b460cac9143fc294e2ef1": {
          "model_module": "jupyter-leaflet",
          "model_name": "LeafletMapStyleModel",
          "model_module_version": "^0.17",
          "state": {
            "_model_module": "jupyter-leaflet",
            "_model_module_version": "^0.17",
            "_model_name": "LeafletMapStyleModel",
            "_view_count": null,
            "_view_module": "@jupyter-widgets/base",
            "_view_module_version": "1.2.0",
            "_view_name": "StyleView",
            "cursor": "move"
          }
        },
        "7a73e5f32df64a1d906f5bc94674a512": {
          "model_module": "jupyter-leaflet",
          "model_name": "LeafletTileLayerModel",
          "model_module_version": "^0.17",
          "state": {
            "_model_module": "jupyter-leaflet",
            "_model_module_version": "^0.17",
            "_model_name": "LeafletTileLayerModel",
            "_view_count": null,
            "_view_module": "jupyter-leaflet",
            "_view_module_version": "^0.17",
            "_view_name": "LeafletTileLayerView",
            "attribution": "&copy; <a href=\"https://www.openstreetmap.org/copyright\">OpenStreetMap</a> contributors",
            "base": true,
            "bottom": true,
            "bounds": null,
            "detect_retina": false,
            "loading": false,
            "max_native_zoom": null,
            "max_zoom": 19,
            "min_native_zoom": null,
            "min_zoom": 1,
            "name": "OpenStreetMap.Mapnik",
            "no_wrap": false,
            "opacity": 1,
            "options": [
              "attribution",
              "bounds",
              "detect_retina",
              "max_native_zoom",
              "max_zoom",
              "min_native_zoom",
              "min_zoom",
              "no_wrap",
              "tile_size",
              "tms",
              "zoom_offset"
            ],
            "pane": "",
            "popup": null,
            "popup_max_height": null,
            "popup_max_width": 300,
            "popup_min_width": 50,
            "show_loading": false,
            "subitems": [],
            "tile_size": 256,
            "tms": false,
            "url": "https://tile.openstreetmap.org/{z}/{x}/{y}.png",
            "visible": true,
            "zoom_offset": 0
          }
        },
        "ba4b79645a7d47b18e642921d7f84610": {
          "model_module": "jupyter-leaflet",
          "model_name": "LeafletTileLayerModel",
          "model_module_version": "^0.17",
          "state": {
            "_model_module": "jupyter-leaflet",
            "_model_module_version": "^0.17",
            "_model_name": "LeafletTileLayerModel",
            "_view_count": null,
            "_view_module": "jupyter-leaflet",
            "_view_module_version": "^0.17",
            "_view_name": "LeafletTileLayerView",
            "attribution": "Google",
            "base": false,
            "bottom": true,
            "bounds": null,
            "detect_retina": false,
            "loading": false,
            "max_native_zoom": null,
            "max_zoom": 24,
            "min_native_zoom": null,
            "min_zoom": 0,
            "name": "Google Maps",
            "no_wrap": false,
            "opacity": 1,
            "options": [
              "attribution",
              "bounds",
              "detect_retina",
              "max_native_zoom",
              "max_zoom",
              "min_native_zoom",
              "min_zoom",
              "no_wrap",
              "tile_size",
              "tms",
              "zoom_offset"
            ],
            "pane": "",
            "popup": null,
            "popup_max_height": null,
            "popup_max_width": 300,
            "popup_min_width": 50,
            "show_loading": false,
            "subitems": [],
            "tile_size": 256,
            "tms": false,
            "url": "https://mt1.google.com/vt/lyrs=m&x={x}&y={y}&z={z}",
            "visible": true,
            "zoom_offset": 0
          }
        },
        "210941af46fc48b1bd46dfe77dd25af7": {
          "model_module": "jupyter-leaflet",
          "model_name": "LeafletTileLayerModel",
          "model_module_version": "^0.17",
          "state": {
            "_model_module": "jupyter-leaflet",
            "_model_module_version": "^0.17",
            "_model_name": "LeafletTileLayerModel",
            "_view_count": null,
            "_view_module": "jupyter-leaflet",
            "_view_module_version": "^0.17",
            "_view_name": "LeafletTileLayerView",
            "attribution": "Google Earth Engine",
            "base": false,
            "bottom": true,
            "bounds": null,
            "detect_retina": false,
            "loading": false,
            "max_native_zoom": null,
            "max_zoom": 24,
            "min_native_zoom": null,
            "min_zoom": 0,
            "name": "Germany",
            "no_wrap": false,
            "opacity": 1,
            "options": [
              "attribution",
              "bounds",
              "detect_retina",
              "max_native_zoom",
              "max_zoom",
              "min_native_zoom",
              "min_zoom",
              "no_wrap",
              "tile_size",
              "tms",
              "zoom_offset"
            ],
            "pane": "",
            "popup": null,
            "popup_max_height": null,
            "popup_max_width": 300,
            "popup_min_width": 50,
            "show_loading": false,
            "subitems": [],
            "tile_size": 256,
            "tms": false,
            "url": "https://earthengine.googleapis.com/v1alpha/projects/earthengine-legacy/maps/e3a6bddce97e31611a5cf4ed311194e4-f54b96ed4da67a62f4f97b41912442f0/tiles/{z}/{x}/{y}",
            "visible": true,
            "zoom_offset": 0
          }
        },
        "2e35771a3c47451c9a0933531def9b83": {
          "model_module": "@jupyter-widgets/base",
          "model_name": "LayoutModel",
          "model_module_version": "1.2.0",
          "state": {
            "_model_module": "@jupyter-widgets/base",
            "_model_module_version": "1.2.0",
            "_model_name": "LayoutModel",
            "_view_count": null,
            "_view_module": "@jupyter-widgets/base",
            "_view_module_version": "1.2.0",
            "_view_name": "LayoutView",
            "align_content": null,
            "align_items": null,
            "align_self": null,
            "border": null,
            "bottom": null,
            "display": null,
            "flex": null,
            "flex_flow": null,
            "grid_area": null,
            "grid_auto_columns": null,
            "grid_auto_flow": null,
            "grid_auto_rows": null,
            "grid_column": null,
            "grid_gap": null,
            "grid_row": null,
            "grid_template_areas": null,
            "grid_template_columns": null,
            "grid_template_rows": null,
            "height": "600px",
            "justify_content": null,
            "justify_items": null,
            "left": null,
            "margin": null,
            "max_height": null,
            "max_width": null,
            "min_height": null,
            "min_width": null,
            "object_fit": null,
            "object_position": null,
            "order": null,
            "overflow": null,
            "overflow_x": null,
            "overflow_y": null,
            "padding": null,
            "right": null,
            "top": null,
            "visibility": null,
            "width": null
          }
        },
        "b131f131ea6045c2a6c55a493a52ee32": {
          "model_module": "jupyter-leaflet",
          "model_name": "LeafletMapStyleModel",
          "model_module_version": "^0.17",
          "state": {
            "_model_module": "jupyter-leaflet",
            "_model_module_version": "^0.17",
            "_model_name": "LeafletMapStyleModel",
            "_view_count": null,
            "_view_module": "@jupyter-widgets/base",
            "_view_module_version": "1.2.0",
            "_view_name": "StyleView",
            "cursor": "grab"
          }
        },
        "30a0cc33841b4b4c9533ed373dc93fda": {
          "model_module": "@jupyter-widgets/controls",
          "model_name": "HBoxModel",
          "model_module_version": "1.5.0",
          "state": {
            "_dom_classes": [],
            "_model_module": "@jupyter-widgets/controls",
            "_model_module_version": "1.5.0",
            "_model_name": "HBoxModel",
            "_view_count": null,
            "_view_module": "@jupyter-widgets/controls",
            "_view_module_version": "1.5.0",
            "_view_name": "HBoxView",
            "box_style": "",
            "children": [
              "IPY_MODEL_1ff1cdd8a082468789e4c6988d8d4b1f",
              "IPY_MODEL_8f0b7166d2364986b9d1955f875042a9"
            ],
            "layout": "IPY_MODEL_05546d1ec8f84caa83c441afb7863fdc"
          }
        },
        "3141a3d4b80943dc8fded8741ebcdd01": {
          "model_module": "@jupyter-widgets/controls",
          "model_name": "VBoxModel",
          "model_module_version": "1.5.0",
          "state": {
            "_dom_classes": [],
            "_model_module": "@jupyter-widgets/controls",
            "_model_module_version": "1.5.0",
            "_model_name": "VBoxModel",
            "_view_count": null,
            "_view_module": "@jupyter-widgets/controls",
            "_view_module_version": "1.5.0",
            "_view_name": "VBoxView",
            "box_style": "",
            "children": [
              "IPY_MODEL_3f3270ede83643d09adb5d02f80ff1eb"
            ],
            "layout": "IPY_MODEL_2e79a375a5574706accbe47491fa4b2b"
          }
        },
        "1ff1cdd8a082468789e4c6988d8d4b1f": {
          "model_module": "@jupyter-widgets/controls",
          "model_name": "ToggleButtonModel",
          "model_module_version": "1.5.0",
          "state": {
            "_dom_classes": [],
            "_model_module": "@jupyter-widgets/controls",
            "_model_module_version": "1.5.0",
            "_model_name": "ToggleButtonModel",
            "_view_count": null,
            "_view_module": "@jupyter-widgets/controls",
            "_view_module_version": "1.5.0",
            "_view_name": "ToggleButtonView",
            "button_style": "",
            "description": "",
            "description_tooltip": null,
            "disabled": false,
            "icon": "globe",
            "layout": "IPY_MODEL_6775426519ac4f959f100aabd0062f17",
            "style": "IPY_MODEL_e16edbcc882e4b96895f6e9be95be313",
            "tooltip": "Search location/data",
            "value": true
          }
        },
        "05546d1ec8f84caa83c441afb7863fdc": {
          "model_module": "@jupyter-widgets/base",
          "model_name": "LayoutModel",
          "model_module_version": "1.2.0",
          "state": {
            "_model_module": "@jupyter-widgets/base",
            "_model_module_version": "1.2.0",
            "_model_name": "LayoutModel",
            "_view_count": null,
            "_view_module": "@jupyter-widgets/base",
            "_view_module_version": "1.2.0",
            "_view_name": "LayoutView",
            "align_content": null,
            "align_items": null,
            "align_self": null,
            "border": null,
            "bottom": null,
            "display": null,
            "flex": null,
            "flex_flow": null,
            "grid_area": null,
            "grid_auto_columns": null,
            "grid_auto_flow": null,
            "grid_auto_rows": null,
            "grid_column": null,
            "grid_gap": null,
            "grid_row": null,
            "grid_template_areas": null,
            "grid_template_columns": null,
            "grid_template_rows": null,
            "height": null,
            "justify_content": null,
            "justify_items": null,
            "left": null,
            "margin": null,
            "max_height": null,
            "max_width": null,
            "min_height": null,
            "min_width": null,
            "object_fit": null,
            "object_position": null,
            "order": null,
            "overflow": null,
            "overflow_x": null,
            "overflow_y": null,
            "padding": null,
            "right": null,
            "top": null,
            "visibility": null,
            "width": null
          }
        },
        "3f3270ede83643d09adb5d02f80ff1eb": {
          "model_module": "@jupyter-widgets/controls",
          "model_name": "ToggleButtonModel",
          "model_module_version": "1.5.0",
          "state": {
            "_dom_classes": [],
            "_model_module": "@jupyter-widgets/controls",
            "_model_module_version": "1.5.0",
            "_model_name": "ToggleButtonModel",
            "_view_count": null,
            "_view_module": "@jupyter-widgets/controls",
            "_view_module_version": "1.5.0",
            "_view_name": "ToggleButtonView",
            "button_style": "",
            "description": "",
            "description_tooltip": null,
            "disabled": false,
            "icon": "wrench",
            "layout": "IPY_MODEL_5c099314d56c48e4960a3373285d6d98",
            "style": "IPY_MODEL_ed151e1b07144bbf97b393614ced8603",
            "tooltip": "Toolbar",
            "value": false
          }
        },
        "2e79a375a5574706accbe47491fa4b2b": {
          "model_module": "@jupyter-widgets/base",
          "model_name": "LayoutModel",
          "model_module_version": "1.2.0",
          "state": {
            "_model_module": "@jupyter-widgets/base",
            "_model_module_version": "1.2.0",
            "_model_name": "LayoutModel",
            "_view_count": null,
            "_view_module": "@jupyter-widgets/base",
            "_view_module_version": "1.2.0",
            "_view_name": "LayoutView",
            "align_content": null,
            "align_items": null,
            "align_self": null,
            "border": null,
            "bottom": null,
            "display": null,
            "flex": null,
            "flex_flow": null,
            "grid_area": null,
            "grid_auto_columns": null,
            "grid_auto_flow": null,
            "grid_auto_rows": null,
            "grid_column": null,
            "grid_gap": null,
            "grid_row": null,
            "grid_template_areas": null,
            "grid_template_columns": null,
            "grid_template_rows": null,
            "height": null,
            "justify_content": null,
            "justify_items": null,
            "left": null,
            "margin": null,
            "max_height": null,
            "max_width": null,
            "min_height": null,
            "min_width": null,
            "object_fit": null,
            "object_position": null,
            "order": null,
            "overflow": null,
            "overflow_x": null,
            "overflow_y": null,
            "padding": null,
            "right": null,
            "top": null,
            "visibility": null,
            "width": null
          }
        },
        "6775426519ac4f959f100aabd0062f17": {
          "model_module": "@jupyter-widgets/base",
          "model_name": "LayoutModel",
          "model_module_version": "1.2.0",
          "state": {
            "_model_module": "@jupyter-widgets/base",
            "_model_module_version": "1.2.0",
            "_model_name": "LayoutModel",
            "_view_count": null,
            "_view_module": "@jupyter-widgets/base",
            "_view_module_version": "1.2.0",
            "_view_name": "LayoutView",
            "align_content": null,
            "align_items": null,
            "align_self": null,
            "border": null,
            "bottom": null,
            "display": null,
            "flex": null,
            "flex_flow": null,
            "grid_area": null,
            "grid_auto_columns": null,
            "grid_auto_flow": null,
            "grid_auto_rows": null,
            "grid_column": null,
            "grid_gap": null,
            "grid_row": null,
            "grid_template_areas": null,
            "grid_template_columns": null,
            "grid_template_rows": null,
            "height": "28px",
            "justify_content": null,
            "justify_items": null,
            "left": null,
            "margin": null,
            "max_height": null,
            "max_width": null,
            "min_height": null,
            "min_width": null,
            "object_fit": null,
            "object_position": null,
            "order": null,
            "overflow": null,
            "overflow_x": null,
            "overflow_y": null,
            "padding": "0px 0px 0px 4px",
            "right": null,
            "top": null,
            "visibility": null,
            "width": "28px"
          }
        },
        "e16edbcc882e4b96895f6e9be95be313": {
          "model_module": "@jupyter-widgets/controls",
          "model_name": "DescriptionStyleModel",
          "model_module_version": "1.5.0",
          "state": {
            "_model_module": "@jupyter-widgets/controls",
            "_model_module_version": "1.5.0",
            "_model_name": "DescriptionStyleModel",
            "_view_count": null,
            "_view_module": "@jupyter-widgets/base",
            "_view_module_version": "1.2.0",
            "_view_name": "StyleView",
            "description_width": ""
          }
        },
        "5c099314d56c48e4960a3373285d6d98": {
          "model_module": "@jupyter-widgets/base",
          "model_name": "LayoutModel",
          "model_module_version": "1.2.0",
          "state": {
            "_model_module": "@jupyter-widgets/base",
            "_model_module_version": "1.2.0",
            "_model_name": "LayoutModel",
            "_view_count": null,
            "_view_module": "@jupyter-widgets/base",
            "_view_module_version": "1.2.0",
            "_view_name": "LayoutView",
            "align_content": null,
            "align_items": null,
            "align_self": null,
            "border": null,
            "bottom": null,
            "display": null,
            "flex": null,
            "flex_flow": null,
            "grid_area": null,
            "grid_auto_columns": null,
            "grid_auto_flow": null,
            "grid_auto_rows": null,
            "grid_column": null,
            "grid_gap": null,
            "grid_row": null,
            "grid_template_areas": null,
            "grid_template_columns": null,
            "grid_template_rows": null,
            "height": "28px",
            "justify_content": null,
            "justify_items": null,
            "left": null,
            "margin": null,
            "max_height": null,
            "max_width": null,
            "min_height": null,
            "min_width": null,
            "object_fit": null,
            "object_position": null,
            "order": null,
            "overflow": null,
            "overflow_x": null,
            "overflow_y": null,
            "padding": "0px 0px 0px 4px",
            "right": null,
            "top": null,
            "visibility": null,
            "width": "28px"
          }
        },
        "ed151e1b07144bbf97b393614ced8603": {
          "model_module": "@jupyter-widgets/controls",
          "model_name": "DescriptionStyleModel",
          "model_module_version": "1.5.0",
          "state": {
            "_model_module": "@jupyter-widgets/controls",
            "_model_module_version": "1.5.0",
            "_model_name": "DescriptionStyleModel",
            "_view_count": null,
            "_view_module": "@jupyter-widgets/base",
            "_view_module_version": "1.2.0",
            "_view_name": "StyleView",
            "description_width": ""
          }
        },
        "36db039ac9d048ae9d51ef35e5a16798": {
          "model_module": "jupyter-leaflet",
          "model_name": "LeafletTileLayerModel",
          "model_module_version": "^0.17",
          "state": {
            "_model_module": "jupyter-leaflet",
            "_model_module_version": "^0.17",
            "_model_name": "LeafletTileLayerModel",
            "_view_count": null,
            "_view_module": "jupyter-leaflet",
            "_view_module_version": "^0.17",
            "_view_name": "LeafletTileLayerView",
            "attribution": "Google Earth Engine",
            "base": false,
            "bottom": true,
            "bounds": null,
            "detect_retina": false,
            "loading": false,
            "max_native_zoom": null,
            "max_zoom": 24,
            "min_native_zoom": null,
            "min_zoom": 0,
            "name": "Landsat image",
            "no_wrap": false,
            "opacity": 1,
            "options": [
              "attribution",
              "bounds",
              "detect_retina",
              "max_native_zoom",
              "max_zoom",
              "min_native_zoom",
              "min_zoom",
              "no_wrap",
              "tile_size",
              "tms",
              "zoom_offset"
            ],
            "pane": "",
            "popup": null,
            "popup_max_height": null,
            "popup_max_width": 300,
            "popup_min_width": 50,
            "show_loading": false,
            "subitems": [],
            "tile_size": 256,
            "tms": false,
            "url": "https://earthengine.googleapis.com/v1alpha/projects/earthengine-legacy/maps/800abf9a4af58077bf2bb443f91906f9-bd02651295f3374cf24bb7000dc3f977/tiles/{z}/{x}/{y}",
            "visible": true,
            "zoom_offset": 0
          }
        },
        "9e28e6aaf9014aa993832416c48d3ad8": {
          "model_module": "jupyter-leaflet",
          "model_name": "LeafletTileLayerModel",
          "model_module_version": "^0.17",
          "state": {
            "_model_module": "jupyter-leaflet",
            "_model_module_version": "^0.17",
            "_model_name": "LeafletTileLayerModel",
            "_view_count": null,
            "_view_module": "jupyter-leaflet",
            "_view_module_version": "^0.17",
            "_view_name": "LeafletTileLayerView",
            "attribution": "Google Earth Engine",
            "base": false,
            "bottom": true,
            "bounds": null,
            "detect_retina": false,
            "loading": false,
            "max_native_zoom": null,
            "max_zoom": 24,
            "min_native_zoom": null,
            "min_zoom": 0,
            "name": "Santa Cruz Mountains ecoregion",
            "no_wrap": false,
            "opacity": 1,
            "options": [
              "attribution",
              "bounds",
              "detect_retina",
              "max_native_zoom",
              "max_zoom",
              "min_native_zoom",
              "min_zoom",
              "no_wrap",
              "tile_size",
              "tms",
              "zoom_offset"
            ],
            "pane": "",
            "popup": null,
            "popup_max_height": null,
            "popup_max_width": 300,
            "popup_min_width": 50,
            "show_loading": false,
            "subitems": [],
            "tile_size": 256,
            "tms": false,
            "url": "https://earthengine.googleapis.com/v1alpha/projects/earthengine-legacy/maps/5aa9c4598de9b2c1f6544c0cbd19d28d-a44827089c6ed130d8091d99b70e7a75/tiles/{z}/{x}/{y}",
            "visible": true,
            "zoom_offset": 0
          }
        },
        "8f0b7166d2364986b9d1955f875042a9": {
          "model_module": "@jupyter-widgets/controls",
          "model_name": "VBoxModel",
          "model_module_version": "1.5.0",
          "state": {
            "_dom_classes": [],
            "_model_module": "@jupyter-widgets/controls",
            "_model_module_version": "1.5.0",
            "_model_name": "VBoxModel",
            "_view_count": null,
            "_view_module": "@jupyter-widgets/controls",
            "_view_module_version": "1.5.0",
            "_view_name": "VBoxView",
            "box_style": "",
            "children": [
              "IPY_MODEL_1efcfc2e051e42d992850098aea2dbf4",
              "IPY_MODEL_99f33f383ee2436297a71c1a1a90c020",
              "IPY_MODEL_b1bb228ecb0d4a5d8c9c22796dde0165",
              "IPY_MODEL_ce6dca76e38d41c397567ee18b203175"
            ],
            "layout": "IPY_MODEL_44c23be1b39d4d5d95d8e7df952b2776"
          }
        },
        "1efcfc2e051e42d992850098aea2dbf4": {
          "model_module": "@jupyter-widgets/controls",
          "model_name": "ToggleButtonsModel",
          "model_module_version": "1.5.0",
          "state": {
            "_dom_classes": [],
            "_model_module": "@jupyter-widgets/controls",
            "_model_module_version": "1.5.0",
            "_model_name": "ToggleButtonsModel",
            "_options_labels": [
              "name/address",
              "lat-lon",
              "data"
            ],
            "_view_count": null,
            "_view_module": "@jupyter-widgets/controls",
            "_view_module_version": "1.5.0",
            "_view_name": "ToggleButtonsView",
            "button_style": "",
            "description": "",
            "description_tooltip": null,
            "disabled": false,
            "icons": [],
            "index": 2,
            "layout": "IPY_MODEL_0c0d5e8842f64d9aae34531a884f907c",
            "style": "IPY_MODEL_6dc23141b3434220b6b0b39b8c62f8e7",
            "tooltips": [
              "Search by place name or address",
              "Search by lat-lon coordinates",
              "Search Earth Engine data catalog"
            ]
          }
        },
        "99f33f383ee2436297a71c1a1a90c020": {
          "model_module": "@jupyter-widgets/controls",
          "model_name": "TextModel",
          "model_module_version": "1.5.0",
          "state": {
            "_dom_classes": [],
            "_model_module": "@jupyter-widgets/controls",
            "_model_module_version": "1.5.0",
            "_model_name": "TextModel",
            "_view_count": null,
            "_view_module": "@jupyter-widgets/controls",
            "_view_module_version": "1.5.0",
            "_view_name": "TextView",
            "continuous_update": true,
            "description": "",
            "description_tooltip": null,
            "disabled": false,
            "layout": "IPY_MODEL_96c2679a8c19467d87611db87684b0b0",
            "placeholder": "Search GEE data catalog by keywords, e.g., elevation",
            "style": "IPY_MODEL_e0b66ce78e0d4dec98860905baf7ec8a",
            "value": "UMD/hansen/global_forest_change_2021_v1_9"
          }
        },
        "44c23be1b39d4d5d95d8e7df952b2776": {
          "model_module": "@jupyter-widgets/base",
          "model_name": "LayoutModel",
          "model_module_version": "1.2.0",
          "state": {
            "_model_module": "@jupyter-widgets/base",
            "_model_module_version": "1.2.0",
            "_model_name": "LayoutModel",
            "_view_count": null,
            "_view_module": "@jupyter-widgets/base",
            "_view_module_version": "1.2.0",
            "_view_name": "LayoutView",
            "align_content": null,
            "align_items": null,
            "align_self": null,
            "border": null,
            "bottom": null,
            "display": null,
            "flex": null,
            "flex_flow": null,
            "grid_area": null,
            "grid_auto_columns": null,
            "grid_auto_flow": null,
            "grid_auto_rows": null,
            "grid_column": null,
            "grid_gap": null,
            "grid_row": null,
            "grid_template_areas": null,
            "grid_template_columns": null,
            "grid_template_rows": null,
            "height": null,
            "justify_content": null,
            "justify_items": null,
            "left": null,
            "margin": null,
            "max_height": null,
            "max_width": null,
            "min_height": null,
            "min_width": null,
            "object_fit": null,
            "object_position": null,
            "order": null,
            "overflow": null,
            "overflow_x": null,
            "overflow_y": null,
            "padding": null,
            "right": null,
            "top": null,
            "visibility": null,
            "width": null
          }
        },
        "0c0d5e8842f64d9aae34531a884f907c": {
          "model_module": "@jupyter-widgets/base",
          "model_name": "LayoutModel",
          "model_module_version": "1.2.0",
          "state": {
            "_model_module": "@jupyter-widgets/base",
            "_model_module_version": "1.2.0",
            "_model_name": "LayoutModel",
            "_view_count": null,
            "_view_module": "@jupyter-widgets/base",
            "_view_module_version": "1.2.0",
            "_view_name": "LayoutView",
            "align_content": null,
            "align_items": null,
            "align_self": null,
            "border": null,
            "bottom": null,
            "display": null,
            "flex": null,
            "flex_flow": null,
            "grid_area": null,
            "grid_auto_columns": null,
            "grid_auto_flow": null,
            "grid_auto_rows": null,
            "grid_column": null,
            "grid_gap": null,
            "grid_row": null,
            "grid_template_areas": null,
            "grid_template_columns": null,
            "grid_template_rows": null,
            "height": null,
            "justify_content": null,
            "justify_items": null,
            "left": null,
            "margin": null,
            "max_height": null,
            "max_width": null,
            "min_height": null,
            "min_width": null,
            "object_fit": null,
            "object_position": null,
            "order": null,
            "overflow": null,
            "overflow_x": null,
            "overflow_y": null,
            "padding": null,
            "right": null,
            "top": null,
            "visibility": null,
            "width": null
          }
        },
        "6dc23141b3434220b6b0b39b8c62f8e7": {
          "model_module": "@jupyter-widgets/controls",
          "model_name": "ToggleButtonsStyleModel",
          "model_module_version": "1.5.0",
          "state": {
            "_model_module": "@jupyter-widgets/controls",
            "_model_module_version": "1.5.0",
            "_model_name": "ToggleButtonsStyleModel",
            "_view_count": null,
            "_view_module": "@jupyter-widgets/base",
            "_view_module_version": "1.2.0",
            "_view_name": "StyleView",
            "button_width": "110px",
            "description_width": "",
            "font_weight": ""
          }
        },
        "96c2679a8c19467d87611db87684b0b0": {
          "model_module": "@jupyter-widgets/base",
          "model_name": "LayoutModel",
          "model_module_version": "1.2.0",
          "state": {
            "_model_module": "@jupyter-widgets/base",
            "_model_module_version": "1.2.0",
            "_model_name": "LayoutModel",
            "_view_count": null,
            "_view_module": "@jupyter-widgets/base",
            "_view_module_version": "1.2.0",
            "_view_name": "LayoutView",
            "align_content": null,
            "align_items": null,
            "align_self": null,
            "border": null,
            "bottom": null,
            "display": null,
            "flex": null,
            "flex_flow": null,
            "grid_area": null,
            "grid_auto_columns": null,
            "grid_auto_flow": null,
            "grid_auto_rows": null,
            "grid_column": null,
            "grid_gap": null,
            "grid_row": null,
            "grid_template_areas": null,
            "grid_template_columns": null,
            "grid_template_rows": null,
            "height": null,
            "justify_content": null,
            "justify_items": null,
            "left": null,
            "margin": null,
            "max_height": null,
            "max_width": null,
            "min_height": null,
            "min_width": null,
            "object_fit": null,
            "object_position": null,
            "order": null,
            "overflow": null,
            "overflow_x": null,
            "overflow_y": null,
            "padding": null,
            "right": null,
            "top": null,
            "visibility": null,
            "width": "340px"
          }
        },
        "e0b66ce78e0d4dec98860905baf7ec8a": {
          "model_module": "@jupyter-widgets/controls",
          "model_name": "DescriptionStyleModel",
          "model_module_version": "1.5.0",
          "state": {
            "_model_module": "@jupyter-widgets/controls",
            "_model_module_version": "1.5.0",
            "_model_name": "DescriptionStyleModel",
            "_view_count": null,
            "_view_module": "@jupyter-widgets/base",
            "_view_module_version": "1.2.0",
            "_view_name": "StyleView",
            "description_width": ""
          }
        },
        "b1bb228ecb0d4a5d8c9c22796dde0165": {
          "model_module": "@jupyter-widgets/controls",
          "model_name": "HBoxModel",
          "model_module_version": "1.5.0",
          "state": {
            "_dom_classes": [],
            "_model_module": "@jupyter-widgets/controls",
            "_model_module_version": "1.5.0",
            "_model_name": "HBoxModel",
            "_view_count": null,
            "_view_module": "@jupyter-widgets/controls",
            "_view_module_version": "1.5.0",
            "_view_name": "HBoxView",
            "box_style": "",
            "children": [
              "IPY_MODEL_0e2c79a40c6041d9bda1b0280450edb4",
              "IPY_MODEL_a8bd6798f2b246cf80fbb7f54de29246"
            ],
            "layout": "IPY_MODEL_2e26d731b7f54f849f24b7ed38cdbc8d"
          }
        },
        "ce6dca76e38d41c397567ee18b203175": {
          "model_module": "@jupyter-widgets/output",
          "model_name": "OutputModel",
          "model_module_version": "1.0.0",
          "state": {
            "_dom_classes": [],
            "_model_module": "@jupyter-widgets/output",
            "_model_module_version": "1.0.0",
            "_model_name": "OutputModel",
            "_view_count": null,
            "_view_module": "@jupyter-widgets/output",
            "_view_module_version": "1.0.0",
            "_view_name": "OutputView",
            "layout": "IPY_MODEL_bd67aabc57af478b95788277b8abb80e",
            "msg_id": "",
            "outputs": [
              {
                "output_type": "display_data",
                "data": {
                  "text/plain": "HTML(value='\\n            <html>\\n            <body>\\n                <h3>Hansen Global Forest Change v1.9 (20…",
                  "application/vnd.jupyter.widget-view+json": {
                    "version_major": 2,
                    "version_minor": 0,
                    "model_id": "18eb412910164f5b98a6336a61ae59c4"
                  }
                },
                "metadata": {
                  "application/vnd.jupyter.widget-view+json": {
                    "colab": {
                      "custom_widget_manager": {
                        "url": "https://ssl.gstatic.com/colaboratory-static/widgets/colab-cdn-widget-manager/b3e629b1971e1542/manager.min.js"
                      }
                    }
                  }
                }
              }
            ]
          }
        },
        "0e2c79a40c6041d9bda1b0280450edb4": {
          "model_module": "@jupyter-widgets/controls",
          "model_name": "ButtonModel",
          "model_module_version": "1.5.0",
          "state": {
            "_dom_classes": [],
            "_model_module": "@jupyter-widgets/controls",
            "_model_module_version": "1.5.0",
            "_model_name": "ButtonModel",
            "_view_count": null,
            "_view_module": "@jupyter-widgets/controls",
            "_view_module_version": "1.5.0",
            "_view_name": "ButtonView",
            "button_style": "primary",
            "description": "import",
            "disabled": false,
            "icon": "",
            "layout": "IPY_MODEL_1f5b47d0322642969221ae4e4695aeab",
            "style": "IPY_MODEL_5a3bcdaa6c8a4336a6e152485e4516c0",
            "tooltip": "Click to import the selected asset"
          }
        },
        "a8bd6798f2b246cf80fbb7f54de29246": {
          "model_module": "@jupyter-widgets/controls",
          "model_name": "DropdownModel",
          "model_module_version": "1.5.0",
          "state": {
            "_dom_classes": [],
            "_model_module": "@jupyter-widgets/controls",
            "_model_module_version": "1.5.0",
            "_model_name": "DropdownModel",
            "_options_labels": [
              "Hansen Global Forest Change v1.9 (2000-2021) [deprecated]"
            ],
            "_view_count": null,
            "_view_module": "@jupyter-widgets/controls",
            "_view_module_version": "1.5.0",
            "_view_name": "DropdownView",
            "description": "",
            "description_tooltip": null,
            "disabled": false,
            "index": 0,
            "layout": "IPY_MODEL_103a6cca13ba43a6863ab490e0b36190",
            "style": "IPY_MODEL_502e31d362474ffdb82cfcb2eccc04fc"
          }
        },
        "2e26d731b7f54f849f24b7ed38cdbc8d": {
          "model_module": "@jupyter-widgets/base",
          "model_name": "LayoutModel",
          "model_module_version": "1.2.0",
          "state": {
            "_model_module": "@jupyter-widgets/base",
            "_model_module_version": "1.2.0",
            "_model_name": "LayoutModel",
            "_view_count": null,
            "_view_module": "@jupyter-widgets/base",
            "_view_module_version": "1.2.0",
            "_view_name": "LayoutView",
            "align_content": null,
            "align_items": null,
            "align_self": null,
            "border": null,
            "bottom": null,
            "display": null,
            "flex": null,
            "flex_flow": null,
            "grid_area": null,
            "grid_auto_columns": null,
            "grid_auto_flow": null,
            "grid_auto_rows": null,
            "grid_column": null,
            "grid_gap": null,
            "grid_row": null,
            "grid_template_areas": null,
            "grid_template_columns": null,
            "grid_template_rows": null,
            "height": null,
            "justify_content": null,
            "justify_items": null,
            "left": null,
            "margin": null,
            "max_height": null,
            "max_width": null,
            "min_height": null,
            "min_width": null,
            "object_fit": null,
            "object_position": null,
            "order": null,
            "overflow": null,
            "overflow_x": null,
            "overflow_y": null,
            "padding": null,
            "right": null,
            "top": null,
            "visibility": null,
            "width": null
          }
        },
        "bd67aabc57af478b95788277b8abb80e": {
          "model_module": "@jupyter-widgets/base",
          "model_name": "LayoutModel",
          "model_module_version": "1.2.0",
          "state": {
            "_model_module": "@jupyter-widgets/base",
            "_model_module_version": "1.2.0",
            "_model_name": "LayoutModel",
            "_view_count": null,
            "_view_module": "@jupyter-widgets/base",
            "_view_module_version": "1.2.0",
            "_view_name": "LayoutView",
            "align_content": null,
            "align_items": null,
            "align_self": null,
            "border": null,
            "bottom": null,
            "display": null,
            "flex": null,
            "flex_flow": null,
            "grid_area": null,
            "grid_auto_columns": null,
            "grid_auto_flow": null,
            "grid_auto_rows": null,
            "grid_column": null,
            "grid_gap": null,
            "grid_row": null,
            "grid_template_areas": null,
            "grid_template_columns": null,
            "grid_template_rows": null,
            "height": null,
            "justify_content": null,
            "justify_items": null,
            "left": null,
            "margin": null,
            "max_height": "350px",
            "max_width": "340px",
            "min_height": null,
            "min_width": null,
            "object_fit": null,
            "object_position": null,
            "order": null,
            "overflow": "scroll",
            "overflow_x": null,
            "overflow_y": null,
            "padding": null,
            "right": null,
            "top": null,
            "visibility": null,
            "width": null
          }
        },
        "1f5b47d0322642969221ae4e4695aeab": {
          "model_module": "@jupyter-widgets/base",
          "model_name": "LayoutModel",
          "model_module_version": "1.2.0",
          "state": {
            "_model_module": "@jupyter-widgets/base",
            "_model_module_version": "1.2.0",
            "_model_name": "LayoutModel",
            "_view_count": null,
            "_view_module": "@jupyter-widgets/base",
            "_view_module_version": "1.2.0",
            "_view_name": "LayoutView",
            "align_content": null,
            "align_items": null,
            "align_self": null,
            "border": null,
            "bottom": null,
            "display": null,
            "flex": null,
            "flex_flow": null,
            "grid_area": null,
            "grid_auto_columns": null,
            "grid_auto_flow": null,
            "grid_auto_rows": null,
            "grid_column": null,
            "grid_gap": null,
            "grid_row": null,
            "grid_template_areas": null,
            "grid_template_columns": null,
            "grid_template_rows": null,
            "height": null,
            "justify_content": null,
            "justify_items": null,
            "left": null,
            "margin": null,
            "max_height": null,
            "max_width": "57px",
            "min_height": null,
            "min_width": "57px",
            "object_fit": null,
            "object_position": null,
            "order": null,
            "overflow": null,
            "overflow_x": null,
            "overflow_y": null,
            "padding": null,
            "right": null,
            "top": null,
            "visibility": null,
            "width": null
          }
        },
        "5a3bcdaa6c8a4336a6e152485e4516c0": {
          "model_module": "@jupyter-widgets/controls",
          "model_name": "ButtonStyleModel",
          "model_module_version": "1.5.0",
          "state": {
            "_model_module": "@jupyter-widgets/controls",
            "_model_module_version": "1.5.0",
            "_model_name": "ButtonStyleModel",
            "_view_count": null,
            "_view_module": "@jupyter-widgets/base",
            "_view_module_version": "1.2.0",
            "_view_name": "StyleView",
            "button_color": null,
            "font_weight": ""
          }
        },
        "103a6cca13ba43a6863ab490e0b36190": {
          "model_module": "@jupyter-widgets/base",
          "model_name": "LayoutModel",
          "model_module_version": "1.2.0",
          "state": {
            "_model_module": "@jupyter-widgets/base",
            "_model_module_version": "1.2.0",
            "_model_name": "LayoutModel",
            "_view_count": null,
            "_view_module": "@jupyter-widgets/base",
            "_view_module_version": "1.2.0",
            "_view_name": "LayoutView",
            "align_content": null,
            "align_items": null,
            "align_self": null,
            "border": null,
            "bottom": null,
            "display": null,
            "flex": null,
            "flex_flow": null,
            "grid_area": null,
            "grid_auto_columns": null,
            "grid_auto_flow": null,
            "grid_auto_rows": null,
            "grid_column": null,
            "grid_gap": null,
            "grid_row": null,
            "grid_template_areas": null,
            "grid_template_columns": null,
            "grid_template_rows": null,
            "height": null,
            "justify_content": null,
            "justify_items": null,
            "left": null,
            "margin": null,
            "max_height": null,
            "max_width": "279px",
            "min_height": null,
            "min_width": "279px",
            "object_fit": null,
            "object_position": null,
            "order": null,
            "overflow": null,
            "overflow_x": null,
            "overflow_y": null,
            "padding": null,
            "right": null,
            "top": null,
            "visibility": null,
            "width": null
          }
        },
        "502e31d362474ffdb82cfcb2eccc04fc": {
          "model_module": "@jupyter-widgets/controls",
          "model_name": "DescriptionStyleModel",
          "model_module_version": "1.5.0",
          "state": {
            "_model_module": "@jupyter-widgets/controls",
            "_model_module_version": "1.5.0",
            "_model_name": "DescriptionStyleModel",
            "_view_count": null,
            "_view_module": "@jupyter-widgets/base",
            "_view_module_version": "1.2.0",
            "_view_name": "StyleView",
            "description_width": ""
          }
        },
        "1aedbffde03f440fbd446b5c92447315": {
          "model_module": "jupyter-leaflet",
          "model_name": "LeafletMapStyleModel",
          "model_module_version": "^0.17",
          "state": {
            "_model_module": "jupyter-leaflet",
            "_model_module_version": "^0.17",
            "_model_name": "LeafletMapStyleModel",
            "_view_count": null,
            "_view_module": "@jupyter-widgets/base",
            "_view_module_version": "1.2.0",
            "_view_name": "StyleView",
            "cursor": "wait"
          }
        },
        "18eb412910164f5b98a6336a61ae59c4": {
          "model_module": "@jupyter-widgets/controls",
          "model_name": "HTMLModel",
          "model_module_version": "1.5.0",
          "state": {
            "_dom_classes": [],
            "_model_module": "@jupyter-widgets/controls",
            "_model_module_version": "1.5.0",
            "_model_name": "HTMLModel",
            "_view_count": null,
            "_view_module": "@jupyter-widgets/controls",
            "_view_module_version": "1.5.0",
            "_view_name": "HTMLView",
            "description": "",
            "description_tooltip": null,
            "layout": "IPY_MODEL_1e50d63c96a946888a01f07e8281da3d",
            "placeholder": "​",
            "style": "IPY_MODEL_17ef6c8a689b473a85674594f1d55faa",
            "value": "\n            <html>\n            <body>\n                <h3>Hansen Global Forest Change v1.9 (2000-2021) [deprecated]</h3>\n                <h4>Dataset Availability</h4>\n                    <p style=\"margin-left: 40px\">2000-01-01 - 2021-01-01</p>\n                <h4>Earth Engine Snippet</h4>\n                    <p style=\"margin-left: 40px\">ee.Image('UMD/hansen/global_forest_change_2021_v1_9')</p>\n                \n                    <h4>Data Catalog</h4>\n                        <p style=\"margin-left: 40px\"><a href=\"https://developers.google.com/earth-engine/datasets/catalog/UMD_hansen_global_forest_change_2021_v1_9#description\" target=\"_blank\">Description</a></p>\n                        <p style=\"margin-left: 40px\"><a href=\"https://developers.google.com/earth-engine/datasets/catalog/UMD_hansen_global_forest_change_2021_v1_9#bands\" target=\"_blank\">Bands</a></p>\n                        <p style=\"margin-left: 40px\"><a href=\"https://developers.google.com/earth-engine/datasets/catalog/UMD_hansen_global_forest_change_2021_v1_9#image-properties\" target=\"_blank\">Properties</a></p>\n                        <p style=\"margin-left: 40px\"><a href=\"https://code.earthengine.google.com/?scriptPath=Examples%3ADatasets%2FUMD_hansen_global_forest_change_2021_v1_9\" target=\"_blank\">Example</a></p>\n                    \n                \n                \n                    <h4>Dataset Thumbnail</h4>\n                    <img src=\"https://developers.google.com/earth-engine/datasets/images/UMD/UMD_hansen_global_forest_change_2021_v1_9_sample.png\">  \n                    \n            </body>\n            </html>\n        "
          }
        },
        "6cbc4d2083c64fafbd5b564b3141e008": {
          "model_module": "jupyter-leaflet",
          "model_name": "LeafletMapStyleModel",
          "model_module_version": "^0.17",
          "state": {
            "_model_module": "jupyter-leaflet",
            "_model_module_version": "^0.17",
            "_model_name": "LeafletMapStyleModel",
            "_view_count": null,
            "_view_module": "@jupyter-widgets/base",
            "_view_module_version": "1.2.0",
            "_view_name": "StyleView",
            "cursor": "default"
          }
        },
        "1e50d63c96a946888a01f07e8281da3d": {
          "model_module": "@jupyter-widgets/base",
          "model_name": "LayoutModel",
          "model_module_version": "1.2.0",
          "state": {
            "_model_module": "@jupyter-widgets/base",
            "_model_module_version": "1.2.0",
            "_model_name": "LayoutModel",
            "_view_count": null,
            "_view_module": "@jupyter-widgets/base",
            "_view_module_version": "1.2.0",
            "_view_name": "LayoutView",
            "align_content": null,
            "align_items": null,
            "align_self": null,
            "border": null,
            "bottom": null,
            "display": null,
            "flex": null,
            "flex_flow": null,
            "grid_area": null,
            "grid_auto_columns": null,
            "grid_auto_flow": null,
            "grid_auto_rows": null,
            "grid_column": null,
            "grid_gap": null,
            "grid_row": null,
            "grid_template_areas": null,
            "grid_template_columns": null,
            "grid_template_rows": null,
            "height": null,
            "justify_content": null,
            "justify_items": null,
            "left": null,
            "margin": null,
            "max_height": null,
            "max_width": null,
            "min_height": null,
            "min_width": null,
            "object_fit": null,
            "object_position": null,
            "order": null,
            "overflow": null,
            "overflow_x": null,
            "overflow_y": null,
            "padding": null,
            "right": null,
            "top": null,
            "visibility": null,
            "width": null
          }
        },
        "17ef6c8a689b473a85674594f1d55faa": {
          "model_module": "@jupyter-widgets/controls",
          "model_name": "DescriptionStyleModel",
          "model_module_version": "1.5.0",
          "state": {
            "_model_module": "@jupyter-widgets/controls",
            "_model_module_version": "1.5.0",
            "_model_name": "DescriptionStyleModel",
            "_view_count": null,
            "_view_module": "@jupyter-widgets/base",
            "_view_module_version": "1.2.0",
            "_view_name": "StyleView",
            "description_width": ""
          }
        },
        "f8dee0780e16469aabcceafd0085fad5": {
          "model_module": "jupyter-leaflet",
          "model_name": "LeafletTileLayerModel",
          "model_module_version": "^0.17",
          "state": {
            "_model_module": "jupyter-leaflet",
            "_model_module_version": "^0.17",
            "_model_name": "LeafletTileLayerModel",
            "_view_count": null,
            "_view_module": "jupyter-leaflet",
            "_view_module_version": "^0.17",
            "_view_name": "LeafletTileLayerView",
            "attribution": "Google Earth Engine",
            "base": false,
            "bottom": true,
            "bounds": null,
            "detect_retina": false,
            "loading": false,
            "max_native_zoom": null,
            "max_zoom": 24,
            "min_native_zoom": null,
            "min_zoom": 0,
            "name": "Landsat image",
            "no_wrap": false,
            "opacity": 1,
            "options": [
              "attribution",
              "bounds",
              "detect_retina",
              "max_native_zoom",
              "max_zoom",
              "min_native_zoom",
              "min_zoom",
              "no_wrap",
              "tile_size",
              "tms",
              "zoom_offset"
            ],
            "pane": "",
            "popup": null,
            "popup_max_height": null,
            "popup_max_width": 300,
            "popup_min_width": 50,
            "show_loading": false,
            "subitems": [],
            "tile_size": 256,
            "tms": false,
            "url": "https://earthengine.googleapis.com/v1alpha/projects/earthengine-legacy/maps/d55e13f081418599b5ca7618e55522d2-de0e20cb184cbf310d4f929585ca8969/tiles/{z}/{x}/{y}",
            "visible": true,
            "zoom_offset": 0
          }
        },
        "1cdb8cd07bc54aa68ea662a8e7156041": {
          "model_module": "jupyter-leaflet",
          "model_name": "LeafletTileLayerModel",
          "model_module_version": "^0.17",
          "state": {
            "_model_module": "jupyter-leaflet",
            "_model_module_version": "^0.17",
            "_model_name": "LeafletTileLayerModel",
            "_view_count": null,
            "_view_module": "jupyter-leaflet",
            "_view_module_version": "^0.17",
            "_view_name": "LeafletTileLayerView",
            "attribution": "Google Earth Engine",
            "base": false,
            "bottom": true,
            "bounds": null,
            "detect_retina": false,
            "loading": false,
            "max_native_zoom": null,
            "max_zoom": 24,
            "min_native_zoom": null,
            "min_zoom": 0,
            "name": "Santa Cruz Mountains ecoregion",
            "no_wrap": false,
            "opacity": 1,
            "options": [
              "attribution",
              "bounds",
              "detect_retina",
              "max_native_zoom",
              "max_zoom",
              "min_native_zoom",
              "min_zoom",
              "no_wrap",
              "tile_size",
              "tms",
              "zoom_offset"
            ],
            "pane": "",
            "popup": null,
            "popup_max_height": null,
            "popup_max_width": 300,
            "popup_min_width": 50,
            "show_loading": false,
            "subitems": [],
            "tile_size": 256,
            "tms": false,
            "url": "https://earthengine.googleapis.com/v1alpha/projects/earthengine-legacy/maps/cf5eace12ad77f07f971960e535212a2-b96a3b5371024b4e967b50eda6f9715e/tiles/{z}/{x}/{y}",
            "visible": true,
            "zoom_offset": 0
          }
        },
        "8e0beebbd0c4400c8c7f88d168cbd4f5": {
          "model_module": "jupyter-leaflet",
          "model_name": "LeafletTileLayerModel",
          "model_module_version": "^0.17",
          "state": {
            "_model_module": "jupyter-leaflet",
            "_model_module_version": "^0.17",
            "_model_name": "LeafletTileLayerModel",
            "_view_count": null,
            "_view_module": "jupyter-leaflet",
            "_view_module_version": "^0.17",
            "_view_name": "LeafletTileLayerView",
            "attribution": "Google Earth Engine",
            "base": false,
            "bottom": true,
            "bounds": null,
            "detect_retina": false,
            "loading": false,
            "max_native_zoom": null,
            "max_zoom": 24,
            "min_native_zoom": null,
            "min_zoom": 0,
            "name": "Landsat image",
            "no_wrap": false,
            "opacity": 1,
            "options": [
              "attribution",
              "bounds",
              "detect_retina",
              "max_native_zoom",
              "max_zoom",
              "min_native_zoom",
              "min_zoom",
              "no_wrap",
              "tile_size",
              "tms",
              "zoom_offset"
            ],
            "pane": "",
            "popup": null,
            "popup_max_height": null,
            "popup_max_width": 300,
            "popup_min_width": 50,
            "show_loading": false,
            "subitems": [],
            "tile_size": 256,
            "tms": false,
            "url": "https://earthengine.googleapis.com/v1alpha/projects/earthengine-legacy/maps/d55e13f081418599b5ca7618e55522d2-e2668468fa01228fb387394b8cc39ca8/tiles/{z}/{x}/{y}",
            "visible": true,
            "zoom_offset": 0
          }
        },
        "6dd3010838fd4f4c9a9fc876bb45e84b": {
          "model_module": "jupyter-leaflet",
          "model_name": "LeafletTileLayerModel",
          "model_module_version": "^0.17",
          "state": {
            "_model_module": "jupyter-leaflet",
            "_model_module_version": "^0.17",
            "_model_name": "LeafletTileLayerModel",
            "_view_count": null,
            "_view_module": "jupyter-leaflet",
            "_view_module_version": "^0.17",
            "_view_name": "LeafletTileLayerView",
            "attribution": "Google Earth Engine",
            "base": false,
            "bottom": true,
            "bounds": null,
            "detect_retina": false,
            "loading": false,
            "max_native_zoom": null,
            "max_zoom": 24,
            "min_native_zoom": null,
            "min_zoom": 0,
            "name": "Santa Cruz Mountains ecoregion",
            "no_wrap": false,
            "opacity": 1,
            "options": [
              "attribution",
              "bounds",
              "detect_retina",
              "max_native_zoom",
              "max_zoom",
              "min_native_zoom",
              "min_zoom",
              "no_wrap",
              "tile_size",
              "tms",
              "zoom_offset"
            ],
            "pane": "",
            "popup": null,
            "popup_max_height": null,
            "popup_max_width": 300,
            "popup_min_width": 50,
            "show_loading": false,
            "subitems": [],
            "tile_size": 256,
            "tms": false,
            "url": "https://earthengine.googleapis.com/v1alpha/projects/earthengine-legacy/maps/457df3a18e4596fe9971d9db998c210f-960f3898fb6a6cbb8aa1bd01c1b77ca8/tiles/{z}/{x}/{y}",
            "visible": true,
            "zoom_offset": 0
          }
        },
        "ffe35ea210b54a33aded826921b3336c": {
          "model_module": "jupyter-leaflet",
          "model_name": "LeafletTileLayerModel",
          "model_module_version": "^0.17",
          "state": {
            "_model_module": "jupyter-leaflet",
            "_model_module_version": "^0.17",
            "_model_name": "LeafletTileLayerModel",
            "_view_count": null,
            "_view_module": "jupyter-leaflet",
            "_view_module_version": "^0.17",
            "_view_name": "LeafletTileLayerView",
            "attribution": "Google Earth Engine",
            "base": false,
            "bottom": true,
            "bounds": null,
            "detect_retina": false,
            "loading": false,
            "max_native_zoom": null,
            "max_zoom": 24,
            "min_native_zoom": null,
            "min_zoom": 0,
            "name": "Landsat image",
            "no_wrap": false,
            "opacity": 1,
            "options": [
              "attribution",
              "bounds",
              "detect_retina",
              "max_native_zoom",
              "max_zoom",
              "min_native_zoom",
              "min_zoom",
              "no_wrap",
              "tile_size",
              "tms",
              "zoom_offset"
            ],
            "pane": "",
            "popup": null,
            "popup_max_height": null,
            "popup_max_width": 300,
            "popup_min_width": 50,
            "show_loading": false,
            "subitems": [],
            "tile_size": 256,
            "tms": false,
            "url": "https://earthengine.googleapis.com/v1alpha/projects/earthengine-legacy/maps/d55e13f081418599b5ca7618e55522d2-1676aa9a0b76a2728d17fab41902331d/tiles/{z}/{x}/{y}",
            "visible": true,
            "zoom_offset": 0
          }
        },
        "5b64d7c0c1b6498f813ecbfcc7992b41": {
          "model_module": "jupyter-leaflet",
          "model_name": "LeafletTileLayerModel",
          "model_module_version": "^0.17",
          "state": {
            "_model_module": "jupyter-leaflet",
            "_model_module_version": "^0.17",
            "_model_name": "LeafletTileLayerModel",
            "_view_count": null,
            "_view_module": "jupyter-leaflet",
            "_view_module_version": "^0.17",
            "_view_name": "LeafletTileLayerView",
            "attribution": "Google Earth Engine",
            "base": false,
            "bottom": true,
            "bounds": null,
            "detect_retina": false,
            "loading": false,
            "max_native_zoom": null,
            "max_zoom": 24,
            "min_native_zoom": null,
            "min_zoom": 0,
            "name": "Santa Cruz Mountains ecoregion",
            "no_wrap": false,
            "opacity": 1,
            "options": [
              "attribution",
              "bounds",
              "detect_retina",
              "max_native_zoom",
              "max_zoom",
              "min_native_zoom",
              "min_zoom",
              "no_wrap",
              "tile_size",
              "tms",
              "zoom_offset"
            ],
            "pane": "",
            "popup": null,
            "popup_max_height": null,
            "popup_max_width": 300,
            "popup_min_width": 50,
            "show_loading": false,
            "subitems": [],
            "tile_size": 256,
            "tms": false,
            "url": "https://earthengine.googleapis.com/v1alpha/projects/earthengine-legacy/maps/457df3a18e4596fe9971d9db998c210f-30c8bdf41820d622b8a56801d9d263c2/tiles/{z}/{x}/{y}",
            "visible": true,
            "zoom_offset": 0
          }
        },
        "5cb4781d45fd4b10bfbb9d17ba2f28b3": {
          "model_module": "jupyter-leaflet",
          "model_name": "LeafletTileLayerModel",
          "model_module_version": "^0.17",
          "state": {
            "_model_module": "jupyter-leaflet",
            "_model_module_version": "^0.17",
            "_model_name": "LeafletTileLayerModel",
            "_view_count": null,
            "_view_module": "jupyter-leaflet",
            "_view_module_version": "^0.17",
            "_view_name": "LeafletTileLayerView",
            "attribution": "Google Earth Engine",
            "base": false,
            "bottom": true,
            "bounds": null,
            "detect_retina": false,
            "loading": false,
            "max_native_zoom": null,
            "max_zoom": 24,
            "min_native_zoom": null,
            "min_zoom": 0,
            "name": "Landsat image",
            "no_wrap": false,
            "opacity": 1,
            "options": [
              "attribution",
              "bounds",
              "detect_retina",
              "max_native_zoom",
              "max_zoom",
              "min_native_zoom",
              "min_zoom",
              "no_wrap",
              "tile_size",
              "tms",
              "zoom_offset"
            ],
            "pane": "",
            "popup": null,
            "popup_max_height": null,
            "popup_max_width": 300,
            "popup_min_width": 50,
            "show_loading": false,
            "subitems": [],
            "tile_size": 256,
            "tms": false,
            "url": "https://earthengine.googleapis.com/v1alpha/projects/earthengine-legacy/maps/c83348e45ab9dbf47a14f7206965cbda-c705f0994e6d235bcb52c62417db4d8e/tiles/{z}/{x}/{y}",
            "visible": true,
            "zoom_offset": 0
          }
        },
        "d8394b818b46462385de86a640f8eb69": {
          "model_module": "jupyter-leaflet",
          "model_name": "LeafletTileLayerModel",
          "model_module_version": "^0.17",
          "state": {
            "_model_module": "jupyter-leaflet",
            "_model_module_version": "^0.17",
            "_model_name": "LeafletTileLayerModel",
            "_view_count": null,
            "_view_module": "jupyter-leaflet",
            "_view_module_version": "^0.17",
            "_view_name": "LeafletTileLayerView",
            "attribution": "Google Earth Engine",
            "base": false,
            "bottom": true,
            "bounds": null,
            "detect_retina": false,
            "loading": false,
            "max_native_zoom": null,
            "max_zoom": 24,
            "min_native_zoom": null,
            "min_zoom": 0,
            "name": "Santa Cruz Mountains ecoregion",
            "no_wrap": false,
            "opacity": 1,
            "options": [
              "attribution",
              "bounds",
              "detect_retina",
              "max_native_zoom",
              "max_zoom",
              "min_native_zoom",
              "min_zoom",
              "no_wrap",
              "tile_size",
              "tms",
              "zoom_offset"
            ],
            "pane": "",
            "popup": null,
            "popup_max_height": null,
            "popup_max_width": 300,
            "popup_min_width": 50,
            "show_loading": false,
            "subitems": [],
            "tile_size": 256,
            "tms": false,
            "url": "https://earthengine.googleapis.com/v1alpha/projects/earthengine-legacy/maps/5aa9c4598de9b2c1f6544c0cbd19d28d-86c8c3bdd88ff8a1ddf04cc858a21bdb/tiles/{z}/{x}/{y}",
            "visible": true,
            "zoom_offset": 0
          }
        }
      }
    }
  },
  "nbformat": 4,
  "nbformat_minor": 0
}